{
 "cells": [
  {
   "cell_type": "code",
   "execution_count": 1,
   "metadata": {},
   "outputs": [],
   "source": [
    "import time\n",
    "from datetime import datetime, timezone"
   ]
  },
  {
   "cell_type": "markdown",
   "metadata": {},
   "source": [
    "##  Allows a function to run only on odd seconds"
   ]
  },
  {
   "cell_type": "code",
   "execution_count": 15,
   "metadata": {},
   "outputs": [],
   "source": [
    "def dec_odd_secs(fn):\n",
    "    \"\"\"\n",
    "    Decorator to ensure that function that it decorates runs only on odd seconds.\n",
    "    \"\"\"\n",
    "    import time\n",
    "    from functools import wraps\n",
    "    \n",
    "    @wraps(fn)\n",
    "    def inner(*args, **kwargs):\n",
    "        secs = round(time.time(), 0)\n",
    "        if secs % 2 == 0:\n",
    "            result = f'Not right time to run {fn.__name__}. Odd times - {secs} !'\n",
    "        else:\n",
    "            result = fn(*args, **kwargs)\n",
    "            print(f'{fn.__name__} ran in {secs}')\n",
    "        return result\n",
    "    return inner"
   ]
  },
  {
   "cell_type": "code",
   "execution_count": 16,
   "metadata": {},
   "outputs": [],
   "source": [
    "@dec_odd_secs\n",
    "def fn_odd_secs():\n",
    "    \"\"\"\n",
    "    This is a function i.e. supposed to run only on odd seconds.\n",
    "    \"\"\"\n",
    "    pass"
   ]
  },
  {
   "cell_type": "code",
   "execution_count": 24,
   "metadata": {},
   "outputs": [
    {
     "data": {
      "text/plain": [
       "'\\n    This is a function i.e. supposed to run only on odd seconds.\\n    '"
      ]
     },
     "execution_count": 24,
     "metadata": {},
     "output_type": "execute_result"
    }
   ],
   "source": [
    "fn_odd_secs.__doc__"
   ]
  },
  {
   "cell_type": "code",
   "execution_count": 57,
   "metadata": {},
   "outputs": [
    {
     "name": "stdout",
     "output_type": "stream",
     "text": [
      " Odd secs : 1624526845.0\n",
      "fn_odd_secs ran in 1624526845.0\n"
     ]
    }
   ],
   "source": [
    "if round(time.time(),0) % 2 != 0:\n",
    "    print(f' Odd secs : {round(time.time(),0)}')\n",
    "    fn_odd_secs()\n",
    "else:\n",
    "    print(f' Even secs : {round(time.time(),0)}')"
   ]
  },
  {
   "cell_type": "code",
   "execution_count": 2,
   "metadata": {},
   "outputs": [],
   "source": [
    "def dec_take_time(secs):\n",
    "    def dec_odd_secs(fn):\n",
    "        \"\"\"\n",
    "        Decorator to ensure that function that it decorates runs only on odd seconds.\n",
    "        \"\"\"\n",
    "        import time\n",
    "        from functools import wraps\n",
    "\n",
    "        @wraps(fn)\n",
    "        def inner(*args, **kwargs):\n",
    "            if secs % 2 == 0:\n",
    "                result = f'Not right time to run {fn.__name__}. Odd times - {secs} !'\n",
    "            else:\n",
    "                result = fn(*args, **kwargs)\n",
    "                print(f'{fn.__name__} ran in {secs}')\n",
    "            return result\n",
    "        return inner\n",
    "    return dec_odd_secs"
   ]
  },
  {
   "cell_type": "code",
   "execution_count": 3,
   "metadata": {},
   "outputs": [],
   "source": [
    "@dec_take_time(round(time.time(), 0))\n",
    "def fn_odd_secs():\n",
    "    \"\"\"\n",
    "    This is a function i.e. supposed to run only on odd seconds.\n",
    "    \"\"\"\n",
    "    pass"
   ]
  },
  {
   "cell_type": "code",
   "execution_count": 18,
   "metadata": {},
   "outputs": [
    {
     "name": "stdout",
     "output_type": "stream",
     "text": [
      "fn_odd_secs ran in 1624976551.0\n"
     ]
    }
   ],
   "source": [
    "fn_odd_secs()"
   ]
  },
  {
   "cell_type": "code",
   "execution_count": 23,
   "metadata": {},
   "outputs": [
    {
     "name": "stdout",
     "output_type": "stream",
     "text": [
      "fn_odd_secs ran in 1624976561.0\n"
     ]
    }
   ],
   "source": [
    "fn_odd_secs()"
   ]
  },
  {
   "cell_type": "markdown",
   "metadata": {},
   "source": [
    "## LOG"
   ]
  },
  {
   "cell_type": "markdown",
   "metadata": {},
   "source": [
    "### This log will provide a time stamp while calling a function"
   ]
  },
  {
   "cell_type": "code",
   "execution_count": 49,
   "metadata": {},
   "outputs": [],
   "source": [
    "## Logging for functions\n",
    "def logger(fn:'function')->'function':\n",
    "    \"\"\"\n",
    "    Decorator that keeps log of time at which function that it decorates is invoked.\"\n",
    "    \"\"\"\n",
    "    from datetime import datetime, timezone\n",
    "    from functools import wraps\n",
    "    from time import perf_counter\n",
    "\n",
    "    @wraps(fn)\n",
    "    def inner(*args, **kwargs):\n",
    "        start = perf_counter()\n",
    "        time_called = datetime.now(timezone.utc)\n",
    "        result = fn(*args, **kwargs)\n",
    "        end = perf_counter()\n",
    "        time_took = end - start\n",
    "        str1 = f'Function name {fn.__name__} was called at {time_called} and result is **{result}**\\n'\n",
    "        str2 = f'Function description is {fn.__doc__}'\n",
    "        str3 = f'Function annotation is {fn.__annotations__} and Execution time is {time_took}'\n",
    "        msg = str1 + str2 + str3\n",
    "        return msg\n",
    "    return inner"
   ]
  },
  {
   "cell_type": "code",
   "execution_count": 50,
   "metadata": {},
   "outputs": [],
   "source": [
    "@logger\n",
    "def add(a:str, b:int)->str:\n",
    "    \"\"\"\n",
    "    This is a function's writeup.\n",
    "    This is a function that takes 2 variables var1 which is str and var2 which is int.\n",
    "    Function is decorated to keep a log of time at which it is invoked.\n",
    "    Function will return a string combining var1 and var2\n",
    "    \"\"\"\n",
    "    result = f'{a} and {b} are input supplied'\n",
    "    return result"
   ]
  },
  {
   "cell_type": "code",
   "execution_count": 51,
   "metadata": {},
   "outputs": [
    {
     "data": {
      "text/plain": [
       "\"\\n    This is a function's writeup.\\n    This is a function that takes 2 variables var1 which is str and var2 which is int.\\n    Function is decorated to keep a log of time at which it is invoked.\\n    Function will return a string combining var1 and var2\\n    \""
      ]
     },
     "execution_count": 51,
     "metadata": {},
     "output_type": "execute_result"
    }
   ],
   "source": [
    "add.__doc__"
   ]
  },
  {
   "cell_type": "code",
   "execution_count": 52,
   "metadata": {},
   "outputs": [
    {
     "data": {
      "text/plain": [
       "\"Function name add was called at 2021-07-01 14:43:11.571378+00:00 and result is **abc and 10 are input supplied**\\nFunction description is \\n    This is a function's writeup.\\n    This is a function that takes 2 variables var1 which is str and var2 which is int.\\n    Function is decorated to keep a log of time at which it is invoked.\\n    Function will return a string combining var1 and var2\\n    Function annotation is {'a': <class 'str'>, 'b': <class 'int'>, 'return': <class 'str'>} and Execution time is 5.40000110049732e-06\""
      ]
     },
     "execution_count": 52,
     "metadata": {},
     "output_type": "execute_result"
    }
   ],
   "source": [
    "add('abc',10)"
   ]
  },
  {
   "cell_type": "code",
   "execution_count": 16,
   "metadata": {},
   "outputs": [
    {
     "data": {
      "text/plain": [
       "{'a': int, 'b': int, 'return': int}"
      ]
     },
     "execution_count": 16,
     "metadata": {},
     "output_type": "execute_result"
    }
   ],
   "source": [
    "add.__annotations__"
   ]
  },
  {
   "cell_type": "markdown",
   "metadata": {},
   "source": [
    "### Below decorator will provide info of an object"
   ]
  },
  {
   "cell_type": "code",
   "execution_count": 25,
   "metadata": {},
   "outputs": [],
   "source": [
    "def info(obj):\n",
    "    logs = []\n",
    "    logs.append(f' Object belongs to the class: {obj.__class__.__name__}')\n",
    "    logs.append(f' Id of object : {hex(id(obj))}')\n",
    "    logs.append(f' Object was called at : {datetime.now(timezone.utc)} UTC')\n",
    "    return logs"
   ]
  },
  {
   "cell_type": "code",
   "execution_count": 26,
   "metadata": {},
   "outputs": [],
   "source": [
    "def dec_debug(cls):\n",
    "    cls.debug_info = info\n",
    "    return cls"
   ]
  },
  {
   "cell_type": "code",
   "execution_count": 27,
   "metadata": {},
   "outputs": [],
   "source": [
    "@dec_debug\n",
    "class Country():\n",
    "    def __init__(self, name, capital, population, GDP):\n",
    "        self.name = name\n",
    "        self.capital = capital\n",
    "        self.population = population\n",
    "        self.GDP = GDP\n",
    "        \n",
    "    def __call__(self):\n",
    "        return f'Country is {self.name}'"
   ]
  },
  {
   "cell_type": "code",
   "execution_count": 28,
   "metadata": {},
   "outputs": [],
   "source": [
    "India = Country('India', 'Delhi', '1.3B', '$3.05 t')"
   ]
  },
  {
   "cell_type": "code",
   "execution_count": 29,
   "metadata": {},
   "outputs": [
    {
     "data": {
      "text/plain": [
       "'Country is India'"
      ]
     },
     "execution_count": 29,
     "metadata": {},
     "output_type": "execute_result"
    }
   ],
   "source": [
    "India()"
   ]
  },
  {
   "cell_type": "code",
   "execution_count": 30,
   "metadata": {},
   "outputs": [
    {
     "data": {
      "text/plain": [
       "[' Object belongs to the class: Country',\n",
       " ' Id of object : 0x1e29e555ca0',\n",
       " ' Object was called at : 2021-06-29 15:22:45.859607+00:00 UTC']"
      ]
     },
     "execution_count": 30,
     "metadata": {},
     "output_type": "execute_result"
    }
   ],
   "source": [
    "India.debug_info()"
   ]
  },
  {
   "cell_type": "code",
   "execution_count": 31,
   "metadata": {},
   "outputs": [
    {
     "data": {
      "text/plain": [
       "3"
      ]
     },
     "execution_count": 31,
     "metadata": {},
     "output_type": "execute_result"
    }
   ],
   "source": [
    "len(India.debug_info())"
   ]
  },
  {
   "cell_type": "markdown",
   "metadata": {},
   "source": [
    "## Authenticate - Will allow to run a function only once authenticated"
   ]
  },
  {
   "cell_type": "code",
   "execution_count": 131,
   "metadata": {},
   "outputs": [],
   "source": [
    "def dec_factory(user_pwd):\n",
    "    def dec_authenticate(fn):\n",
    "        pwd = 'Buddha-Smiling'\n",
    "\n",
    "        def inner(*args, **kwargs):\n",
    "            if user_pwd == pwd:\n",
    "                result = fn(*args, **kwargs)\n",
    "                return f'Authentication success & result is {result}'\n",
    "            else:\n",
    "                return f'Authentication failed !!'   \n",
    "        return inner\n",
    "    return dec_authenticate"
   ]
  },
  {
   "cell_type": "code",
   "execution_count": 132,
   "metadata": {},
   "outputs": [],
   "source": [
    "@dec_factory('anil')\n",
    "def div(a, b):\n",
    "    \"\"\"\n",
    "    This function is to divide 2 given numbers\n",
    "    \"\"\"\n",
    "    return a/b"
   ]
  },
  {
   "cell_type": "code",
   "execution_count": 133,
   "metadata": {},
   "outputs": [
    {
     "data": {
      "text/plain": [
       "'Authentication failed !!'"
      ]
     },
     "execution_count": 133,
     "metadata": {},
     "output_type": "execute_result"
    }
   ],
   "source": [
    "div(10, 2)"
   ]
  },
  {
   "cell_type": "code",
   "execution_count": 137,
   "metadata": {},
   "outputs": [],
   "source": [
    "@dec_factory('Buddha-Smiling')\n",
    "def remainder(a, b):\n",
    "    \"\"\"\n",
    "    This function is to divide 2 given numbers and give its remainder\n",
    "    \"\"\"\n",
    "    return a%b"
   ]
  },
  {
   "cell_type": "code",
   "execution_count": 136,
   "metadata": {},
   "outputs": [
    {
     "data": {
      "text/plain": [
       "'Authentication success & result is 0'"
      ]
     },
     "execution_count": 136,
     "metadata": {},
     "output_type": "execute_result"
    }
   ],
   "source": [
    "remainder(12, 2)"
   ]
  },
  {
   "cell_type": "markdown",
   "metadata": {},
   "source": [
    "### Timer - This decorator should run a function 'n' number of times and give back the average time took"
   ]
  },
  {
   "cell_type": "code",
   "execution_count": 27,
   "metadata": {},
   "outputs": [],
   "source": [
    "##Version to understand the flow"
   ]
  },
  {
   "cell_type": "code",
   "execution_count": 28,
   "metadata": {},
   "outputs": [],
   "source": [
    "def dec_factory(repeat):\n",
    "    print('dec_factory')\n",
    "    \n",
    "    def dec_timed(fn):\n",
    "        \n",
    "        total_elapsed = 0\n",
    "        total_cnt     = 0\n",
    "        print('dec_timed')\n",
    "        \n",
    "        from functools import wraps\n",
    "        from time import perf_counter\n",
    "        @wraps(fn)\n",
    "        def inner(*args, **kwargs):\n",
    "            print('inner-in')\n",
    "            nonlocal total_elapsed\n",
    "            nonlocal total_cnt\n",
    "            for i in range(repeat):\n",
    "                start  = perf_counter()\n",
    "                result = fn(*args, **kwargs)\n",
    "                print(f'repeat:{i}, args:{args}, results:{result}')                \n",
    "                end    = perf_counter()\n",
    "                total_elapsed += (end-start)\n",
    "                total_cnt     += 1\n",
    "            print('inner-out')    \n",
    "            avg_time = total_elapsed/total_cnt\n",
    "            #return f'Function - {fn.__name__} ran {repeat} times & took {avg_time} secs. Result is {result}'\n",
    "            return result\n",
    "        print('dec_timed:out')\n",
    "        return inner\n",
    "    print('dec_factory:out')\n",
    "    return dec_timed                "
   ]
  },
  {
   "cell_type": "code",
   "execution_count": 29,
   "metadata": {},
   "outputs": [
    {
     "name": "stdout",
     "output_type": "stream",
     "text": [
      "dec_factory\n",
      "dec_factory:out\n",
      "dec_timed\n",
      "dec_timed:out\n"
     ]
    }
   ],
   "source": [
    "#with lru_cache\n",
    "\n",
    "from functools import lru_cache\n",
    "\n",
    "@dec_factory(4)\n",
    "@lru_cache(maxsize=4)\n",
    "def fact(n):\n",
    "    print(f'Calculating fact({n})')\n",
    "    return 1 if n < 2 else n * fact(n-1)"
   ]
  },
  {
   "cell_type": "code",
   "execution_count": 30,
   "metadata": {},
   "outputs": [
    {
     "name": "stdout",
     "output_type": "stream",
     "text": [
      "inner-in\n",
      "Calculating fact(3)\n",
      "inner-in\n",
      "Calculating fact(2)\n",
      "inner-in\n",
      "Calculating fact(1)\n",
      "repeat:0, args:(1,), results:1\n",
      "repeat:1, args:(1,), results:1\n",
      "repeat:2, args:(1,), results:1\n",
      "repeat:3, args:(1,), results:1\n",
      "inner-out\n",
      "repeat:0, args:(2,), results:2\n",
      "repeat:1, args:(2,), results:2\n",
      "repeat:2, args:(2,), results:2\n",
      "repeat:3, args:(2,), results:2\n",
      "inner-out\n",
      "repeat:0, args:(3,), results:6\n",
      "repeat:1, args:(3,), results:6\n",
      "repeat:2, args:(3,), results:6\n",
      "repeat:3, args:(3,), results:6\n",
      "inner-out\n"
     ]
    },
    {
     "data": {
      "text/plain": [
       "6"
      ]
     },
     "execution_count": 30,
     "metadata": {},
     "output_type": "execute_result"
    }
   ],
   "source": [
    "fact(3)"
   ]
  },
  {
   "cell_type": "code",
   "execution_count": 31,
   "metadata": {},
   "outputs": [
    {
     "name": "stdout",
     "output_type": "stream",
     "text": [
      "dec_factory\n",
      "dec_factory:out\n",
      "dec_timed\n",
      "dec_timed:out\n"
     ]
    }
   ],
   "source": [
    "#without lru_cache. We can see more displays\n",
    "\n",
    "@dec_factory(4)\n",
    "def fact(n):\n",
    "    print(f'Calculating fact({n})')\n",
    "    return 1 if n < 2 else n * fact(n-1)"
   ]
  },
  {
   "cell_type": "code",
   "execution_count": 32,
   "metadata": {},
   "outputs": [
    {
     "name": "stdout",
     "output_type": "stream",
     "text": [
      "inner-in\n",
      "Calculating fact(3)\n",
      "inner-in\n",
      "Calculating fact(2)\n",
      "inner-in\n",
      "Calculating fact(1)\n",
      "repeat:0, args:(1,), results:1\n",
      "Calculating fact(1)\n",
      "repeat:1, args:(1,), results:1\n",
      "Calculating fact(1)\n",
      "repeat:2, args:(1,), results:1\n",
      "Calculating fact(1)\n",
      "repeat:3, args:(1,), results:1\n",
      "inner-out\n",
      "repeat:0, args:(2,), results:2\n",
      "Calculating fact(2)\n",
      "inner-in\n",
      "Calculating fact(1)\n",
      "repeat:0, args:(1,), results:1\n",
      "Calculating fact(1)\n",
      "repeat:1, args:(1,), results:1\n",
      "Calculating fact(1)\n",
      "repeat:2, args:(1,), results:1\n",
      "Calculating fact(1)\n",
      "repeat:3, args:(1,), results:1\n",
      "inner-out\n",
      "repeat:1, args:(2,), results:2\n",
      "Calculating fact(2)\n",
      "inner-in\n",
      "Calculating fact(1)\n",
      "repeat:0, args:(1,), results:1\n",
      "Calculating fact(1)\n",
      "repeat:1, args:(1,), results:1\n",
      "Calculating fact(1)\n",
      "repeat:2, args:(1,), results:1\n",
      "Calculating fact(1)\n",
      "repeat:3, args:(1,), results:1\n",
      "inner-out\n",
      "repeat:2, args:(2,), results:2\n",
      "Calculating fact(2)\n",
      "inner-in\n",
      "Calculating fact(1)\n",
      "repeat:0, args:(1,), results:1\n",
      "Calculating fact(1)\n",
      "repeat:1, args:(1,), results:1\n",
      "Calculating fact(1)\n",
      "repeat:2, args:(1,), results:1\n",
      "Calculating fact(1)\n",
      "repeat:3, args:(1,), results:1\n",
      "inner-out\n",
      "repeat:3, args:(2,), results:2\n",
      "inner-out\n",
      "repeat:0, args:(3,), results:6\n",
      "Calculating fact(3)\n",
      "inner-in\n",
      "Calculating fact(2)\n",
      "inner-in\n",
      "Calculating fact(1)\n",
      "repeat:0, args:(1,), results:1\n",
      "Calculating fact(1)\n",
      "repeat:1, args:(1,), results:1\n",
      "Calculating fact(1)\n",
      "repeat:2, args:(1,), results:1\n",
      "Calculating fact(1)\n",
      "repeat:3, args:(1,), results:1\n",
      "inner-out\n",
      "repeat:0, args:(2,), results:2\n",
      "Calculating fact(2)\n",
      "inner-in\n",
      "Calculating fact(1)\n",
      "repeat:0, args:(1,), results:1\n",
      "Calculating fact(1)\n",
      "repeat:1, args:(1,), results:1\n",
      "Calculating fact(1)\n",
      "repeat:2, args:(1,), results:1\n",
      "Calculating fact(1)\n",
      "repeat:3, args:(1,), results:1\n",
      "inner-out\n",
      "repeat:1, args:(2,), results:2\n",
      "Calculating fact(2)\n",
      "inner-in\n",
      "Calculating fact(1)\n",
      "repeat:0, args:(1,), results:1\n",
      "Calculating fact(1)\n",
      "repeat:1, args:(1,), results:1\n",
      "Calculating fact(1)\n",
      "repeat:2, args:(1,), results:1\n",
      "Calculating fact(1)\n",
      "repeat:3, args:(1,), results:1\n",
      "inner-out\n",
      "repeat:2, args:(2,), results:2\n",
      "Calculating fact(2)\n",
      "inner-in\n",
      "Calculating fact(1)\n",
      "repeat:0, args:(1,), results:1\n",
      "Calculating fact(1)\n",
      "repeat:1, args:(1,), results:1\n",
      "Calculating fact(1)\n",
      "repeat:2, args:(1,), results:1\n",
      "Calculating fact(1)\n",
      "repeat:3, args:(1,), results:1\n",
      "inner-out\n",
      "repeat:3, args:(2,), results:2\n",
      "inner-out\n",
      "repeat:1, args:(3,), results:6\n",
      "Calculating fact(3)\n",
      "inner-in\n",
      "Calculating fact(2)\n",
      "inner-in\n",
      "Calculating fact(1)\n",
      "repeat:0, args:(1,), results:1\n",
      "Calculating fact(1)\n",
      "repeat:1, args:(1,), results:1\n",
      "Calculating fact(1)\n",
      "repeat:2, args:(1,), results:1\n",
      "Calculating fact(1)\n",
      "repeat:3, args:(1,), results:1\n",
      "inner-out\n",
      "repeat:0, args:(2,), results:2\n",
      "Calculating fact(2)\n",
      "inner-in\n",
      "Calculating fact(1)\n",
      "repeat:0, args:(1,), results:1\n",
      "Calculating fact(1)\n",
      "repeat:1, args:(1,), results:1\n",
      "Calculating fact(1)\n",
      "repeat:2, args:(1,), results:1\n",
      "Calculating fact(1)\n",
      "repeat:3, args:(1,), results:1\n",
      "inner-out\n",
      "repeat:1, args:(2,), results:2\n",
      "Calculating fact(2)\n",
      "inner-in\n",
      "Calculating fact(1)\n",
      "repeat:0, args:(1,), results:1\n",
      "Calculating fact(1)\n",
      "repeat:1, args:(1,), results:1\n",
      "Calculating fact(1)\n",
      "repeat:2, args:(1,), results:1\n",
      "Calculating fact(1)\n",
      "repeat:3, args:(1,), results:1\n",
      "inner-out\n",
      "repeat:2, args:(2,), results:2\n",
      "Calculating fact(2)\n",
      "inner-in\n",
      "Calculating fact(1)\n",
      "repeat:0, args:(1,), results:1\n",
      "Calculating fact(1)\n",
      "repeat:1, args:(1,), results:1\n",
      "Calculating fact(1)\n",
      "repeat:2, args:(1,), results:1\n",
      "Calculating fact(1)\n",
      "repeat:3, args:(1,), results:1\n",
      "inner-out\n",
      "repeat:3, args:(2,), results:2\n",
      "inner-out\n",
      "repeat:2, args:(3,), results:6\n",
      "Calculating fact(3)\n",
      "inner-in\n",
      "Calculating fact(2)\n",
      "inner-in\n",
      "Calculating fact(1)\n",
      "repeat:0, args:(1,), results:1\n",
      "Calculating fact(1)\n",
      "repeat:1, args:(1,), results:1\n",
      "Calculating fact(1)\n",
      "repeat:2, args:(1,), results:1\n",
      "Calculating fact(1)\n",
      "repeat:3, args:(1,), results:1\n",
      "inner-out\n",
      "repeat:0, args:(2,), results:2\n",
      "Calculating fact(2)\n",
      "inner-in\n",
      "Calculating fact(1)\n",
      "repeat:0, args:(1,), results:1\n",
      "Calculating fact(1)\n",
      "repeat:1, args:(1,), results:1\n",
      "Calculating fact(1)\n",
      "repeat:2, args:(1,), results:1\n",
      "Calculating fact(1)\n",
      "repeat:3, args:(1,), results:1\n",
      "inner-out\n",
      "repeat:1, args:(2,), results:2\n",
      "Calculating fact(2)\n",
      "inner-in\n",
      "Calculating fact(1)\n",
      "repeat:0, args:(1,), results:1\n",
      "Calculating fact(1)\n",
      "repeat:1, args:(1,), results:1\n",
      "Calculating fact(1)\n",
      "repeat:2, args:(1,), results:1\n",
      "Calculating fact(1)\n",
      "repeat:3, args:(1,), results:1\n",
      "inner-out\n",
      "repeat:2, args:(2,), results:2\n",
      "Calculating fact(2)\n",
      "inner-in\n",
      "Calculating fact(1)\n",
      "repeat:0, args:(1,), results:1\n",
      "Calculating fact(1)\n",
      "repeat:1, args:(1,), results:1\n",
      "Calculating fact(1)\n",
      "repeat:2, args:(1,), results:1\n",
      "Calculating fact(1)\n",
      "repeat:3, args:(1,), results:1\n",
      "inner-out\n",
      "repeat:3, args:(2,), results:2\n",
      "inner-out\n",
      "repeat:3, args:(3,), results:6\n",
      "inner-out\n"
     ]
    },
    {
     "data": {
      "text/plain": [
       "6"
      ]
     },
     "execution_count": 32,
     "metadata": {},
     "output_type": "execute_result"
    }
   ],
   "source": [
    "fact(3)"
   ]
  },
  {
   "cell_type": "code",
   "execution_count": 33,
   "metadata": {},
   "outputs": [],
   "source": [
    "# Assignment version\n",
    "\n",
    "def dec_factory(repeat):\n",
    "    \n",
    "    def dec_timed(fn):\n",
    "        \n",
    "        total_elapsed = 0\n",
    "        total_cnt     = 0\n",
    "        \n",
    "        from functools import wraps\n",
    "        from time import perf_counter\n",
    "        @wraps(fn)\n",
    "        def inner(*args, **kwargs):\n",
    "            nonlocal total_elapsed\n",
    "            nonlocal total_cnt\n",
    "            for i in range(repeat):\n",
    "                start  = perf_counter()\n",
    "                result = fn(*args, **kwargs)           \n",
    "                end    = perf_counter()\n",
    "                total_elapsed += (end-start)\n",
    "                total_cnt     += 1\n",
    "            avg_time = total_elapsed/total_cnt\n",
    "            return f'Function - {fn.__name__} ran {repeat} times & took {avg_time} secs. Result is {result}'\n",
    "        return inner\n",
    "    return dec_timed     "
   ]
  },
  {
   "cell_type": "code",
   "execution_count": 39,
   "metadata": {},
   "outputs": [],
   "source": [
    "@dec_factory(100_000_000)\n",
    "def add(a,b):\n",
    "    return a + b"
   ]
  },
  {
   "cell_type": "code",
   "execution_count": 40,
   "metadata": {},
   "outputs": [
    {
     "data": {
      "text/plain": [
       "'Function - add ran 100000000 times & took 3.2433564499089697e-07 secs. Result is 300'"
      ]
     },
     "execution_count": 40,
     "metadata": {},
     "output_type": "execute_result"
    }
   ],
   "source": [
    "add(100, 200)"
   ]
  },
  {
   "cell_type": "markdown",
   "metadata": {},
   "source": [
    "### Provides privilege access (has 4 parameters, based on privileges (high, mid, low, no), gives access to all 4, 3, 2 or 1 params)"
   ]
  },
  {
   "cell_type": "code",
   "execution_count": 53,
   "metadata": {},
   "outputs": [],
   "source": [
    "user_list = {'Amit':'All', \n",
    "             'Amir':'Medical',\n",
    "             'Anil':'Dental',\n",
    "             'Sachin':'Vision'\n",
    "                }"
   ]
  },
  {
   "cell_type": "code",
   "execution_count": 64,
   "metadata": {},
   "outputs": [],
   "source": [
    "def dec_factory(privilege_lvl):\n",
    "\n",
    "    def dec_privilege(fn):\n",
    "        access = {'high':('add2', 'remove', 'modify', 'view'), 'mid':('add', 'modify', 'view'), 'low':('view'),'no':()}\n",
    "        def inner(*args, **kwargs):\n",
    "            available_fns = access[privilege_lvl]\n",
    "            if fn.__name__ in available_fns:\n",
    "                result = fn(*args, **kwargs)\n",
    "            else:\n",
    "                result = f'Function **{fn.__name__}** is not available for privilige level **{privilege_lvl}**'\n",
    "            return result\n",
    "        return inner\n",
    "    return dec_privilege          \n",
    "        "
   ]
  },
  {
   "cell_type": "code",
   "execution_count": 55,
   "metadata": {},
   "outputs": [],
   "source": [
    "@dec_factory('high')\n",
    "def add(user_input):\n",
    "    name, coverage = user_input\n",
    "    if name in user_list:\n",
    "        response = f'{name} already exists, please use modify'\n",
    "    else:\n",
    "        user_list[name] = coverage\n",
    "        response = f'{name} added with coverage : {coverage} in user list'\n",
    "    return response"
   ]
  },
  {
   "cell_type": "code",
   "execution_count": 56,
   "metadata": {},
   "outputs": [
    {
     "data": {
      "text/plain": [
       "'Akshay added with coverage : Vision in user list'"
      ]
     },
     "execution_count": 56,
     "metadata": {},
     "output_type": "execute_result"
    }
   ],
   "source": [
    "add(('Akshay','Vision'))"
   ]
  },
  {
   "cell_type": "code",
   "execution_count": 57,
   "metadata": {},
   "outputs": [
    {
     "data": {
      "text/plain": [
       "'Akshay already exists, please use modify'"
      ]
     },
     "execution_count": 57,
     "metadata": {},
     "output_type": "execute_result"
    }
   ],
   "source": [
    "add(('Akshay','Vision'))"
   ]
  },
  {
   "cell_type": "code",
   "execution_count": 61,
   "metadata": {},
   "outputs": [],
   "source": [
    "@dec_factory('low')\n",
    "def add(user_input):\n",
    "    name, coverage = user_input\n",
    "    if name in user_list:\n",
    "        response = f'{name} already exists, please use modify'\n",
    "    else:\n",
    "        user_list[name] = coverage\n",
    "        response = f'{name} added with coverage : {coverage} in user list'\n",
    "    return response"
   ]
  },
  {
   "cell_type": "code",
   "execution_count": 62,
   "metadata": {},
   "outputs": [
    {
     "data": {
      "text/plain": [
       "'Function add is not available for privilige level low'"
      ]
     },
     "execution_count": 62,
     "metadata": {},
     "output_type": "execute_result"
    }
   ],
   "source": [
    "add(('Akshay','Vision'))"
   ]
  },
  {
   "cell_type": "code",
   "execution_count": 63,
   "metadata": {},
   "outputs": [],
   "source": [
    "@dec_factory('high')\n",
    "def remove(user_input):\n",
    "    name = user_input\n",
    "    if name in user_list:\n",
    "        user_list[name] = ()\n",
    "        response = f'Coverage removed for {name}'\n",
    "    else:\n",
    "        response = f'{name} already not present in user list & hence no coverage exists'\n",
    "    return response"
   ]
  },
  {
   "cell_type": "code",
   "execution_count": 64,
   "metadata": {},
   "outputs": [
    {
     "data": {
      "text/plain": [
       "{'Amit': 'All',\n",
       " 'Amir': 'Medical',\n",
       " 'Anil': 'Dental',\n",
       " 'Sachin': 'Vision',\n",
       " 'Akshay': 'Vision'}"
      ]
     },
     "execution_count": 64,
     "metadata": {},
     "output_type": "execute_result"
    }
   ],
   "source": [
    "user_list"
   ]
  },
  {
   "cell_type": "code",
   "execution_count": 65,
   "metadata": {},
   "outputs": [
    {
     "data": {
      "text/plain": [
       "'Coverage removed for Akshay'"
      ]
     },
     "execution_count": 65,
     "metadata": {},
     "output_type": "execute_result"
    }
   ],
   "source": [
    "remove('Akshay')"
   ]
  },
  {
   "cell_type": "code",
   "execution_count": 66,
   "metadata": {},
   "outputs": [
    {
     "data": {
      "text/plain": [
       "{'Amit': 'All',\n",
       " 'Amir': 'Medical',\n",
       " 'Anil': 'Dental',\n",
       " 'Sachin': 'Vision',\n",
       " 'Akshay': ()}"
      ]
     },
     "execution_count": 66,
     "metadata": {},
     "output_type": "execute_result"
    }
   ],
   "source": [
    "user_list"
   ]
  },
  {
   "cell_type": "code",
   "execution_count": 67,
   "metadata": {},
   "outputs": [
    {
     "data": {
      "text/plain": [
       "'Dravid already not present in user list & hence no coverage exists'"
      ]
     },
     "execution_count": 67,
     "metadata": {},
     "output_type": "execute_result"
    }
   ],
   "source": [
    "remove('Dravid')"
   ]
  },
  {
   "cell_type": "code",
   "execution_count": 68,
   "metadata": {},
   "outputs": [],
   "source": [
    "@dec_factory('mid')\n",
    "def remove(user_input):\n",
    "    name = user_input\n",
    "    if name in user_list:\n",
    "        user_list[name] = ()\n",
    "        response = f'Coverage removed for {name}'\n",
    "    else:\n",
    "        response = f'{name} already not present in user list & hence no coverage exists'\n",
    "    return response"
   ]
  },
  {
   "cell_type": "code",
   "execution_count": 69,
   "metadata": {},
   "outputs": [
    {
     "data": {
      "text/plain": [
       "'Function remove is not available for privilige level mid'"
      ]
     },
     "execution_count": 69,
     "metadata": {},
     "output_type": "execute_result"
    }
   ],
   "source": [
    "remove('Akshay')"
   ]
  },
  {
   "cell_type": "code",
   "execution_count": 71,
   "metadata": {},
   "outputs": [],
   "source": [
    "@dec_factory('mid')\n",
    "def modify(user_input):\n",
    "    name, new_coverage = user_input\n",
    "    if name in user_list:\n",
    "        old_coverage    = user_list[name]\n",
    "        user_list[name] = new_coverage\n",
    "        response = f'Coverage modified as new:{new_coverage} from old:{old_coverage} for {name}'\n",
    "    else:\n",
    "        response = f'{name} not present in user list. Please use **add**'\n",
    "    return response"
   ]
  },
  {
   "cell_type": "code",
   "execution_count": 72,
   "metadata": {},
   "outputs": [
    {
     "data": {
      "text/plain": [
       "'Coverage modified as new:Vision from old:() for Akshay'"
      ]
     },
     "execution_count": 72,
     "metadata": {},
     "output_type": "execute_result"
    }
   ],
   "source": [
    "modify(('Akshay','Vision'))"
   ]
  },
  {
   "cell_type": "code",
   "execution_count": 73,
   "metadata": {},
   "outputs": [
    {
     "data": {
      "text/plain": [
       "'Ajay not present in user list. Please use **add**'"
      ]
     },
     "execution_count": 73,
     "metadata": {},
     "output_type": "execute_result"
    }
   ],
   "source": [
    "modify(('Ajay','Dental'))"
   ]
  },
  {
   "cell_type": "code",
   "execution_count": 74,
   "metadata": {},
   "outputs": [],
   "source": [
    "@dec_factory('low')\n",
    "def modify(user_input):\n",
    "    name, new_coverage = user_input\n",
    "    if name in user_list:\n",
    "        old_coverage    = user_list[name]\n",
    "        user_list[name] = new_coverage\n",
    "        response = f'Coverage modified as new:{new_coverage} from old:{old_coverage} for {name}'\n",
    "    else:\n",
    "        response = f'{name} not present in user list. Please use **add**'\n",
    "    return response"
   ]
  },
  {
   "cell_type": "code",
   "execution_count": 75,
   "metadata": {},
   "outputs": [
    {
     "data": {
      "text/plain": [
       "'Function **modify** is not available for privilige level **low**'"
      ]
     },
     "execution_count": 75,
     "metadata": {},
     "output_type": "execute_result"
    }
   ],
   "source": [
    "modify(('Akshay','Dental'))"
   ]
  },
  {
   "cell_type": "code",
   "execution_count": 78,
   "metadata": {},
   "outputs": [],
   "source": [
    "@dec_factory('low')\n",
    "def view(user_input):\n",
    "    name = user_input\n",
    "    if name in user_list:\n",
    "        response = f'Name : {name}, Coverage : {user_list[name]} '\n",
    "    else:\n",
    "        response = f'{name} not present in user list.'\n",
    "    return response"
   ]
  },
  {
   "cell_type": "code",
   "execution_count": 79,
   "metadata": {},
   "outputs": [
    {
     "data": {
      "text/plain": [
       "'Name : Akshay, Coverage : Vision '"
      ]
     },
     "execution_count": 79,
     "metadata": {},
     "output_type": "execute_result"
    }
   ],
   "source": [
    "view('Akshay')"
   ]
  },
  {
   "cell_type": "code",
   "execution_count": 80,
   "metadata": {},
   "outputs": [
    {
     "data": {
      "text/plain": [
       "'Ajay not present in user list.'"
      ]
     },
     "execution_count": 80,
     "metadata": {},
     "output_type": "execute_result"
    }
   ],
   "source": [
    "view('Ajay')"
   ]
  },
  {
   "cell_type": "code",
   "execution_count": 81,
   "metadata": {},
   "outputs": [],
   "source": [
    "@dec_factory('no')\n",
    "def view(user_input):\n",
    "    name = user_input\n",
    "    if name in user_list:\n",
    "        response = f'Name : {name}, Coverage : {user_list[name]} '\n",
    "    else:\n",
    "        response = f'{name} not present in user list.'\n",
    "    return response"
   ]
  },
  {
   "cell_type": "code",
   "execution_count": 82,
   "metadata": {},
   "outputs": [
    {
     "data": {
      "text/plain": [
       "'Function **view** is not available for privilige level **no**'"
      ]
     },
     "execution_count": 82,
     "metadata": {},
     "output_type": "execute_result"
    }
   ],
   "source": [
    "view('Ajay')"
   ]
  },
  {
   "cell_type": "markdown",
   "metadata": {},
   "source": [
    "\n",
    "### Another Approach : \n",
    "***Start with a decorator_factory that takes an argument one of these strings, high, mid, low or no. Then write the decorator that has 4 free variables  based on the argument set by the factory call, give access to 4, 3, 2 or 1 arguments to the function being decorated from var1, var2, var3, var4***"
   ]
  },
  {
   "cell_type": "code",
   "execution_count": 105,
   "metadata": {},
   "outputs": [],
   "source": [
    "def decorator_factory(privilege_lvl):\n",
    "\n",
    "    def dec_privilege(fn):\n",
    "        access = {'high':('add', 'remove', 'modify', 'view'), 'mid':('add', 'modify', 'view'), 'low':('view'),'no':()}\n",
    "        def inner(*args, **kwargs):\n",
    "            if privilege_lvl in access.keys():\n",
    "                return access[privilege_lvl]\n",
    "            else:\n",
    "                return \"Improper access keyword set\"\n",
    "        return inner\n",
    "    return dec_privilege "
   ]
  },
  {
   "cell_type": "code",
   "execution_count": 106,
   "metadata": {},
   "outputs": [],
   "source": [
    "def dummy(*args):\n",
    "    return args"
   ]
  },
  {
   "cell_type": "code",
   "execution_count": 107,
   "metadata": {},
   "outputs": [
    {
     "data": {
      "text/plain": [
       "('add', 'modify', 'view')"
      ]
     },
     "execution_count": 107,
     "metadata": {},
     "output_type": "execute_result"
    }
   ],
   "source": [
    "decorator_factory('mid')(dummy)()"
   ]
  },
  {
   "cell_type": "code",
   "execution_count": 108,
   "metadata": {},
   "outputs": [
    {
     "data": {
      "text/plain": [
       "3"
      ]
     },
     "execution_count": 108,
     "metadata": {},
     "output_type": "execute_result"
    }
   ],
   "source": [
    "len(decorator_factory('mid')(dummy)())"
   ]
  },
  {
   "cell_type": "code",
   "execution_count": 110,
   "metadata": {},
   "outputs": [],
   "source": [
    "@decorator_factory('low')\n",
    "def dummy2(*args):\n",
    "    return args    "
   ]
  },
  {
   "cell_type": "code",
   "execution_count": 111,
   "metadata": {},
   "outputs": [
    {
     "data": {
      "text/plain": [
       "'view'"
      ]
     },
     "execution_count": 111,
     "metadata": {},
     "output_type": "execute_result"
    }
   ],
   "source": [
    "dummy2()"
   ]
  },
  {
   "cell_type": "code",
   "execution_count": 112,
   "metadata": {},
   "outputs": [
    {
     "data": {
      "text/plain": [
       "'Improper access keyword set'"
      ]
     },
     "execution_count": 112,
     "metadata": {},
     "output_type": "execute_result"
    }
   ],
   "source": [
    "@decorator_factory('random')\n",
    "def dummy3(*args):\n",
    "    return args\n",
    "\n",
    "dummy3()"
   ]
  },
  {
   "cell_type": "markdown",
   "metadata": {},
   "source": [
    "## Single Dispatch"
   ]
  },
  {
   "cell_type": "code",
   "execution_count": 1,
   "metadata": {},
   "outputs": [],
   "source": [
    "from functools import singledispatch\n",
    "from html import escape\n",
    "@singledispatch\n",
    "def htmlize(a):\n",
    "    return escape(str(a))"
   ]
  },
  {
   "cell_type": "code",
   "execution_count": 2,
   "metadata": {},
   "outputs": [],
   "source": [
    "@htmlize.register(int)\n",
    "def html_int(a):\n",
    "    return f'{a}(<i>{str(hex(a))}</i>)'\n",
    "\n",
    "@htmlize.register(float)\n",
    "def html_real(a):\n",
    "    return f'{round(a, 2)}'\n",
    "\n",
    "from decimal import Decimal\n",
    "@htmlize.register(Decimal)\n",
    "def html_real(a):\n",
    "    return f'{round(a, 2)}'\n",
    "\n",
    "def html_escape(arg):\n",
    "    return escape(str(arg))\n",
    "\n",
    "@htmlize.register(str)\n",
    "def html_str(s):\n",
    "    return html_escape(s).replace('\\n', '<br/>\\n')\n",
    "\n",
    "@htmlize.register(tuple)\n",
    "@htmlize.register(list)\n",
    "def html_sequence(l):\n",
    "    items = (f'<li>{html_escape(item)}</li>' for item in l)\n",
    "    return '<ul>\\n' + '\\n'.join(items) + '\\n</ul>'\n",
    "\n",
    "@htmlize.register(dict)\n",
    "def html_dict(d):\n",
    "    items = (f'<li>{k}={v}</li>' for k, v in d.items())\n",
    "    return '<ul>\\n' + '\\n'.join(items) + '\\n</ul>'"
   ]
  },
  {
   "cell_type": "code",
   "execution_count": 3,
   "metadata": {},
   "outputs": [
    {
     "data": {
      "text/plain": [
       "'1 &lt; 2'"
      ]
     },
     "execution_count": 3,
     "metadata": {},
     "output_type": "execute_result"
    }
   ],
   "source": [
    "htmlize('1 < 2')"
   ]
  },
  {
   "cell_type": "code",
   "execution_count": 4,
   "metadata": {},
   "outputs": [
    {
     "data": {
      "text/plain": [
       "'<ul>\\n<li>1</li>\\n<li>2</li>\\n<li>3</li>\\n</ul>'"
      ]
     },
     "execution_count": 4,
     "metadata": {},
     "output_type": "execute_result"
    }
   ],
   "source": [
    "htmlize([1,2,3])"
   ]
  },
  {
   "cell_type": "code",
   "execution_count": 5,
   "metadata": {},
   "outputs": [
    {
     "data": {
      "text/plain": [
       "'<ul>\\n<li>1=a</li>\\n<li>2=b</li>\\n</ul>'"
      ]
     },
     "execution_count": 5,
     "metadata": {},
     "output_type": "execute_result"
    }
   ],
   "source": [
    "htmlize({1:'a', 2:'b'})"
   ]
  },
  {
   "cell_type": "code",
   "execution_count": 6,
   "metadata": {},
   "outputs": [
    {
     "data": {
      "text/plain": [
       "'<ul>\\n<li>1</li>\\n<li>2</li>\\n<li>3</li>\\n</ul>'"
      ]
     },
     "execution_count": 6,
     "metadata": {},
     "output_type": "execute_result"
    }
   ],
   "source": [
    "htmlize((1,2,3))"
   ]
  },
  {
   "cell_type": "code",
   "execution_count": 7,
   "metadata": {},
   "outputs": [
    {
     "data": {
      "text/plain": [
       "'3.11'"
      ]
     },
     "execution_count": 7,
     "metadata": {},
     "output_type": "execute_result"
    }
   ],
   "source": [
    "htmlize(3.114789)"
   ]
  },
  {
   "cell_type": "code",
   "execution_count": 8,
   "metadata": {},
   "outputs": [
    {
     "data": {
      "text/plain": [
       "'2(<i>0x2</i>)'"
      ]
     },
     "execution_count": 8,
     "metadata": {},
     "output_type": "execute_result"
    }
   ],
   "source": [
    "htmlize(2)"
   ]
  },
  {
   "cell_type": "code",
   "execution_count": 9,
   "metadata": {},
   "outputs": [
    {
     "data": {
      "text/plain": [
       "'2.0'"
      ]
     },
     "execution_count": 9,
     "metadata": {},
     "output_type": "execute_result"
    }
   ],
   "source": [
    "htmlize(2.0)"
   ]
  },
  {
   "cell_type": "markdown",
   "metadata": {},
   "source": [
    "### Working section"
   ]
  },
  {
   "cell_type": "code",
   "execution_count": 5,
   "metadata": {},
   "outputs": [
    {
     "data": {
      "text/plain": [
       "int"
      ]
     },
     "execution_count": 5,
     "metadata": {},
     "output_type": "execute_result"
    }
   ],
   "source": [
    "sec = datetime.now().second\n",
    "type(sec)"
   ]
  },
  {
   "cell_type": "code",
   "execution_count": null,
   "metadata": {},
   "outputs": [],
   "source": [
    "import timeit"
   ]
  },
  {
   "cell_type": "code",
   "execution_count": 6,
   "metadata": {},
   "outputs": [],
   "source": [
    "def add10(a:int)-> int:\n",
    "    '''\n",
    "    Adds a number with 10\n",
    "    '''\n",
    "    return a + 10"
   ]
  },
  {
   "cell_type": "code",
   "execution_count": null,
   "metadata": {},
   "outputs": [],
   "source": []
  }
 ],
 "metadata": {
  "kernelspec": {
   "display_name": "Python 3",
   "language": "python",
   "name": "python3"
  },
  "language_info": {
   "codemirror_mode": {
    "name": "ipython",
    "version": 3
   },
   "file_extension": ".py",
   "mimetype": "text/x-python",
   "name": "python",
   "nbconvert_exporter": "python",
   "pygments_lexer": "ipython3",
   "version": "3.8.3"
  }
 },
 "nbformat": 4,
 "nbformat_minor": 2
}
