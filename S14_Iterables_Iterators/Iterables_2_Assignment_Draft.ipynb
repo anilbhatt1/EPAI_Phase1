{
 "cells": [
  {
   "cell_type": "markdown",
   "metadata": {},
   "source": [
    "Goal 1:\n",
    "\n",
    "Refactor the `Polygon` class so that all the calculated properties are lazy properties, i.e. they should still be calculated properties, but they should not have to get recalculated more than once (since we made our `Polygon` class \"immutable\").\n",
    " \n",
    "\n",
    "Goal 2:\n",
    "\n",
    "\n",
    "Refactor the `Polygons` (sequence) type, into an **iterable**. Make sure also that the elements in the iterator are computed lazily - i.e. you can no longer use a list as an underlying storage mechanism for your polygons.\n",
    "\n",
    "You'll need to implement both an iterable and an iterator."
   ]
  },
  {
   "cell_type": "code",
   "execution_count": 78,
   "metadata": {},
   "outputs": [],
   "source": [
    "import math\n",
    "\n",
    "class Polygon2:\n",
    "    def __init__(self, n, R):\n",
    "        if n < 3:\n",
    "            raise ValueError('Polygon must have at least 3 vertices.')\n",
    "        self.edge = n  #Edges\n",
    "        self.radius = R  #Circum-Radius\n",
    "        \n",
    "    def __repr__(self):\n",
    "        return f'Polygon(n={self._n}, R={self._R})'\n",
    "    \n",
    "    @property\n",
    "    def edge(self):\n",
    "        return self._n\n",
    "    \n",
    "    @edge.setter\n",
    "    def edge(self, n):\n",
    "        self._n = n\n",
    "        self._int_angle = None\n",
    "        self._side_len  = None\n",
    "        self._apothem   = None\n",
    "        self._area      = None\n",
    "        self._perimeter = None\n",
    "  \n",
    "    @property\n",
    "    def radius(self):\n",
    "        return self._R\n",
    "    \n",
    "    @radius.setter\n",
    "    def radius(self, R):\n",
    "        self._R = R\n",
    "        self._side_len  = None\n",
    "        self._apothem   = None\n",
    "        self._area      = None\n",
    "        self._perimeter = None\n",
    "    \n",
    "    @property\n",
    "    def interior_angle(self):\n",
    "        if self._int_angle is None:\n",
    "            print('Calc IA')\n",
    "            self._int_angle = (self._n - 2) * 180 / self._n\n",
    "        return self._int_angle    \n",
    "    \n",
    "    @property\n",
    "    def side_length(self):\n",
    "        if self._side_len is None:\n",
    "            print('calc SL')\n",
    "            self._side_len = 2 * self._R * math.sin(math.pi / self._n)\n",
    "        return self._side_len\n",
    "    \n",
    "    @property\n",
    "    def apothem(self):\n",
    "        if self._apothem is None:\n",
    "            print('calc apothem')\n",
    "            self._apothem = self._R * math.cos(math.pi / self._n)\n",
    "        return self._apothem\n",
    "    \n",
    "    @property\n",
    "    def area(self):\n",
    "        if self._area is None:\n",
    "            print('calc area')\n",
    "            self._area = self._n / 2 * self.side_length * self.apothem\n",
    "        return self._area\n",
    "    \n",
    "    @property\n",
    "    def perimeter(self):\n",
    "        if self._perimeter is None:\n",
    "            print('calc perimeter')\n",
    "            self._perimeter = self._n * self.side_length\n",
    "        return self._perimeter\n",
    "    \n",
    "    def __eq__(self, other):\n",
    "        if isinstance(other, self.__class__):\n",
    "            return (self._n == other._n \n",
    "                    and self._R == other._R)\n",
    "        else:\n",
    "            return NotImplemented\n",
    "        \n",
    "    def __gt__(self, other):\n",
    "        if isinstance(other, self.__class__):\n",
    "            return self._n > other._n\n",
    "        else:\n",
    "            return NotImplemented"
   ]
  },
  {
   "cell_type": "code",
   "execution_count": 79,
   "metadata": {},
   "outputs": [],
   "source": [
    "p = Polygon2(4, 10)"
   ]
  },
  {
   "cell_type": "code",
   "execution_count": 80,
   "metadata": {},
   "outputs": [
    {
     "name": "stdout",
     "output_type": "stream",
     "text": [
      "p.edge 4\n",
      "p.radius 10\n",
      "Calc IA\n",
      "p.interior_angle 90.0\n",
      "calc SL\n",
      "p.side_length 14.142135623730951\n",
      "calc apothem\n",
      "p.apothem 7.0710678118654755\n",
      "calc area\n",
      "p.area 200.00000000000003\n",
      "calc perimeter\n",
      "p.perimeter 56.568542494923804\n"
     ]
    }
   ],
   "source": [
    "# Calculating IA, sl, a, p\n",
    "print('p.edge', p.edge)\n",
    "print('p.radius', p.radius)\n",
    "print('p.interior_angle', p.interior_angle)\n",
    "print('p.side_length', p.side_length)\n",
    "print('p.apothem', p.apothem)\n",
    "print('p.area', p.area)\n",
    "print('p.perimeter', p.perimeter)"
   ]
  },
  {
   "cell_type": "code",
   "execution_count": 81,
   "metadata": {},
   "outputs": [
    {
     "name": "stdout",
     "output_type": "stream",
     "text": [
      "p.edge 4\n",
      "p.radius 10\n",
      "p.interior_angle 90.0\n",
      "p.side_length 14.142135623730951\n",
      "p.apothem 7.0710678118654755\n",
      "p.area 200.00000000000003\n",
      "p.perimeter 56.568542494923804\n"
     ]
    }
   ],
   "source": [
    "# It should give from cache. No calc statements should appear\n",
    "print('p.edge', p.edge)\n",
    "print('p.radius', p.radius)\n",
    "print('p.interior_angle', p.interior_angle)\n",
    "print('p.side_length', p.side_length)\n",
    "print('p.apothem', p.apothem)\n",
    "print('p.area', p.area)\n",
    "print('p.perimeter', p.perimeter)"
   ]
  },
  {
   "cell_type": "code",
   "execution_count": 82,
   "metadata": {},
   "outputs": [],
   "source": [
    "# Setting edge to a diff. value\n",
    "p.edge = 5"
   ]
  },
  {
   "cell_type": "code",
   "execution_count": 83,
   "metadata": {},
   "outputs": [
    {
     "name": "stdout",
     "output_type": "stream",
     "text": [
      "p.edge 5\n",
      "p.radius 10\n",
      "Calc IA\n",
      "p.interior_angle 108.0\n",
      "calc SL\n",
      "p.side_length 11.755705045849464\n",
      "calc apothem\n",
      "p.apothem 8.090169943749475\n",
      "calc area\n",
      "p.area 237.76412907378844\n",
      "calc perimeter\n",
      "p.perimeter 58.77852522924732\n"
     ]
    }
   ],
   "source": [
    "#Everything should get re-calculated bcoz edge changed\n",
    "print('p.edge', p.edge)\n",
    "print('p.radius', p.radius)\n",
    "print('p.interior_angle', p.interior_angle)\n",
    "print('p.side_length', p.side_length)\n",
    "print('p.apothem', p.apothem)\n",
    "print('p.area', p.area)\n",
    "print('p.perimeter', p.perimeter)"
   ]
  },
  {
   "cell_type": "code",
   "execution_count": 84,
   "metadata": {},
   "outputs": [],
   "source": [
    "#Setting radius to a diff. value\n",
    "p.radius = 11"
   ]
  },
  {
   "cell_type": "code",
   "execution_count": 85,
   "metadata": {},
   "outputs": [
    {
     "name": "stdout",
     "output_type": "stream",
     "text": [
      "p.edge 5\n",
      "p.radius 11\n",
      "p.interior_angle 108.0\n",
      "calc SL\n",
      "p.side_length 12.931275550434409\n",
      "calc apothem\n",
      "p.apothem 8.899186938124423\n",
      "calc area\n",
      "p.area 287.694596179284\n",
      "calc perimeter\n",
      "p.perimeter 64.65637775217205\n"
     ]
    }
   ],
   "source": [
    "##Everything should get re-calculated bcoz radius changed except IA. radius has no relation with IA.\n",
    "print('p.edge', p.edge)\n",
    "print('p.radius', p.radius)\n",
    "print('p.interior_angle', p.interior_angle)\n",
    "print('p.side_length', p.side_length)\n",
    "print('p.apothem', p.apothem)\n",
    "print('p.area', p.area)\n",
    "print('p.perimeter', p.perimeter)"
   ]
  },
  {
   "cell_type": "code",
   "execution_count": 86,
   "metadata": {},
   "outputs": [
    {
     "data": {
      "text/plain": [
       "Polygon(n=5, R=11)"
      ]
     },
     "execution_count": 86,
     "metadata": {},
     "output_type": "execute_result"
    }
   ],
   "source": [
    "p"
   ]
  },
  {
   "cell_type": "code",
   "execution_count": 87,
   "metadata": {},
   "outputs": [],
   "source": [
    "p1 = Polygon2(5, 11)\n",
    "p2 = Polygon2(6, 11)\n",
    "p3 = Polygon2(4, 11)"
   ]
  },
  {
   "cell_type": "code",
   "execution_count": 88,
   "metadata": {},
   "outputs": [
    {
     "name": "stdout",
     "output_type": "stream",
     "text": [
      "True\n",
      "False\n",
      "False\n",
      "True\n",
      "True\n"
     ]
    }
   ],
   "source": [
    "print(p == p1) # True\n",
    "print(p > p1) # False\n",
    "print(p > p2) # False\n",
    "print(p2 > p) # True\n",
    "print(p > p3) # True"
   ]
  },
  {
   "cell_type": "code",
   "execution_count": 100,
   "metadata": {},
   "outputs": [],
   "source": [
    "class Polygons2:\n",
    "    def __init__(self, m, R):\n",
    "        if m < 3:\n",
    "            raise ValueError('m must be greater than 3')\n",
    "        self._m = m\n",
    "        self._R = R\n",
    "        self._polygons = None\n",
    "        \n",
    "    def __len__(self):\n",
    "        return self._m - 2  # To exclude sides=1 and sides=2 as they are not polygons\n",
    "    \n",
    "    def __repr__(self):\n",
    "        return f'Polygons(m={self._m}, R={self._R})'\n",
    "    \n",
    "    def __iter__(self):\n",
    "        return self.polyiterator(self)\n",
    "    \n",
    "    #def __getitem__(self, s):\n",
    "    #    return self._polygons[s]\n",
    "    \n",
    "    @property\n",
    "    def max_efficiency_polygon(self):\n",
    "        if self._polygons is None:\n",
    "            print('calc ME')\n",
    "            self._polygons   = [Polygon2(i, self._R) for i in range(3, self._m+1)]\n",
    "            self._polygons   = sorted(self._polygons, \n",
    "                                      key=lambda p: p.area/p.perimeter,\n",
    "                                      reverse=True)            \n",
    "        return self._polygons[0]\n",
    "    \n",
    "    class polyiterator:\n",
    "        def __init__(self, poly_obj):\n",
    "            self._index = 3\n",
    "            self.poly_obj = poly_obj\n",
    "            \n",
    "        def __iter__(self):\n",
    "            return self\n",
    "        \n",
    "        def __next__(self):\n",
    "            if self._index > self.poly_obj._m:\n",
    "                raise StopIteration\n",
    "            else:\n",
    "                print(f'calc poly, {self._index} out of {self.poly_obj._m}')\n",
    "                poly_ =  Polygon2(self._index, self.poly_obj._R)\n",
    "                result =  f'Sides = {poly_.edge}, Radius = {poly_.radius}, Eff_ratio = {poly_.area/poly_.perimeter}' \n",
    "                self._index += 1\n",
    "                return result"
   ]
  },
  {
   "cell_type": "code",
   "execution_count": 101,
   "metadata": {},
   "outputs": [],
   "source": [
    "pc = Polygons2(6, 10)"
   ]
  },
  {
   "cell_type": "code",
   "execution_count": 102,
   "metadata": {},
   "outputs": [
    {
     "name": "stdout",
     "output_type": "stream",
     "text": [
      "calc ME\n",
      "calc area\n",
      "calc SL\n",
      "calc apothem\n",
      "calc perimeter\n",
      "calc area\n",
      "calc SL\n",
      "calc apothem\n",
      "calc perimeter\n",
      "calc area\n",
      "calc SL\n",
      "calc apothem\n",
      "calc perimeter\n",
      "calc area\n",
      "calc SL\n",
      "calc apothem\n",
      "calc perimeter\n"
     ]
    },
    {
     "data": {
      "text/plain": [
       "Polygon(n=6, R=10)"
      ]
     },
     "execution_count": 102,
     "metadata": {},
     "output_type": "execute_result"
    }
   ],
   "source": [
    "# Everything should get calculated\n",
    "pc.max_efficiency_polygon"
   ]
  },
  {
   "cell_type": "code",
   "execution_count": 103,
   "metadata": {},
   "outputs": [
    {
     "data": {
      "text/plain": [
       "Polygon(n=6, R=10)"
      ]
     },
     "execution_count": 103,
     "metadata": {},
     "output_type": "execute_result"
    }
   ],
   "source": [
    "# This time it should take from cache\n",
    "pc.max_efficiency_polygon"
   ]
  },
  {
   "cell_type": "code",
   "execution_count": 104,
   "metadata": {},
   "outputs": [
    {
     "name": "stdout",
     "output_type": "stream",
     "text": [
      "calc poly, 3 out of 6\n",
      "calc area\n",
      "calc SL\n",
      "calc apothem\n",
      "calc perimeter\n",
      "Sides = 3, Radius = 10, Eff_ratio = 2.5000000000000004\n",
      "calc poly, 4 out of 6\n",
      "calc area\n",
      "calc SL\n",
      "calc apothem\n",
      "calc perimeter\n",
      "Sides = 4, Radius = 10, Eff_ratio = 3.535533905932738\n",
      "calc poly, 5 out of 6\n",
      "calc area\n",
      "calc SL\n",
      "calc apothem\n",
      "calc perimeter\n",
      "Sides = 5, Radius = 10, Eff_ratio = 4.045084971874737\n",
      "calc poly, 6 out of 6\n",
      "calc area\n",
      "calc SL\n",
      "calc apothem\n",
      "calc perimeter\n",
      "Sides = 6, Radius = 10, Eff_ratio = 4.330127018922194\n"
     ]
    }
   ],
   "source": [
    "for i in pc:\n",
    "    print(i)"
   ]
  },
  {
   "cell_type": "code",
   "execution_count": 105,
   "metadata": {},
   "outputs": [],
   "source": [
    "iter1 = iter(pc)"
   ]
  },
  {
   "cell_type": "code",
   "execution_count": 106,
   "metadata": {},
   "outputs": [
    {
     "name": "stdout",
     "output_type": "stream",
     "text": [
      "calc poly, 3 out of 6\n",
      "calc area\n",
      "calc SL\n",
      "calc apothem\n",
      "calc perimeter\n"
     ]
    },
    {
     "data": {
      "text/plain": [
       "'Sides = 3, Radius = 10, Eff_ratio = 2.5000000000000004'"
      ]
     },
     "execution_count": 106,
     "metadata": {},
     "output_type": "execute_result"
    }
   ],
   "source": [
    "next(iter1)"
   ]
  },
  {
   "cell_type": "code",
   "execution_count": 107,
   "metadata": {},
   "outputs": [
    {
     "name": "stdout",
     "output_type": "stream",
     "text": [
      "calc poly, 4 out of 6\n",
      "calc area\n",
      "calc SL\n",
      "calc apothem\n",
      "calc perimeter\n"
     ]
    },
    {
     "data": {
      "text/plain": [
       "'Sides = 4, Radius = 10, Eff_ratio = 3.535533905932738'"
      ]
     },
     "execution_count": 107,
     "metadata": {},
     "output_type": "execute_result"
    }
   ],
   "source": [
    "next(iter1)"
   ]
  },
  {
   "cell_type": "code",
   "execution_count": 108,
   "metadata": {},
   "outputs": [
    {
     "name": "stdout",
     "output_type": "stream",
     "text": [
      "calc poly, 5 out of 6\n",
      "calc area\n",
      "calc SL\n",
      "calc apothem\n",
      "calc perimeter\n"
     ]
    },
    {
     "data": {
      "text/plain": [
       "'Sides = 5, Radius = 10, Eff_ratio = 4.045084971874737'"
      ]
     },
     "execution_count": 108,
     "metadata": {},
     "output_type": "execute_result"
    }
   ],
   "source": [
    "next(iter1)"
   ]
  },
  {
   "cell_type": "code",
   "execution_count": 109,
   "metadata": {},
   "outputs": [
    {
     "name": "stdout",
     "output_type": "stream",
     "text": [
      "calc poly, 6 out of 6\n",
      "calc area\n",
      "calc SL\n",
      "calc apothem\n",
      "calc perimeter\n"
     ]
    },
    {
     "data": {
      "text/plain": [
       "'Sides = 6, Radius = 10, Eff_ratio = 4.330127018922194'"
      ]
     },
     "execution_count": 109,
     "metadata": {},
     "output_type": "execute_result"
    }
   ],
   "source": [
    "next(iter1)"
   ]
  },
  {
   "cell_type": "code",
   "execution_count": 99,
   "metadata": {},
   "outputs": [
    {
     "ename": "StopIteration",
     "evalue": "",
     "output_type": "error",
     "traceback": [
      "\u001b[1;31m---------------------------------------------------------------------------\u001b[0m",
      "\u001b[1;31mStopIteration\u001b[0m                             Traceback (most recent call last)",
      "\u001b[1;32m<ipython-input-99-8c8f0eabcd70>\u001b[0m in \u001b[0;36m<module>\u001b[1;34m\u001b[0m\n\u001b[1;32m----> 1\u001b[1;33m \u001b[0mnext\u001b[0m\u001b[1;33m(\u001b[0m\u001b[0miter1\u001b[0m\u001b[1;33m)\u001b[0m\u001b[1;33m\u001b[0m\u001b[1;33m\u001b[0m\u001b[0m\n\u001b[0m",
      "\u001b[1;32m<ipython-input-89-e4e378fc696b>\u001b[0m in \u001b[0;36m__next__\u001b[1;34m(self)\u001b[0m\n\u001b[0;32m     39\u001b[0m         \u001b[1;32mdef\u001b[0m \u001b[0m__next__\u001b[0m\u001b[1;33m(\u001b[0m\u001b[0mself\u001b[0m\u001b[1;33m)\u001b[0m\u001b[1;33m:\u001b[0m\u001b[1;33m\u001b[0m\u001b[1;33m\u001b[0m\u001b[0m\n\u001b[0;32m     40\u001b[0m             \u001b[1;32mif\u001b[0m \u001b[0mself\u001b[0m\u001b[1;33m.\u001b[0m\u001b[0m_index\u001b[0m \u001b[1;33m>\u001b[0m \u001b[0mself\u001b[0m\u001b[1;33m.\u001b[0m\u001b[0mpoly_obj\u001b[0m\u001b[1;33m.\u001b[0m\u001b[0m_m\u001b[0m\u001b[1;33m:\u001b[0m\u001b[1;33m\u001b[0m\u001b[1;33m\u001b[0m\u001b[0m\n\u001b[1;32m---> 41\u001b[1;33m                 \u001b[1;32mraise\u001b[0m \u001b[0mStopIteration\u001b[0m\u001b[1;33m\u001b[0m\u001b[1;33m\u001b[0m\u001b[0m\n\u001b[0m\u001b[0;32m     42\u001b[0m             \u001b[1;32melse\u001b[0m\u001b[1;33m:\u001b[0m\u001b[1;33m\u001b[0m\u001b[1;33m\u001b[0m\u001b[0m\n\u001b[0;32m     43\u001b[0m                 \u001b[0mprint\u001b[0m\u001b[1;33m(\u001b[0m\u001b[1;34mf'calc poly, {self._index} out of {self.poly_obj._m}'\u001b[0m\u001b[1;33m)\u001b[0m\u001b[1;33m\u001b[0m\u001b[1;33m\u001b[0m\u001b[0m\n",
      "\u001b[1;31mStopIteration\u001b[0m: "
     ]
    }
   ],
   "source": [
    "next(iter1)"
   ]
  },
  {
   "cell_type": "code",
   "execution_count": null,
   "metadata": {},
   "outputs": [],
   "source": []
  }
 ],
 "metadata": {
  "kernelspec": {
   "display_name": "Python 3",
   "language": "python",
   "name": "python3"
  },
  "language_info": {
   "codemirror_mode": {
    "name": "ipython",
    "version": 3
   },
   "file_extension": ".py",
   "mimetype": "text/x-python",
   "name": "python",
   "nbconvert_exporter": "python",
   "pygments_lexer": "ipython3",
   "version": "3.8.3"
  }
 },
 "nbformat": 4,
 "nbformat_minor": 2
}
