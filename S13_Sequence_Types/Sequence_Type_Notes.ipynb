{
 "cells": [
  {
   "cell_type": "markdown",
   "metadata": {},
   "source": [
    "### Notebook Covers following topics:\n",
    "- **Sequence types are indexable**\n",
    "- **All sequence types will be iterable**\n",
    "- **All iterables are not sequence types eg: sets**\n",
    "- **Can use 'in' with iterables**\n",
    "- **Can use 'min' and 'max' with iterables**\n",
    "- **Concatenation**\n",
    "    - Can concatenate 2 sequences of same type eg: list + list\n",
    "    - Can't use for iterables that are not sequence types eg: wont work for sets\n",
    "- **How to convert a string to list**\n",
    "- **How to convert a list to string using 'join'**\n",
    "- **Using * operator for repetition eg: 'abc'*2 = 'abcabc'** - Wont work for iterables that are not sequence types\n",
    "- **Finding position using index eg: s = \"the school of ai of world\" & s.index('o') -> 7**\n",
    "- **Slicing**\n",
    "    - Reversing string [::-1]\n",
    "    - Selecting fixed elements alone from list eg : [0:5:2]\n",
    "    - Selecting fixed elements alone from list in reverse order eg : [5:0:-2]\n",
    "    - Inserting elements in a list in between - replacing the elements as well as without replacing the elements\n",
    "- **list.append() -> [1, 2, 3, [4, 5, 6]] , Original list was [1,2,3]**\n",
    "- **list.extend() -> [1, 2, 3, 4, 5, 6] , Original list was [1,2,3]**\n",
    "    - extend will work only on iterables\n",
    "- **How to delete an element from list**\n",
    "    - pop\n",
    "    - del\n",
    "- **Shallow Copy vs Deep Copy**\n",
    "- **Tuples are highly performant than lists - demonstration using dis**\n",
    "- **Storage efficiency**\n",
    "- **Slice type**\n",
    "- **Building custom sequence types**\n",
    "    - Usage of lru_cache & **staticmethod**\n",
    "    - Usage of slice type\n",
    "- **Inplace concatenation & repetition**\n",
    "    - += and places at which it will work, it won't work & associated memory changes\n",
    "- **Sorting sequences**\n",
    "    - Output will always be a list"
   ]
  },
  {
   "cell_type": "code",
   "execution_count": 16,
   "metadata": {},
   "outputs": [],
   "source": [
    "# Imports for this notebook\n",
    "from decimal import Decimal\n",
    "import copy\n",
    "from dis import dis\n",
    "from timeit import timeit\n",
    "import sys"
   ]
  },
  {
   "cell_type": "markdown",
   "metadata": {},
   "source": [
    "***Sequence types are indexable***"
   ]
  },
  {
   "cell_type": "code",
   "execution_count": 4,
   "metadata": {},
   "outputs": [
    {
     "data": {
      "text/plain": [
       "3"
      ]
     },
     "execution_count": 4,
     "metadata": {},
     "output_type": "execute_result"
    }
   ],
   "source": [
    "lst = [1, 2, 3]\n",
    "lst[-1]"
   ]
  },
  {
   "cell_type": "code",
   "execution_count": 2,
   "metadata": {},
   "outputs": [
    {
     "data": {
      "text/plain": [
       "30"
      ]
     },
     "execution_count": 2,
     "metadata": {},
     "output_type": "execute_result"
    }
   ],
   "source": [
    "tup = (10, 20, 30)\n",
    "tup[2]"
   ]
  },
  {
   "cell_type": "markdown",
   "metadata": {},
   "source": [
    "***All sequence types will be iterable***"
   ]
  },
  {
   "cell_type": "code",
   "execution_count": 5,
   "metadata": {},
   "outputs": [
    {
     "name": "stdout",
     "output_type": "stream",
     "text": [
      "1\n",
      "2\n",
      "3\n"
     ]
    }
   ],
   "source": [
    "for ele in lst:\n",
    "    print(ele)"
   ]
  },
  {
   "cell_type": "markdown",
   "metadata": {},
   "source": [
    "***All iterables are not sequence types eg: sets***"
   ]
  },
  {
   "cell_type": "code",
   "execution_count": 6,
   "metadata": {},
   "outputs": [],
   "source": [
    "st = {1, 2, 3, 'a', 'b'}"
   ]
  },
  {
   "cell_type": "code",
   "execution_count": 7,
   "metadata": {},
   "outputs": [
    {
     "ename": "TypeError",
     "evalue": "'set' object is not subscriptable",
     "output_type": "error",
     "traceback": [
      "\u001b[1;31m---------------------------------------------------------------------------\u001b[0m",
      "\u001b[1;31mTypeError\u001b[0m                                 Traceback (most recent call last)",
      "\u001b[1;32m<ipython-input-7-028cc1d9138b>\u001b[0m in \u001b[0;36m<module>\u001b[1;34m\u001b[0m\n\u001b[1;32m----> 1\u001b[1;33m \u001b[0mst\u001b[0m\u001b[1;33m[\u001b[0m\u001b[1;36m0\u001b[0m\u001b[1;33m]\u001b[0m\u001b[1;33m\u001b[0m\u001b[1;33m\u001b[0m\u001b[0m\n\u001b[0m",
      "\u001b[1;31mTypeError\u001b[0m: 'set' object is not subscriptable"
     ]
    }
   ],
   "source": [
    "st[0]"
   ]
  },
  {
   "cell_type": "code",
   "execution_count": 9,
   "metadata": {},
   "outputs": [
    {
     "name": "stdout",
     "output_type": "stream",
     "text": [
      "1\n",
      "2\n",
      "3\n",
      "b\n",
      "a\n"
     ]
    }
   ],
   "source": [
    "for ele in st:\n",
    "    print(ele)"
   ]
  },
  {
   "cell_type": "markdown",
   "metadata": {},
   "source": [
    "***Can use 'in' with iterables***"
   ]
  },
  {
   "cell_type": "code",
   "execution_count": 10,
   "metadata": {},
   "outputs": [
    {
     "data": {
      "text/plain": [
       "True"
      ]
     },
     "execution_count": 10,
     "metadata": {},
     "output_type": "execute_result"
    }
   ],
   "source": [
    "2 in lst"
   ]
  },
  {
   "cell_type": "code",
   "execution_count": 12,
   "metadata": {},
   "outputs": [
    {
     "data": {
      "text/plain": [
       "True"
      ]
     },
     "execution_count": 12,
     "metadata": {},
     "output_type": "execute_result"
    }
   ],
   "source": [
    "'b' in st"
   ]
  },
  {
   "cell_type": "markdown",
   "metadata": {},
   "source": [
    "***Can use 'min' and 'max' with iterables***"
   ]
  },
  {
   "cell_type": "code",
   "execution_count": 15,
   "metadata": {},
   "outputs": [
    {
     "data": {
      "text/plain": [
       "(300, 100)"
      ]
     },
     "execution_count": 15,
     "metadata": {},
     "output_type": "execute_result"
    }
   ],
   "source": [
    "st = {100, 200, 300}\n",
    "max(st), min(st)"
   ]
  },
  {
   "cell_type": "code",
   "execution_count": 16,
   "metadata": {},
   "outputs": [
    {
     "data": {
      "text/plain": [
       "(3, 1)"
      ]
     },
     "execution_count": 16,
     "metadata": {},
     "output_type": "execute_result"
    }
   ],
   "source": [
    "max(lst), min(lst)"
   ]
  },
  {
   "cell_type": "code",
   "execution_count": 20,
   "metadata": {},
   "outputs": [],
   "source": [
    "lst = ['a', 10, 20, 30]   "
   ]
  },
  {
   "cell_type": "code",
   "execution_count": 22,
   "metadata": {},
   "outputs": [
    {
     "ename": "TypeError",
     "evalue": "'>' not supported between instances of 'int' and 'str'",
     "output_type": "error",
     "traceback": [
      "\u001b[1;31m---------------------------------------------------------------------------\u001b[0m",
      "\u001b[1;31mTypeError\u001b[0m                                 Traceback (most recent call last)",
      "\u001b[1;32m<ipython-input-22-bd56bc527d8e>\u001b[0m in \u001b[0;36m<module>\u001b[1;34m\u001b[0m\n\u001b[1;32m----> 1\u001b[1;33m \u001b[0mmax\u001b[0m\u001b[1;33m(\u001b[0m\u001b[0mlst\u001b[0m\u001b[1;33m)\u001b[0m   \u001b[1;31m# Wont work as list was not homogenous\u001b[0m\u001b[1;33m\u001b[0m\u001b[1;33m\u001b[0m\u001b[0m\n\u001b[0m",
      "\u001b[1;31mTypeError\u001b[0m: '>' not supported between instances of 'int' and 'str'"
     ]
    }
   ],
   "source": [
    "max(lst)   # Wont work as list was not homogenous"
   ]
  },
  {
   "cell_type": "code",
   "execution_count": 25,
   "metadata": {},
   "outputs": [
    {
     "data": {
      "text/plain": [
       "Decimal('10.3')"
      ]
     },
     "execution_count": 25,
     "metadata": {},
     "output_type": "execute_result"
    }
   ],
   "source": [
    "lst = [10, 1.5, Decimal('10.3')]     #Decimal, float & int are considered homogenous\n",
    "max(lst)"
   ]
  },
  {
   "cell_type": "markdown",
   "metadata": {},
   "source": [
    "**Concatenation**"
   ]
  },
  {
   "cell_type": "code",
   "execution_count": 27,
   "metadata": {},
   "outputs": [
    {
     "data": {
      "text/plain": [
       "[1, 2, 3, 'a', 'b', 'c']"
      ]
     },
     "execution_count": 27,
     "metadata": {},
     "output_type": "execute_result"
    }
   ],
   "source": [
    "[1,2,3] + ['a', 'b', 'c']"
   ]
  },
  {
   "cell_type": "code",
   "execution_count": 28,
   "metadata": {},
   "outputs": [
    {
     "data": {
      "text/plain": [
       "(1, 2, 3, 10, 'a', 20)"
      ]
     },
     "execution_count": 28,
     "metadata": {},
     "output_type": "execute_result"
    }
   ],
   "source": [
    "(1,2,3) + (10, 'a', 20)"
   ]
  },
  {
   "cell_type": "code",
   "execution_count": 30,
   "metadata": {},
   "outputs": [
    {
     "ename": "TypeError",
     "evalue": "unsupported operand type(s) for +: 'set' and 'set'",
     "output_type": "error",
     "traceback": [
      "\u001b[1;31m---------------------------------------------------------------------------\u001b[0m",
      "\u001b[1;31mTypeError\u001b[0m                                 Traceback (most recent call last)",
      "\u001b[1;32m<ipython-input-30-7f3721a24d23>\u001b[0m in \u001b[0;36m<module>\u001b[1;34m\u001b[0m\n\u001b[1;32m----> 1\u001b[1;33m \u001b[1;33m{\u001b[0m\u001b[1;36m1\u001b[0m\u001b[1;33m,\u001b[0m \u001b[1;36m2\u001b[0m\u001b[1;33m,\u001b[0m \u001b[1;36m3\u001b[0m\u001b[1;33m}\u001b[0m \u001b[1;33m+\u001b[0m \u001b[1;33m{\u001b[0m\u001b[1;36m4\u001b[0m\u001b[1;33m,\u001b[0m \u001b[1;36m5\u001b[0m\u001b[1;33m,\u001b[0m \u001b[1;36m6\u001b[0m\u001b[1;33m}\u001b[0m  \u001b[1;31m# Not supported\u001b[0m\u001b[1;33m\u001b[0m\u001b[1;33m\u001b[0m\u001b[0m\n\u001b[0m",
      "\u001b[1;31mTypeError\u001b[0m: unsupported operand type(s) for +: 'set' and 'set'"
     ]
    }
   ],
   "source": [
    "{1, 2, 3} + {4, 5, 6}  # Not supported"
   ]
  },
  {
   "cell_type": "code",
   "execution_count": 31,
   "metadata": {},
   "outputs": [
    {
     "ename": "TypeError",
     "evalue": "can only concatenate tuple (not \"list\") to tuple",
     "output_type": "error",
     "traceback": [
      "\u001b[1;31m---------------------------------------------------------------------------\u001b[0m",
      "\u001b[1;31mTypeError\u001b[0m                                 Traceback (most recent call last)",
      "\u001b[1;32m<ipython-input-31-8dce2622f4cb>\u001b[0m in \u001b[0;36m<module>\u001b[1;34m\u001b[0m\n\u001b[1;32m----> 1\u001b[1;33m \u001b[1;33m(\u001b[0m\u001b[1;36m1\u001b[0m\u001b[1;33m,\u001b[0m\u001b[1;36m2\u001b[0m\u001b[1;33m,\u001b[0m\u001b[1;36m3\u001b[0m\u001b[1;33m)\u001b[0m \u001b[1;33m+\u001b[0m \u001b[1;33m[\u001b[0m\u001b[1;36m1\u001b[0m\u001b[1;33m,\u001b[0m \u001b[1;36m10\u001b[0m\u001b[1;33m,\u001b[0m \u001b[1;36m20\u001b[0m\u001b[1;33m]\u001b[0m \u001b[1;31m#Wont work with different types\u001b[0m\u001b[1;33m\u001b[0m\u001b[1;33m\u001b[0m\u001b[0m\n\u001b[0m",
      "\u001b[1;31mTypeError\u001b[0m: can only concatenate tuple (not \"list\") to tuple"
     ]
    }
   ],
   "source": [
    "(1,2,3) + [1, 10, 20] #Wont work with different types"
   ]
  },
  {
   "cell_type": "markdown",
   "metadata": {},
   "source": [
    "**How to convert a string to list**"
   ]
  },
  {
   "cell_type": "code",
   "execution_count": 33,
   "metadata": {},
   "outputs": [
    {
     "data": {
      "text/plain": [
       "['a', 'n', 'i', 'l']"
      ]
     },
     "execution_count": 33,
     "metadata": {},
     "output_type": "execute_result"
    }
   ],
   "source": [
    "list('anil')"
   ]
  },
  {
   "cell_type": "code",
   "execution_count": 34,
   "metadata": {},
   "outputs": [
    {
     "data": {
      "text/plain": [
       "['a', 'n', 'i', 'l', 'b', 'h', 'a', 't', 't']"
      ]
     },
     "execution_count": 34,
     "metadata": {},
     "output_type": "execute_result"
    }
   ],
   "source": [
    "list('anil') + ['b', 'h', 'a', 't', 't']"
   ]
  },
  {
   "cell_type": "markdown",
   "metadata": {},
   "source": [
    "**How to convert a list to string using 'join'**"
   ]
  },
  {
   "cell_type": "code",
   "execution_count": 35,
   "metadata": {},
   "outputs": [],
   "source": [
    "lst = ['a', 'n', 'i', 'l', 'b', 'h', 'a', 't', 't']"
   ]
  },
  {
   "cell_type": "code",
   "execution_count": 36,
   "metadata": {},
   "outputs": [
    {
     "data": {
      "text/plain": [
       "'a,n,i,l,b,h,a,t,t'"
      ]
     },
     "execution_count": 36,
     "metadata": {},
     "output_type": "execute_result"
    }
   ],
   "source": [
    "','.join(lst)"
   ]
  },
  {
   "cell_type": "code",
   "execution_count": 37,
   "metadata": {},
   "outputs": [
    {
     "data": {
      "text/plain": [
       "'anilbhatt'"
      ]
     },
     "execution_count": 37,
     "metadata": {},
     "output_type": "execute_result"
    }
   ],
   "source": [
    "''.join(lst)"
   ]
  },
  {
   "cell_type": "markdown",
   "metadata": {},
   "source": [
    "**Using * operator for repetition** - Wont work for iterables that are not sequence types"
   ]
  },
  {
   "cell_type": "code",
   "execution_count": 39,
   "metadata": {},
   "outputs": [
    {
     "data": {
      "text/plain": [
       "(1, 2, 3, 1, 2, 3, 1, 2, 3, 1, 2, 3, 1, 2, 3)"
      ]
     },
     "execution_count": 39,
     "metadata": {},
     "output_type": "execute_result"
    }
   ],
   "source": [
    "(1, 2, 3)*5"
   ]
  },
  {
   "cell_type": "code",
   "execution_count": 40,
   "metadata": {},
   "outputs": [
    {
     "data": {
      "text/plain": [
       "'abcabcabcabc'"
      ]
     },
     "execution_count": 40,
     "metadata": {},
     "output_type": "execute_result"
    }
   ],
   "source": [
    "'abc'*4"
   ]
  },
  {
   "cell_type": "code",
   "execution_count": 41,
   "metadata": {},
   "outputs": [
    {
     "ename": "TypeError",
     "evalue": "unsupported operand type(s) for *: 'set' and 'int'",
     "output_type": "error",
     "traceback": [
      "\u001b[1;31m---------------------------------------------------------------------------\u001b[0m",
      "\u001b[1;31mTypeError\u001b[0m                                 Traceback (most recent call last)",
      "\u001b[1;32m<ipython-input-41-58450c4ed5d8>\u001b[0m in \u001b[0;36m<module>\u001b[1;34m\u001b[0m\n\u001b[1;32m----> 1\u001b[1;33m \u001b[1;33m{\u001b[0m\u001b[1;36m1\u001b[0m\u001b[1;33m,\u001b[0m\u001b[1;36m2\u001b[0m\u001b[1;33m,\u001b[0m\u001b[1;36m3\u001b[0m\u001b[1;33m}\u001b[0m\u001b[1;33m*\u001b[0m\u001b[1;36m4\u001b[0m\u001b[1;33m\u001b[0m\u001b[1;33m\u001b[0m\u001b[0m\n\u001b[0m",
      "\u001b[1;31mTypeError\u001b[0m: unsupported operand type(s) for *: 'set' and 'int'"
     ]
    }
   ],
   "source": [
    "{1,2,3}*4"
   ]
  },
  {
   "cell_type": "markdown",
   "metadata": {},
   "source": [
    "**Finding position using index eg: s = \"the school of ai of world\"\n",
    "s.index('o') -> 7**"
   ]
  },
  {
   "cell_type": "code",
   "execution_count": 51,
   "metadata": {},
   "outputs": [
    {
     "data": {
      "text/plain": [
       "[(0, 't'),\n",
       " (1, 'h'),\n",
       " (2, 'e'),\n",
       " (3, ' '),\n",
       " (4, 's'),\n",
       " (5, 'c'),\n",
       " (6, 'h'),\n",
       " (7, 'o'),\n",
       " (8, 'o'),\n",
       " (9, 'l'),\n",
       " (10, ' '),\n",
       " (11, 'o'),\n",
       " (12, 'f'),\n",
       " (13, ' '),\n",
       " (14, 'a'),\n",
       " (15, 'i'),\n",
       " (16, ' '),\n",
       " (17, 'o'),\n",
       " (18, 'f'),\n",
       " (19, ' '),\n",
       " (20, 'w'),\n",
       " (21, 'o'),\n",
       " (22, 'r'),\n",
       " (23, 'l'),\n",
       " (24, 'd')]"
      ]
     },
     "execution_count": 51,
     "metadata": {},
     "output_type": "execute_result"
    }
   ],
   "source": [
    "list(enumerate(\"the school of ai of world\"))"
   ]
  },
  {
   "cell_type": "code",
   "execution_count": 56,
   "metadata": {},
   "outputs": [
    {
     "data": {
      "text/plain": [
       "7"
      ]
     },
     "execution_count": 56,
     "metadata": {},
     "output_type": "execute_result"
    }
   ],
   "source": [
    "s = \"the school of ai of world\"\n",
    "s.index('o')"
   ]
  },
  {
   "cell_type": "code",
   "execution_count": 57,
   "metadata": {},
   "outputs": [
    {
     "data": {
      "text/plain": [
       "8"
      ]
     },
     "execution_count": 57,
     "metadata": {},
     "output_type": "execute_result"
    }
   ],
   "source": [
    "s.index('o',7+1)"
   ]
  },
  {
   "cell_type": "code",
   "execution_count": 58,
   "metadata": {},
   "outputs": [
    {
     "data": {
      "text/plain": [
       "11"
      ]
     },
     "execution_count": 58,
     "metadata": {},
     "output_type": "execute_result"
    }
   ],
   "source": [
    "s.index('o',7+3)"
   ]
  },
  {
   "cell_type": "code",
   "execution_count": 59,
   "metadata": {},
   "outputs": [
    {
     "data": {
      "text/plain": [
       "17"
      ]
     },
     "execution_count": 59,
     "metadata": {},
     "output_type": "execute_result"
    }
   ],
   "source": [
    "s.index('o',7+5)"
   ]
  },
  {
   "cell_type": "markdown",
   "metadata": {},
   "source": [
    "## Slicing"
   ]
  },
  {
   "cell_type": "code",
   "execution_count": 61,
   "metadata": {},
   "outputs": [],
   "source": [
    "s = 'python'\n",
    "l = [1, 2, 3, 4, 5, 6, 7, 8 ,9, 10]"
   ]
  },
  {
   "cell_type": "code",
   "execution_count": 62,
   "metadata": {},
   "outputs": [
    {
     "name": "stdout",
     "output_type": "stream",
     "text": [
      "0 p\n",
      "1 y\n",
      "2 t\n",
      "3 h\n",
      "4 o\n",
      "5 n\n"
     ]
    }
   ],
   "source": [
    "for (a,b) in enumerate(s):\n",
    "    print(a,b)"
   ]
  },
  {
   "cell_type": "code",
   "execution_count": 64,
   "metadata": {},
   "outputs": [
    {
     "data": {
      "text/plain": [
       "'on'"
      ]
     },
     "execution_count": 64,
     "metadata": {},
     "output_type": "execute_result"
    }
   ],
   "source": [
    "s[4:1000]  # Eventhough 1000 is out of bound, python will not fail"
   ]
  },
  {
   "cell_type": "code",
   "execution_count": 67,
   "metadata": {},
   "outputs": [
    {
     "name": "stdout",
     "output_type": "stream",
     "text": [
      "pyt\n",
      "pyt\n"
     ]
    }
   ],
   "source": [
    "print(s[:3])\n",
    "print(s[None:3])"
   ]
  },
  {
   "cell_type": "code",
   "execution_count": 69,
   "metadata": {},
   "outputs": [
    {
     "data": {
      "text/plain": [
       "('ython', 'python')"
      ]
     },
     "execution_count": 69,
     "metadata": {},
     "output_type": "execute_result"
    }
   ],
   "source": [
    "s[1:],s[:]"
   ]
  },
  {
   "cell_type": "code",
   "execution_count": 70,
   "metadata": {},
   "outputs": [
    {
     "name": "stdout",
     "output_type": "stream",
     "text": [
      "1782505572424 1782505572040\n"
     ]
    }
   ],
   "source": [
    "# Even if we copy a list, new list will be in different memory bcoz lists are mutable\n",
    "l1 = [1, 2, 3]\n",
    "l2 = l1[:]\n",
    "print(id(l1), id(l2))"
   ]
  },
  {
   "cell_type": "code",
   "execution_count": 105,
   "metadata": {},
   "outputs": [
    {
     "name": "stdout",
     "output_type": "stream",
     "text": [
      "1782507206960\n",
      "0 p\n",
      "1 y\n",
      "2 t\n",
      "3 h\n",
      "4 o\n",
      "5 n\n",
      "6 i\n",
      "7 s\n",
      "8 h\n"
     ]
    }
   ],
   "source": [
    "s = 'pythonish'\n",
    "print(id(s))\n",
    "for (a,b) in enumerate(s):\n",
    "    print(a, b)"
   ]
  },
  {
   "cell_type": "code",
   "execution_count": 73,
   "metadata": {},
   "outputs": [
    {
     "data": {
      "text/plain": [
       "'to'"
      ]
     },
     "execution_count": 73,
     "metadata": {},
     "output_type": "execute_result"
    }
   ],
   "source": [
    "s[2:5:2]  # 2 till 5 on steps of 2 which will fetch 2nd & 4th elements"
   ]
  },
  {
   "cell_type": "code",
   "execution_count": 74,
   "metadata": {},
   "outputs": [
    {
     "data": {
      "text/plain": [
       "''"
      ]
     },
     "execution_count": 74,
     "metadata": {},
     "output_type": "execute_result"
    }
   ],
   "source": [
    "s[0:5:-1] #Will get nothing"
   ]
  },
  {
   "cell_type": "code",
   "execution_count": 78,
   "metadata": {},
   "outputs": [
    {
     "data": {
      "text/plain": [
       "'nohty'"
      ]
     },
     "execution_count": 78,
     "metadata": {},
     "output_type": "execute_result"
    }
   ],
   "source": [
    "s[5:0:-1] # 5 till 0 begining on steps of 1. 0 is excluded"
   ]
  },
  {
   "cell_type": "code",
   "execution_count": 79,
   "metadata": {},
   "outputs": [
    {
     "data": {
      "text/plain": [
       "'nhy'"
      ]
     },
     "execution_count": 79,
     "metadata": {},
     "output_type": "execute_result"
    }
   ],
   "source": [
    "s[5:0:-2] # 5 till 0 begining on steps of 2 which will fetch 5th, 3rd, 1st"
   ]
  },
  {
   "cell_type": "code",
   "execution_count": 107,
   "metadata": {},
   "outputs": [
    {
     "data": {
      "text/plain": [
       "'hsinohtyp'"
      ]
     },
     "execution_count": 107,
     "metadata": {},
     "output_type": "execute_result"
    }
   ],
   "source": [
    "s[::-1] # Reversing a string"
   ]
  },
  {
   "cell_type": "code",
   "execution_count": 81,
   "metadata": {},
   "outputs": [
    {
     "data": {
      "text/plain": [
       "'hiotp'"
      ]
     },
     "execution_count": 81,
     "metadata": {},
     "output_type": "execute_result"
    }
   ],
   "source": [
    "s[::-2]"
   ]
  },
  {
   "cell_type": "code",
   "execution_count": 30,
   "metadata": {},
   "outputs": [
    {
     "data": {
      "text/plain": [
       "('',\n",
       " 'python-rockz',\n",
       " 'ph',\n",
       " 'python-rockz',\n",
       " 'python-rock',\n",
       " 'python-rockz',\n",
       " 'python-rockz',\n",
       " '-nohtyp')"
      ]
     },
     "execution_count": 30,
     "metadata": {},
     "output_type": "execute_result"
    }
   ],
   "source": [
    "l = 'python-rockz'\n",
    "\n",
    "l[1:1], l[0:600], l[0:6:3], l[:], l[:-1], l[None:], l[None:None], l[6::-1]"
   ]
  },
  {
   "cell_type": "markdown",
   "metadata": {},
   "source": [
    "***Inserting elements in between - Memory will remain the same***"
   ]
  },
  {
   "cell_type": "code",
   "execution_count": 104,
   "metadata": {},
   "outputs": [
    {
     "name": "stdout",
     "output_type": "stream",
     "text": [
      "1782507075144\n",
      "1782507075144\n"
     ]
    }
   ],
   "source": [
    "l = [1, 2, 3, 4, 5]\n",
    "print(id(l))\n",
    "l[0:2] = ('a', 'b', 'c', 'd')  # 0th & 1st element will get replaced\n",
    "l\n",
    "print(id(l))"
   ]
  },
  {
   "cell_type": "markdown",
   "metadata": {},
   "source": [
    "***list.append() and list.extend()***\n",
    "\n",
    "***ID of list will not change even if we insert elements in between***"
   ]
  },
  {
   "cell_type": "code",
   "execution_count": 101,
   "metadata": {},
   "outputs": [
    {
     "name": "stdout",
     "output_type": "stream",
     "text": [
      "1: 1782507200840, [1, 2, 3, 4, 5]\n",
      "2: 1782507200840, [1, 2, 3, 4, 5, 7]\n",
      "3: 1782507200840, [1, 2, 3, 'anil', 'how', 'u', 'doing', '?', 4, 5, 7]\n",
      "4: 1782507200840, [1, 2, 3, 'anil', 'how', 'u', 'doing', '?', 4, 5, 7, [100, 200]]\n",
      "5: 1782507200840, [1, 2, 3, 'anil', 'how', 'u', 'doing', '?', 4, 5, 7, [100, 200], 300, 400, 500]\n",
      "6: 1782507200840, [1, 2, 3, 'anil', 'how', 'u', 'doing', '?', 4, 5, 7, [100, 200], 300, 400, 500, 'b', 'h', 'a', 't', 't']\n",
      "7: 1782507200840, [1, 2, 3, 'anil', 'how', 'u', 'doing', '?', 4, 5, 7, [100, 200], 300, 400, 500, 'b', 'h', 'a', 't', 't', 'bhatt']\n"
     ]
    }
   ],
   "source": [
    "l = [1,2,3,4,5]\n",
    "print(f'1: {id(l)}, {l}')\n",
    "l.append(7)\n",
    "print(f'2: {id(l)}, {l}')\n",
    "l[3:3] = 'anil', 'how', 'u', 'doing', '?' # This will insert on 3rd position without replacing anything\n",
    "print(f'3: {id(l)}, {l}')\n",
    "l.append([100,200])\n",
    "print(f'4: {id(l)}, {l}')\n",
    "l.extend([300, 400, 500])\n",
    "print(f'5: {id(l)}, {l}')\n",
    "l.extend('bhatt')\n",
    "print(f'6: {id(l)}, {l}')\n",
    "l.append('bhatt')\n",
    "print(f'7: {id(l)}, {l}')"
   ]
  },
  {
   "cell_type": "code",
   "execution_count": 102,
   "metadata": {},
   "outputs": [
    {
     "name": "stdout",
     "output_type": "stream",
     "text": [
      "1: 1782507146632, [1, 2, 3, [4, 5, 6]]\n",
      "2: 1782507146632, [1, 2, 3, [4, 5, 6], 7, 8, 9]\n"
     ]
    }
   ],
   "source": [
    "l = [1, 2, 3]\n",
    "l.append([4, 5, 6])\n",
    "print(f'1: {id(l)}, {l}')\n",
    "l.extend([7, 8, 9])\n",
    "print(f'2: {id(l)}, {l}')"
   ]
  },
  {
   "cell_type": "code",
   "execution_count": 103,
   "metadata": {},
   "outputs": [
    {
     "name": "stdout",
     "output_type": "stream",
     "text": [
      "1: 1782507042696, [1, 2, 3, 4, 5, (100, 200)]\n",
      "2: 1782507042696, [1, 2, 3, 4, 5, (100, 200), {200, 100}]\n",
      "3: 1782507042696, [1, 2, 3, 4, 5, (100, 200), {200, 100}, 300, 400, 500]\n",
      "4: 1782507042696, [1, 2, 3, 4, 5, (100, 200), {200, 100}, 300, 400, 500, 400, 300, 500]\n"
     ]
    }
   ],
   "source": [
    "l = [1,2,3,4,5]\n",
    "l.append((100,200))\n",
    "print(f'1: {id(l)}, {l}')\n",
    "l.append({100,200})\n",
    "print(f'2: {id(l)}, {l}')\n",
    "l.extend((300, 400, 500))\n",
    "print(f'3: {id(l)}, {l}')\n",
    "l.extend({300, 400, 500})\n",
    "print(f'4: {id(l)}, {l}')"
   ]
  },
  {
   "cell_type": "markdown",
   "metadata": {},
   "source": [
    "***Even if we use same elements a new object will be created & hence memory will change***"
   ]
  },
  {
   "cell_type": "code",
   "execution_count": 115,
   "metadata": {},
   "outputs": [
    {
     "name": "stdout",
     "output_type": "stream",
     "text": [
      "1782505571912\n",
      "1782507242184\n"
     ]
    }
   ],
   "source": [
    "l = [1,2,3,4,5]\n",
    "print(id(l))\n",
    "l = [1,2,3,4,5]\n",
    "print(id(l))"
   ]
  },
  {
   "cell_type": "code",
   "execution_count": 116,
   "metadata": {},
   "outputs": [
    {
     "name": "stdout",
     "output_type": "stream",
     "text": [
      "1782505174216\n",
      "1782507081352\n"
     ]
    }
   ],
   "source": [
    "t = (1,2,3,4,5)\n",
    "print(id(t))\n",
    "t = (1,2,3,4,5)\n",
    "print(id(t))"
   ]
  },
  {
   "cell_type": "markdown",
   "metadata": {},
   "source": [
    "***Same goes with reversing the string as well, memory will change***"
   ]
  },
  {
   "cell_type": "code",
   "execution_count": 122,
   "metadata": {},
   "outputs": [
    {
     "name": "stdout",
     "output_type": "stream",
     "text": [
      "1782507208456\n",
      "1782507208456\n"
     ]
    }
   ],
   "source": [
    "l = [1,2,3]\n",
    "print(id(l))\n",
    "l[::-1]\n",
    "print(id(l))"
   ]
  },
  {
   "cell_type": "markdown",
   "metadata": {},
   "source": [
    "***Using reverse()***"
   ]
  },
  {
   "cell_type": "code",
   "execution_count": 124,
   "metadata": {},
   "outputs": [
    {
     "name": "stdout",
     "output_type": "stream",
     "text": [
      "1782505572936\n",
      "1782505572936\n"
     ]
    }
   ],
   "source": [
    "l = [1,2,3]\n",
    "print(id(l))\n",
    "l.reverse()\n",
    "print(id(l))"
   ]
  },
  {
   "cell_type": "markdown",
   "metadata": {},
   "source": [
    "***Deleting element from a list***"
   ]
  },
  {
   "cell_type": "code",
   "execution_count": 2,
   "metadata": {},
   "outputs": [
    {
     "data": {
      "text/plain": [
       "[17, 34, 51, 68]"
      ]
     },
     "execution_count": 2,
     "metadata": {},
     "output_type": "execute_result"
    }
   ],
   "source": [
    "l = [17, 34, 51, 68, 85]\n",
    "l.pop()  #Will delete last element\n",
    "l "
   ]
  },
  {
   "cell_type": "code",
   "execution_count": 5,
   "metadata": {},
   "outputs": [
    {
     "data": {
      "text/plain": [
       "[17, 34, 68, 85]"
      ]
     },
     "execution_count": 5,
     "metadata": {},
     "output_type": "execute_result"
    }
   ],
   "source": [
    "l = [17, 34, 51, 68, 85]\n",
    "l.pop(2) #will delete element specified\n",
    "l"
   ]
  },
  {
   "cell_type": "code",
   "execution_count": 12,
   "metadata": {},
   "outputs": [
    {
     "data": {
      "text/plain": [
       "[17, 34, 51, 85]"
      ]
     },
     "execution_count": 12,
     "metadata": {},
     "output_type": "execute_result"
    }
   ],
   "source": [
    "l = [17, 34, 51, 68, 85]    #Another way is to use del\n",
    "del(l[3])\n",
    "l"
   ]
  },
  {
   "cell_type": "code",
   "execution_count": 15,
   "metadata": {},
   "outputs": [
    {
     "data": {
      "text/plain": [
       "[17, 34, 85]"
      ]
     },
     "execution_count": 15,
     "metadata": {},
     "output_type": "execute_result"
    }
   ],
   "source": [
    "l = [17, 34, 51, 68, 85]    \n",
    "del(l[2:4])\n",
    "l"
   ]
  },
  {
   "cell_type": "markdown",
   "metadata": {},
   "source": [
    "### Shallow Copy - Memory of inner mutable elements (like lists) remains same"
   ]
  },
  {
   "cell_type": "code",
   "execution_count": 126,
   "metadata": {},
   "outputs": [
    {
     "data": {
      "text/plain": [
       "(1782507272584, 1782507272264, 1782462096176)"
      ]
     },
     "execution_count": 126,
     "metadata": {},
     "output_type": "execute_result"
    }
   ],
   "source": [
    "l = [['a', 'b'], 'c', 'd']\n",
    "id(l), id(l[0]), id(l[1])"
   ]
  },
  {
   "cell_type": "code",
   "execution_count": 128,
   "metadata": {},
   "outputs": [
    {
     "data": {
      "text/plain": [
       "(1782507297672, 1782507272264, 1782462096176)"
      ]
     },
     "execution_count": 128,
     "metadata": {},
     "output_type": "execute_result"
    }
   ],
   "source": [
    "l2 = l.copy()\n",
    "id(l2), id(l2[0]), id(l2[1])"
   ]
  },
  {
   "cell_type": "code",
   "execution_count": 129,
   "metadata": {},
   "outputs": [
    {
     "data": {
      "text/plain": [
       "[[100, 'b'], 'c', 'd']"
      ]
     },
     "execution_count": 129,
     "metadata": {},
     "output_type": "execute_result"
    }
   ],
   "source": [
    "l[0][0] = 100\n",
    "l"
   ]
  },
  {
   "cell_type": "code",
   "execution_count": 131,
   "metadata": {},
   "outputs": [
    {
     "data": {
      "text/plain": [
       "[[100, 'b'], 'c', 'd']"
      ]
     },
     "execution_count": 131,
     "metadata": {},
     "output_type": "execute_result"
    }
   ],
   "source": [
    "l2          # l2 also got changed, even if on surface it appears it was on a different memory"
   ]
  },
  {
   "cell_type": "code",
   "execution_count": 132,
   "metadata": {},
   "outputs": [
    {
     "data": {
      "text/plain": [
       "[[(100,), 'b'], 'c', 'd']"
      ]
     },
     "execution_count": 132,
     "metadata": {},
     "output_type": "execute_result"
    }
   ],
   "source": [
    "l[0][0] = 100,\n",
    "l"
   ]
  },
  {
   "cell_type": "code",
   "execution_count": 134,
   "metadata": {},
   "outputs": [
    {
     "data": {
      "text/plain": [
       "[[(100,), 'b'], 'c', 'd']"
      ]
     },
     "execution_count": 134,
     "metadata": {},
     "output_type": "execute_result"
    }
   ],
   "source": [
    "l2         # l2 also got changed, now structure also changed as we introduced immutable object"
   ]
  },
  {
   "cell_type": "markdown",
   "metadata": {},
   "source": [
    "### How to solve this - use deepcopy"
   ]
  },
  {
   "cell_type": "code",
   "execution_count": 135,
   "metadata": {},
   "outputs": [
    {
     "name": "stdout",
     "output_type": "stream",
     "text": [
      "1782507026760 1782506233800 1782462096176\n",
      "1782507146504 1782506233800 1782462096176\n",
      "1782505574152 1782506233800 1782462096176\n"
     ]
    }
   ],
   "source": [
    "import copy\n",
    "\n",
    "l = [['a', 'b'], 'c', 'd']\n",
    "\n",
    "print(id(l), id(l[0]), id(l[1]))\n",
    "\n",
    "l2 = l.copy()\n",
    "\n",
    "print(id(l2), id(l2[0]), id(l2[1]))\n",
    "\n",
    "l3 = copy.copy(l)\n",
    "\n",
    "print(id(l3), id(l3[0]), id(l3[1]))"
   ]
  },
  {
   "cell_type": "code",
   "execution_count": 27,
   "metadata": {},
   "outputs": [
    {
     "name": "stdout",
     "output_type": "stream",
     "text": [
      "1403059888072 140728458453360 140728458453392\n"
     ]
    }
   ],
   "source": [
    "# Let us use deepcopy & see what happens\n",
    "\n",
    "l4 = copy.deepcopy(l)\n",
    "print(id(l4), id(l4[0]), id(l4[1])) \n",
    "# Inner element belonging to list goes to different memory, 'd' remains same bcoz of interning which is what we want"
   ]
  },
  {
   "cell_type": "markdown",
   "metadata": {},
   "source": [
    "## Let us see why tuples are better"
   ]
  },
  {
   "cell_type": "code",
   "execution_count": 140,
   "metadata": {},
   "outputs": [],
   "source": [
    "from dis import dis"
   ]
  },
  {
   "cell_type": "code",
   "execution_count": 141,
   "metadata": {},
   "outputs": [
    {
     "name": "stdout",
     "output_type": "stream",
     "text": [
      "  1           0 LOAD_CONST               0 ((1, 2, 3, 4, 'a'))\n",
      "              2 RETURN_VALUE\n"
     ]
    }
   ],
   "source": [
    "dis(compile('(1,2,3,4,\"a\")', 'string', 'eval'))         #Took only 2 steps"
   ]
  },
  {
   "cell_type": "code",
   "execution_count": 143,
   "metadata": {},
   "outputs": [
    {
     "name": "stdout",
     "output_type": "stream",
     "text": [
      "  1           0 LOAD_CONST               0 (1)\n",
      "              2 LOAD_CONST               1 (2)\n",
      "              4 LOAD_CONST               2 (3)\n",
      "              6 LOAD_CONST               3 (4)\n",
      "              8 LOAD_CONST               4 ('a')\n",
      "             10 BUILD_LIST               5\n",
      "             12 RETURN_VALUE\n"
     ]
    }
   ],
   "source": [
    "dis(compile('[1,2,3,4,\"a\"]', 'string', 'eval'))        #Took more steps"
   ]
  },
  {
   "cell_type": "code",
   "execution_count": 144,
   "metadata": {},
   "outputs": [
    {
     "name": "stdout",
     "output_type": "stream",
     "text": [
      "  1           0 LOAD_CONST               0 (1)\n",
      "              2 LOAD_CONST               1 (2)\n",
      "              4 LOAD_CONST               2 (3)\n",
      "              6 LOAD_CONST               3 (4)\n",
      "              8 LOAD_CONST               4 (10)\n",
      "             10 LOAD_CONST               5 (20)\n",
      "             12 BUILD_LIST               2\n",
      "             14 BUILD_TUPLE              5\n",
      "             16 RETURN_VALUE\n"
     ]
    }
   ],
   "source": [
    "dis(compile('(1, 2, 3, 4, [10, 20])', 'string', 'eval')) # Took even more steps bcoz we kept a list inside tuple"
   ]
  },
  {
   "cell_type": "markdown",
   "metadata": {},
   "source": [
    "***Now let us check through timeit***"
   ]
  },
  {
   "cell_type": "code",
   "execution_count": 146,
   "metadata": {},
   "outputs": [],
   "source": [
    "from timeit import timeit"
   ]
  },
  {
   "cell_type": "code",
   "execution_count": 147,
   "metadata": {},
   "outputs": [
    {
     "data": {
      "text/plain": [
       "0.11675459999969462"
      ]
     },
     "execution_count": 147,
     "metadata": {},
     "output_type": "execute_result"
    }
   ],
   "source": [
    "timeit(\"(1, 2, 3, 4, 5, 6, 7, 8, 9)\", number=10_000_000)"
   ]
  },
  {
   "cell_type": "code",
   "execution_count": 148,
   "metadata": {},
   "outputs": [
    {
     "data": {
      "text/plain": [
       "0.9497058999995716"
      ]
     },
     "execution_count": 148,
     "metadata": {},
     "output_type": "execute_result"
    }
   ],
   "source": [
    "timeit(\"[1, 2, 3, 4, 5, 6, 7, 8, 9]\", number=10_000_000)"
   ]
  },
  {
   "cell_type": "code",
   "execution_count": 149,
   "metadata": {},
   "outputs": [
    {
     "data": {
      "text/plain": [
       "1.2202768999995897"
      ]
     },
     "execution_count": 149,
     "metadata": {},
     "output_type": "execute_result"
    }
   ],
   "source": [
    "timeit(\"(1, 2, 3, 4, 5, 6, 7, 8, [10, 20])\", number=10_000_000)"
   ]
  },
  {
   "cell_type": "code",
   "execution_count": 150,
   "metadata": {},
   "outputs": [
    {
     "data": {
      "text/plain": [
       "1.2503138000001854"
      ]
     },
     "execution_count": 150,
     "metadata": {},
     "output_type": "execute_result"
    }
   ],
   "source": [
    "timeit(\"[1, 2, 3, 4, 5, 6, 7, 8, [10, 20]]\", number=10_000_000)"
   ]
  },
  {
   "cell_type": "markdown",
   "metadata": {},
   "source": [
    "### Storage efficiency - Lists vs tuples"
   ]
  },
  {
   "cell_type": "code",
   "execution_count": 22,
   "metadata": {},
   "outputs": [
    {
     "name": "stdout",
     "output_type": "stream",
     "text": [
      " tuple size : 1, delta : 0 bytes, prev_size : 48 bytes\n",
      " tuple size : 2, delta : 8 bytes, prev_size : 56 bytes\n",
      " tuple size : 3, delta : 8 bytes, prev_size : 64 bytes\n",
      " tuple size : 4, delta : 8 bytes, prev_size : 72 bytes\n",
      " tuple size : 5, delta : 8 bytes, prev_size : 80 bytes\n",
      " tuple size : 6, delta : 8 bytes, prev_size : 88 bytes\n",
      " tuple size : 7, delta : 8 bytes, prev_size : 96 bytes\n",
      " tuple size : 8, delta : 8 bytes, prev_size : 104 bytes\n",
      " tuple size : 9, delta : 8 bytes, prev_size : 112 bytes\n",
      " tuple size : 10, delta : 8 bytes, prev_size : 120 bytes\n"
     ]
    }
   ],
   "source": [
    "# Let us see how much size increase happens when we create a tuple dynamically. As we can see there is an 8 byte\n",
    "# increase as & when we add an element\n",
    "\n",
    "import sys\n",
    "t = ()\n",
    "prev = sys.getsizeof(t)\n",
    "for i in range(10):    \n",
    "    t = tuple(range(i))\n",
    "    new_size  = sys.getsizeof(t)\n",
    "    delta, prev = new_size - prev, new_size\n",
    "    print(f' tuple size : {i+1}, delta : {delta} bytes, prev_size : {prev} bytes')"
   ]
  },
  {
   "cell_type": "code",
   "execution_count": 26,
   "metadata": {},
   "outputs": [
    {
     "name": "stdout",
     "output_type": "stream",
     "text": [
      " List size : 1, delta : 0 bytes, prev_size : 64 bytes\n",
      " List size : 2, delta : 32 bytes, prev_size : 96 bytes\n",
      " List size : 3, delta : 8 bytes, prev_size : 104 bytes\n",
      " List size : 4, delta : 8 bytes, prev_size : 112 bytes\n",
      " List size : 5, delta : 8 bytes, prev_size : 120 bytes\n",
      " List size : 6, delta : 8 bytes, prev_size : 128 bytes\n",
      " List size : 7, delta : 8 bytes, prev_size : 136 bytes\n",
      " List size : 8, delta : 8 bytes, prev_size : 144 bytes\n",
      " List size : 9, delta : 16 bytes, prev_size : 160 bytes\n",
      " List size : 10, delta : 32 bytes, prev_size : 192 bytes\n",
      " List size : 11, delta : 8 bytes, prev_size : 200 bytes\n",
      " List size : 12, delta : 8 bytes, prev_size : 208 bytes\n",
      " List size : 13, delta : 8 bytes, prev_size : 216 bytes\n",
      " List size : 14, delta : 8 bytes, prev_size : 224 bytes\n",
      " List size : 15, delta : 8 bytes, prev_size : 232 bytes\n",
      " List size : 16, delta : 8 bytes, prev_size : 240 bytes\n",
      " List size : 17, delta : 16 bytes, prev_size : 256 bytes\n",
      " List size : 18, delta : 8 bytes, prev_size : 264 bytes\n",
      " List size : 19, delta : 8 bytes, prev_size : 272 bytes\n",
      " List size : 20, delta : 8 bytes, prev_size : 280 bytes\n",
      " List size : 21, delta : 8 bytes, prev_size : 288 bytes\n",
      " List size : 22, delta : 8 bytes, prev_size : 296 bytes\n",
      " List size : 23, delta : 8 bytes, prev_size : 304 bytes\n",
      " List size : 24, delta : 8 bytes, prev_size : 312 bytes\n",
      " List size : 25, delta : 16 bytes, prev_size : 328 bytes\n",
      " List size : 26, delta : 8 bytes, prev_size : 336 bytes\n",
      " List size : 27, delta : 8 bytes, prev_size : 344 bytes\n",
      " List size : 28, delta : 8 bytes, prev_size : 352 bytes\n",
      " List size : 29, delta : 8 bytes, prev_size : 360 bytes\n",
      " List size : 30, delta : 8 bytes, prev_size : 368 bytes\n",
      " List size : 31, delta : 8 bytes, prev_size : 376 bytes\n",
      " List size : 32, delta : 8 bytes, prev_size : 384 bytes\n",
      " List size : 33, delta : 16 bytes, prev_size : 400 bytes\n",
      " List size : 34, delta : 8 bytes, prev_size : 408 bytes\n",
      " List size : 35, delta : 8 bytes, prev_size : 416 bytes\n",
      " List size : 36, delta : 8 bytes, prev_size : 424 bytes\n",
      " List size : 37, delta : 8 bytes, prev_size : 432 bytes\n",
      " List size : 38, delta : 8 bytes, prev_size : 440 bytes\n",
      " List size : 39, delta : 8 bytes, prev_size : 448 bytes\n",
      " List size : 40, delta : 8 bytes, prev_size : 456 bytes\n",
      " List size : 41, delta : 16 bytes, prev_size : 472 bytes\n",
      " List size : 42, delta : 8 bytes, prev_size : 480 bytes\n",
      " List size : 43, delta : 8 bytes, prev_size : 488 bytes\n",
      " List size : 44, delta : 8 bytes, prev_size : 496 bytes\n",
      " List size : 45, delta : 8 bytes, prev_size : 504 bytes\n",
      " List size : 46, delta : 8 bytes, prev_size : 512 bytes\n",
      " List size : 47, delta : 8 bytes, prev_size : 520 bytes\n",
      " List size : 48, delta : 8 bytes, prev_size : 528 bytes\n",
      " List size : 49, delta : 16 bytes, prev_size : 544 bytes\n",
      " List size : 50, delta : 8 bytes, prev_size : 552 bytes\n",
      " List size : 51, delta : 8 bytes, prev_size : 560 bytes\n",
      " List size : 52, delta : 8 bytes, prev_size : 568 bytes\n",
      " List size : 53, delta : 8 bytes, prev_size : 576 bytes\n",
      " List size : 54, delta : 8 bytes, prev_size : 584 bytes\n",
      " List size : 55, delta : 8 bytes, prev_size : 592 bytes\n",
      " List size : 56, delta : 8 bytes, prev_size : 600 bytes\n",
      " List size : 57, delta : 16 bytes, prev_size : 616 bytes\n",
      " List size : 58, delta : 8 bytes, prev_size : 624 bytes\n",
      " List size : 59, delta : 8 bytes, prev_size : 632 bytes\n",
      " List size : 60, delta : 8 bytes, prev_size : 640 bytes\n",
      " List size : 61, delta : 8 bytes, prev_size : 648 bytes\n",
      " List size : 62, delta : 8 bytes, prev_size : 656 bytes\n",
      " List size : 63, delta : 8 bytes, prev_size : 664 bytes\n",
      " List size : 64, delta : 8 bytes, prev_size : 672 bytes\n",
      " List size : 65, delta : 16 bytes, prev_size : 688 bytes\n",
      " List size : 66, delta : 8 bytes, prev_size : 696 bytes\n",
      " List size : 67, delta : 8 bytes, prev_size : 704 bytes\n",
      " List size : 68, delta : 8 bytes, prev_size : 712 bytes\n",
      " List size : 69, delta : 8 bytes, prev_size : 720 bytes\n",
      " List size : 70, delta : 8 bytes, prev_size : 728 bytes\n",
      " List size : 71, delta : 8 bytes, prev_size : 736 bytes\n",
      " List size : 72, delta : 8 bytes, prev_size : 744 bytes\n",
      " List size : 73, delta : 16 bytes, prev_size : 760 bytes\n",
      " List size : 74, delta : 8 bytes, prev_size : 768 bytes\n",
      " List size : 75, delta : 8 bytes, prev_size : 776 bytes\n",
      " List size : 76, delta : 8 bytes, prev_size : 784 bytes\n",
      " List size : 77, delta : 8 bytes, prev_size : 792 bytes\n",
      " List size : 78, delta : 8 bytes, prev_size : 800 bytes\n",
      " List size : 79, delta : 8 bytes, prev_size : 808 bytes\n",
      " List size : 80, delta : 8 bytes, prev_size : 816 bytes\n",
      " List size : 81, delta : 16 bytes, prev_size : 832 bytes\n",
      " List size : 82, delta : 8 bytes, prev_size : 840 bytes\n",
      " List size : 83, delta : 8 bytes, prev_size : 848 bytes\n",
      " List size : 84, delta : 8 bytes, prev_size : 856 bytes\n",
      " List size : 85, delta : 8 bytes, prev_size : 864 bytes\n",
      " List size : 86, delta : 8 bytes, prev_size : 872 bytes\n",
      " List size : 87, delta : 8 bytes, prev_size : 880 bytes\n",
      " List size : 88, delta : 8 bytes, prev_size : 888 bytes\n",
      " List size : 89, delta : 16 bytes, prev_size : 904 bytes\n",
      " List size : 90, delta : 8 bytes, prev_size : 912 bytes\n",
      " List size : 91, delta : 8 bytes, prev_size : 920 bytes\n",
      " List size : 92, delta : 8 bytes, prev_size : 928 bytes\n",
      " List size : 93, delta : 8 bytes, prev_size : 936 bytes\n",
      " List size : 94, delta : 8 bytes, prev_size : 944 bytes\n",
      " List size : 95, delta : 8 bytes, prev_size : 952 bytes\n",
      " List size : 96, delta : 8 bytes, prev_size : 960 bytes\n",
      " List size : 97, delta : 16 bytes, prev_size : 976 bytes\n",
      " List size : 98, delta : 8 bytes, prev_size : 984 bytes\n",
      " List size : 99, delta : 8 bytes, prev_size : 992 bytes\n",
      " List size : 100, delta : 8 bytes, prev_size : 1000 bytes\n",
      " List size : 101, delta : 8 bytes, prev_size : 1008 bytes\n",
      " List size : 102, delta : 8 bytes, prev_size : 1016 bytes\n",
      " List size : 103, delta : 8 bytes, prev_size : 1024 bytes\n",
      " List size : 104, delta : 8 bytes, prev_size : 1032 bytes\n",
      " List size : 105, delta : 16 bytes, prev_size : 1048 bytes\n",
      " List size : 106, delta : 8 bytes, prev_size : 1056 bytes\n",
      " List size : 107, delta : 8 bytes, prev_size : 1064 bytes\n",
      " List size : 108, delta : 8 bytes, prev_size : 1072 bytes\n",
      " List size : 109, delta : 8 bytes, prev_size : 1080 bytes\n",
      " List size : 110, delta : 8 bytes, prev_size : 1088 bytes\n",
      " List size : 111, delta : 8 bytes, prev_size : 1096 bytes\n",
      " List size : 112, delta : 8 bytes, prev_size : 1104 bytes\n",
      " List size : 113, delta : 16 bytes, prev_size : 1120 bytes\n",
      " List size : 114, delta : 8 bytes, prev_size : 1128 bytes\n",
      " List size : 115, delta : 8 bytes, prev_size : 1136 bytes\n",
      " List size : 116, delta : 8 bytes, prev_size : 1144 bytes\n",
      " List size : 117, delta : 8 bytes, prev_size : 1152 bytes\n",
      " List size : 118, delta : 8 bytes, prev_size : 1160 bytes\n",
      " List size : 119, delta : 8 bytes, prev_size : 1168 bytes\n",
      " List size : 120, delta : 8 bytes, prev_size : 1176 bytes\n",
      " List size : 121, delta : 16 bytes, prev_size : 1192 bytes\n",
      " List size : 122, delta : 8 bytes, prev_size : 1200 bytes\n",
      " List size : 123, delta : 8 bytes, prev_size : 1208 bytes\n",
      " List size : 124, delta : 8 bytes, prev_size : 1216 bytes\n",
      " List size : 125, delta : 8 bytes, prev_size : 1224 bytes\n",
      " List size : 126, delta : 8 bytes, prev_size : 1232 bytes\n",
      " List size : 127, delta : 8 bytes, prev_size : 1240 bytes\n",
      " List size : 128, delta : 8 bytes, prev_size : 1248 bytes\n",
      " List size : 129, delta : 16 bytes, prev_size : 1264 bytes\n",
      " List size : 130, delta : 8 bytes, prev_size : 1272 bytes\n",
      " List size : 131, delta : 8 bytes, prev_size : 1280 bytes\n",
      " List size : 132, delta : 8 bytes, prev_size : 1288 bytes\n",
      " List size : 133, delta : 8 bytes, prev_size : 1296 bytes\n",
      " List size : 134, delta : 8 bytes, prev_size : 1304 bytes\n",
      " List size : 135, delta : 8 bytes, prev_size : 1312 bytes\n",
      " List size : 136, delta : 8 bytes, prev_size : 1320 bytes\n",
      " List size : 137, delta : 16 bytes, prev_size : 1336 bytes\n",
      " List size : 138, delta : 8 bytes, prev_size : 1344 bytes\n",
      " List size : 139, delta : 8 bytes, prev_size : 1352 bytes\n",
      " List size : 140, delta : 8 bytes, prev_size : 1360 bytes\n",
      " List size : 141, delta : 8 bytes, prev_size : 1368 bytes\n",
      " List size : 142, delta : 8 bytes, prev_size : 1376 bytes\n",
      " List size : 143, delta : 8 bytes, prev_size : 1384 bytes\n",
      " List size : 144, delta : 8 bytes, prev_size : 1392 bytes\n",
      " List size : 145, delta : 16 bytes, prev_size : 1408 bytes\n",
      " List size : 146, delta : 8 bytes, prev_size : 1416 bytes\n",
      " List size : 147, delta : 8 bytes, prev_size : 1424 bytes\n",
      " List size : 148, delta : 8 bytes, prev_size : 1432 bytes\n",
      " List size : 149, delta : 8 bytes, prev_size : 1440 bytes\n",
      " List size : 150, delta : 8 bytes, prev_size : 1448 bytes\n",
      " List size : 151, delta : 8 bytes, prev_size : 1456 bytes\n",
      " List size : 152, delta : 8 bytes, prev_size : 1464 bytes\n",
      " List size : 153, delta : 16 bytes, prev_size : 1480 bytes\n",
      " List size : 154, delta : 8 bytes, prev_size : 1488 bytes\n",
      " List size : 155, delta : 8 bytes, prev_size : 1496 bytes\n",
      " List size : 156, delta : 8 bytes, prev_size : 1504 bytes\n",
      " List size : 157, delta : 8 bytes, prev_size : 1512 bytes\n",
      " List size : 158, delta : 8 bytes, prev_size : 1520 bytes\n",
      " List size : 159, delta : 8 bytes, prev_size : 1528 bytes\n",
      " List size : 160, delta : 8 bytes, prev_size : 1536 bytes\n",
      " List size : 161, delta : 16 bytes, prev_size : 1552 bytes\n",
      " List size : 162, delta : 8 bytes, prev_size : 1560 bytes\n",
      " List size : 163, delta : 8 bytes, prev_size : 1568 bytes\n",
      " List size : 164, delta : 8 bytes, prev_size : 1576 bytes\n",
      " List size : 165, delta : 8 bytes, prev_size : 1584 bytes\n",
      " List size : 166, delta : 8 bytes, prev_size : 1592 bytes\n",
      " List size : 167, delta : 8 bytes, prev_size : 1600 bytes\n",
      " List size : 168, delta : 8 bytes, prev_size : 1608 bytes\n",
      " List size : 169, delta : 16 bytes, prev_size : 1624 bytes\n",
      " List size : 170, delta : 8 bytes, prev_size : 1632 bytes\n",
      " List size : 171, delta : 8 bytes, prev_size : 1640 bytes\n",
      " List size : 172, delta : 8 bytes, prev_size : 1648 bytes\n",
      " List size : 173, delta : 8 bytes, prev_size : 1656 bytes\n",
      " List size : 174, delta : 8 bytes, prev_size : 1664 bytes\n",
      " List size : 175, delta : 8 bytes, prev_size : 1672 bytes\n",
      " List size : 176, delta : 8 bytes, prev_size : 1680 bytes\n",
      " List size : 177, delta : 16 bytes, prev_size : 1696 bytes\n",
      " List size : 178, delta : 8 bytes, prev_size : 1704 bytes\n",
      " List size : 179, delta : 8 bytes, prev_size : 1712 bytes\n",
      " List size : 180, delta : 8 bytes, prev_size : 1720 bytes\n",
      " List size : 181, delta : 8 bytes, prev_size : 1728 bytes\n",
      " List size : 182, delta : 8 bytes, prev_size : 1736 bytes\n",
      " List size : 183, delta : 8 bytes, prev_size : 1744 bytes\n",
      " List size : 184, delta : 8 bytes, prev_size : 1752 bytes\n",
      " List size : 185, delta : 16 bytes, prev_size : 1768 bytes\n",
      " List size : 186, delta : 8 bytes, prev_size : 1776 bytes\n",
      " List size : 187, delta : 8 bytes, prev_size : 1784 bytes\n",
      " List size : 188, delta : 8 bytes, prev_size : 1792 bytes\n",
      " List size : 189, delta : 8 bytes, prev_size : 1800 bytes\n",
      " List size : 190, delta : 8 bytes, prev_size : 1808 bytes\n",
      " List size : 191, delta : 8 bytes, prev_size : 1816 bytes\n",
      " List size : 192, delta : 8 bytes, prev_size : 1824 bytes\n",
      " List size : 193, delta : 16 bytes, prev_size : 1840 bytes\n",
      " List size : 194, delta : 8 bytes, prev_size : 1848 bytes\n",
      " List size : 195, delta : 8 bytes, prev_size : 1856 bytes\n",
      " List size : 196, delta : 8 bytes, prev_size : 1864 bytes\n",
      " List size : 197, delta : 8 bytes, prev_size : 1872 bytes\n",
      " List size : 198, delta : 8 bytes, prev_size : 1880 bytes\n",
      " List size : 199, delta : 8 bytes, prev_size : 1888 bytes\n",
      " List size : 200, delta : 8 bytes, prev_size : 1896 bytes\n",
      " List size : 201, delta : 16 bytes, prev_size : 1912 bytes\n",
      " List size : 202, delta : 8 bytes, prev_size : 1920 bytes\n",
      " List size : 203, delta : 8 bytes, prev_size : 1928 bytes\n",
      " List size : 204, delta : 8 bytes, prev_size : 1936 bytes\n",
      " List size : 205, delta : 8 bytes, prev_size : 1944 bytes\n",
      " List size : 206, delta : 8 bytes, prev_size : 1952 bytes\n",
      " List size : 207, delta : 8 bytes, prev_size : 1960 bytes\n",
      " List size : 208, delta : 8 bytes, prev_size : 1968 bytes\n",
      " List size : 209, delta : 16 bytes, prev_size : 1984 bytes\n",
      " List size : 210, delta : 8 bytes, prev_size : 1992 bytes\n",
      " List size : 211, delta : 8 bytes, prev_size : 2000 bytes\n",
      " List size : 212, delta : 8 bytes, prev_size : 2008 bytes\n",
      " List size : 213, delta : 8 bytes, prev_size : 2016 bytes\n",
      " List size : 214, delta : 8 bytes, prev_size : 2024 bytes\n",
      " List size : 215, delta : 8 bytes, prev_size : 2032 bytes\n",
      " List size : 216, delta : 8 bytes, prev_size : 2040 bytes\n",
      " List size : 217, delta : 16 bytes, prev_size : 2056 bytes\n",
      " List size : 218, delta : 8 bytes, prev_size : 2064 bytes\n",
      " List size : 219, delta : 8 bytes, prev_size : 2072 bytes\n",
      " List size : 220, delta : 8 bytes, prev_size : 2080 bytes\n",
      " List size : 221, delta : 8 bytes, prev_size : 2088 bytes\n",
      " List size : 222, delta : 8 bytes, prev_size : 2096 bytes\n",
      " List size : 223, delta : 8 bytes, prev_size : 2104 bytes\n",
      " List size : 224, delta : 8 bytes, prev_size : 2112 bytes\n",
      " List size : 225, delta : 16 bytes, prev_size : 2128 bytes\n",
      " List size : 226, delta : 8 bytes, prev_size : 2136 bytes\n",
      " List size : 227, delta : 8 bytes, prev_size : 2144 bytes\n",
      " List size : 228, delta : 8 bytes, prev_size : 2152 bytes\n",
      " List size : 229, delta : 8 bytes, prev_size : 2160 bytes\n",
      " List size : 230, delta : 8 bytes, prev_size : 2168 bytes\n",
      " List size : 231, delta : 8 bytes, prev_size : 2176 bytes\n",
      " List size : 232, delta : 8 bytes, prev_size : 2184 bytes\n",
      " List size : 233, delta : 16 bytes, prev_size : 2200 bytes\n",
      " List size : 234, delta : 8 bytes, prev_size : 2208 bytes\n",
      " List size : 235, delta : 8 bytes, prev_size : 2216 bytes\n",
      " List size : 236, delta : 8 bytes, prev_size : 2224 bytes\n",
      " List size : 237, delta : 8 bytes, prev_size : 2232 bytes\n",
      " List size : 238, delta : 8 bytes, prev_size : 2240 bytes\n",
      " List size : 239, delta : 8 bytes, prev_size : 2248 bytes\n",
      " List size : 240, delta : 8 bytes, prev_size : 2256 bytes\n",
      " List size : 241, delta : 16 bytes, prev_size : 2272 bytes\n",
      " List size : 242, delta : 8 bytes, prev_size : 2280 bytes\n",
      " List size : 243, delta : 8 bytes, prev_size : 2288 bytes\n",
      " List size : 244, delta : 8 bytes, prev_size : 2296 bytes\n",
      " List size : 245, delta : 8 bytes, prev_size : 2304 bytes\n",
      " List size : 246, delta : 8 bytes, prev_size : 2312 bytes\n",
      " List size : 247, delta : 8 bytes, prev_size : 2320 bytes\n",
      " List size : 248, delta : 8 bytes, prev_size : 2328 bytes\n",
      " List size : 249, delta : 16 bytes, prev_size : 2344 bytes\n",
      " List size : 250, delta : 8 bytes, prev_size : 2352 bytes\n",
      " List size : 251, delta : 8 bytes, prev_size : 2360 bytes\n",
      " List size : 252, delta : 8 bytes, prev_size : 2368 bytes\n",
      " List size : 253, delta : 8 bytes, prev_size : 2376 bytes\n",
      " List size : 254, delta : 8 bytes, prev_size : 2384 bytes\n",
      " List size : 255, delta : 8 bytes, prev_size : 2392 bytes\n"
     ]
    }
   ],
   "source": [
    "# Now let us see how much size increase happens when we create a list dynamically. To understand the pattern, we will\n",
    "# run for a range of 255. As we can see there are sporadic increases in between.\n",
    "# For example, list having size of 9 and list having size of 10 bytes differ by 16 bytes whereas in tuples, it is a \n",
    "# consistent increase of 8 bytes\n",
    "# Also list pre-allocates space which makes it less efficient\n",
    "\n",
    "import sys\n",
    "l = []\n",
    "prev = sys.getsizeof(l)\n",
    "for i in range(255):    \n",
    "    l = list(range(i))\n",
    "    new_size  = sys.getsizeof(l)\n",
    "    delta, prev = new_size - prev, new_size\n",
    "    print(f' List size : {i+1}, delta : {delta} bytes, prev_size : {prev} bytes')"
   ]
  },
  {
   "cell_type": "markdown",
   "metadata": {},
   "source": [
    "### Slice type"
   ]
  },
  {
   "cell_type": "code",
   "execution_count": 83,
   "metadata": {},
   "outputs": [
    {
     "data": {
      "text/plain": [
       "slice"
      ]
     },
     "execution_count": 83,
     "metadata": {},
     "output_type": "execute_result"
    }
   ],
   "source": [
    "s = slice(0,5,2)\n",
    "type(s)"
   ]
  },
  {
   "cell_type": "code",
   "execution_count": 84,
   "metadata": {},
   "outputs": [
    {
     "data": {
      "text/plain": [
       "(0, 5, 2)"
      ]
     },
     "execution_count": 84,
     "metadata": {},
     "output_type": "execute_result"
    }
   ],
   "source": [
    "s.start, s.stop, s.step"
   ]
  },
  {
   "cell_type": "code",
   "execution_count": 86,
   "metadata": {},
   "outputs": [
    {
     "data": {
      "text/plain": [
       "[1, 3, 5]"
      ]
     },
     "execution_count": 86,
     "metadata": {},
     "output_type": "execute_result"
    }
   ],
   "source": [
    "my_list = [1, 2, 3, 4, 5, 6]\n",
    "my_list[s]"
   ]
  },
  {
   "cell_type": "markdown",
   "metadata": {},
   "source": [
    "### Building custom sequence types"
   ]
  },
  {
   "cell_type": "code",
   "execution_count": 87,
   "metadata": {},
   "outputs": [],
   "source": [
    "my_list = [1, 2, 3, 4, 5, 6]"
   ]
  },
  {
   "cell_type": "code",
   "execution_count": 88,
   "metadata": {},
   "outputs": [
    {
     "ename": "IndexError",
     "evalue": "list index out of range",
     "output_type": "error",
     "traceback": [
      "\u001b[1;31m---------------------------------------------------------------------------\u001b[0m",
      "\u001b[1;31mIndexError\u001b[0m                                Traceback (most recent call last)",
      "\u001b[1;32m<ipython-input-88-2402926fc006>\u001b[0m in \u001b[0;36m<module>\u001b[1;34m\u001b[0m\n\u001b[1;32m----> 1\u001b[1;33m \u001b[0mmy_list\u001b[0m\u001b[1;33m[\u001b[0m\u001b[1;36m50\u001b[0m\u001b[1;33m]\u001b[0m\u001b[1;33m\u001b[0m\u001b[1;33m\u001b[0m\u001b[0m\n\u001b[0m",
      "\u001b[1;31mIndexError\u001b[0m: list index out of range"
     ]
    }
   ],
   "source": [
    "my_list[50]"
   ]
  },
  {
   "cell_type": "markdown",
   "metadata": {},
   "source": [
    "***Let us try to implement this index error ourselves on a class***\n",
    "\n",
    "### Static Methods\n",
    "\n",
    "Static methods are methods that are bound to a class rather than its object.\n",
    "\n",
    "1. It eliminates the use of self argument.\n",
    "2. It reduces memory usage because Python doesn't have to instantiate a bound-method for each object instiantiated:\n",
    "3. It improves code readability, signifying that the method does not depend on state of the object itself.\n",
    "4. It allows for method overriding in that if the method were defined at the module-level (i.e. outside the class) a subclass would not be able to override that method.\n"
   ]
  },
  {
   "cell_type": "code",
   "execution_count": 35,
   "metadata": {},
   "outputs": [],
   "source": [
    "from functools import lru_cache\n",
    "\n",
    "class Fib:\n",
    "    def __init__(self, n):\n",
    "        self.n = n\n",
    "        \n",
    "    def __len__(self):\n",
    "        return self.n\n",
    "    \n",
    "    def __getitem__(self, s):\n",
    "        if isinstance(s, int):\n",
    "            if s < 0 or s >= self.n:\n",
    "                raise IndexError\n",
    "            else:\n",
    "                return Fib._fib(s)\n",
    "            \n",
    "    @staticmethod #Static methods are methods that are bound to a class rather than its object.\n",
    "    @lru_cache(2**10)  ##powers of 2\n",
    "    def _fib(n):\n",
    "        if n < 2:\n",
    "            return 1\n",
    "        else:\n",
    "            return Fib._fib(n-1) + Fib._fib(n-2)"
   ]
  },
  {
   "cell_type": "code",
   "execution_count": 38,
   "metadata": {},
   "outputs": [
    {
     "data": {
      "text/plain": [
       "(1, 21)"
      ]
     },
     "execution_count": 38,
     "metadata": {},
     "output_type": "execute_result"
    }
   ],
   "source": [
    "f = Fib(8)\n",
    "f[0], f[7]"
   ]
  },
  {
   "cell_type": "code",
   "execution_count": 42,
   "metadata": {},
   "outputs": [
    {
     "data": {
      "text/plain": [
       "__main__.Fib"
      ]
     },
     "execution_count": 42,
     "metadata": {},
     "output_type": "execute_result"
    }
   ],
   "source": [
    "type(f)"
   ]
  },
  {
   "cell_type": "code",
   "execution_count": 43,
   "metadata": {},
   "outputs": [
    {
     "data": {
      "text/plain": [
       "'Fib'"
      ]
     },
     "execution_count": 43,
     "metadata": {},
     "output_type": "execute_result"
    }
   ],
   "source": [
    "f.__class__.__name__"
   ]
  },
  {
   "cell_type": "code",
   "execution_count": 39,
   "metadata": {},
   "outputs": [
    {
     "ename": "IndexError",
     "evalue": "",
     "output_type": "error",
     "traceback": [
      "\u001b[1;31m---------------------------------------------------------------------------\u001b[0m",
      "\u001b[1;31mIndexError\u001b[0m                                Traceback (most recent call last)",
      "\u001b[1;32m<ipython-input-39-941164c665d7>\u001b[0m in \u001b[0;36m<module>\u001b[1;34m\u001b[0m\n\u001b[1;32m----> 1\u001b[1;33m \u001b[0mf\u001b[0m\u001b[1;33m[\u001b[0m\u001b[1;36m9\u001b[0m\u001b[1;33m]\u001b[0m\u001b[1;33m\u001b[0m\u001b[1;33m\u001b[0m\u001b[0m\n\u001b[0m",
      "\u001b[1;32m<ipython-input-35-a83ed5f32889>\u001b[0m in \u001b[0;36m__getitem__\u001b[1;34m(self, s)\u001b[0m\n\u001b[0;32m     11\u001b[0m         \u001b[1;32mif\u001b[0m \u001b[0misinstance\u001b[0m\u001b[1;33m(\u001b[0m\u001b[0ms\u001b[0m\u001b[1;33m,\u001b[0m \u001b[0mint\u001b[0m\u001b[1;33m)\u001b[0m\u001b[1;33m:\u001b[0m\u001b[1;33m\u001b[0m\u001b[1;33m\u001b[0m\u001b[0m\n\u001b[0;32m     12\u001b[0m             \u001b[1;32mif\u001b[0m \u001b[0ms\u001b[0m \u001b[1;33m<\u001b[0m \u001b[1;36m0\u001b[0m \u001b[1;32mor\u001b[0m \u001b[0ms\u001b[0m \u001b[1;33m>=\u001b[0m \u001b[0mself\u001b[0m\u001b[1;33m.\u001b[0m\u001b[0mn\u001b[0m\u001b[1;33m:\u001b[0m\u001b[1;33m\u001b[0m\u001b[1;33m\u001b[0m\u001b[0m\n\u001b[1;32m---> 13\u001b[1;33m                 \u001b[1;32mraise\u001b[0m \u001b[0mIndexError\u001b[0m\u001b[1;33m\u001b[0m\u001b[1;33m\u001b[0m\u001b[0m\n\u001b[0m\u001b[0;32m     14\u001b[0m             \u001b[1;32melse\u001b[0m\u001b[1;33m:\u001b[0m\u001b[1;33m\u001b[0m\u001b[1;33m\u001b[0m\u001b[0m\n\u001b[0;32m     15\u001b[0m                 \u001b[1;32mreturn\u001b[0m \u001b[0mFib\u001b[0m\u001b[1;33m.\u001b[0m\u001b[0m_fib\u001b[0m\u001b[1;33m(\u001b[0m\u001b[0ms\u001b[0m\u001b[1;33m)\u001b[0m\u001b[1;33m\u001b[0m\u001b[1;33m\u001b[0m\u001b[0m\n",
      "\u001b[1;31mIndexError\u001b[0m: "
     ]
    }
   ],
   "source": [
    "f[9]"
   ]
  },
  {
   "cell_type": "markdown",
   "metadata": {},
   "source": [
    "***However we are getting error on -1 also. We want to have capability to return last element when supplied with -1 & in reverse order for -ve indexes***"
   ]
  },
  {
   "cell_type": "code",
   "execution_count": 40,
   "metadata": {},
   "outputs": [
    {
     "ename": "IndexError",
     "evalue": "",
     "output_type": "error",
     "traceback": [
      "\u001b[1;31m---------------------------------------------------------------------------\u001b[0m",
      "\u001b[1;31mIndexError\u001b[0m                                Traceback (most recent call last)",
      "\u001b[1;32m<ipython-input-40-35eccba07048>\u001b[0m in \u001b[0;36m<module>\u001b[1;34m\u001b[0m\n\u001b[1;32m----> 1\u001b[1;33m \u001b[0mf\u001b[0m\u001b[1;33m[\u001b[0m\u001b[1;33m-\u001b[0m\u001b[1;36m1\u001b[0m\u001b[1;33m]\u001b[0m\u001b[1;33m\u001b[0m\u001b[1;33m\u001b[0m\u001b[0m\n\u001b[0m",
      "\u001b[1;32m<ipython-input-35-a83ed5f32889>\u001b[0m in \u001b[0;36m__getitem__\u001b[1;34m(self, s)\u001b[0m\n\u001b[0;32m     11\u001b[0m         \u001b[1;32mif\u001b[0m \u001b[0misinstance\u001b[0m\u001b[1;33m(\u001b[0m\u001b[0ms\u001b[0m\u001b[1;33m,\u001b[0m \u001b[0mint\u001b[0m\u001b[1;33m)\u001b[0m\u001b[1;33m:\u001b[0m\u001b[1;33m\u001b[0m\u001b[1;33m\u001b[0m\u001b[0m\n\u001b[0;32m     12\u001b[0m             \u001b[1;32mif\u001b[0m \u001b[0ms\u001b[0m \u001b[1;33m<\u001b[0m \u001b[1;36m0\u001b[0m \u001b[1;32mor\u001b[0m \u001b[0ms\u001b[0m \u001b[1;33m>=\u001b[0m \u001b[0mself\u001b[0m\u001b[1;33m.\u001b[0m\u001b[0mn\u001b[0m\u001b[1;33m:\u001b[0m\u001b[1;33m\u001b[0m\u001b[1;33m\u001b[0m\u001b[0m\n\u001b[1;32m---> 13\u001b[1;33m                 \u001b[1;32mraise\u001b[0m \u001b[0mIndexError\u001b[0m\u001b[1;33m\u001b[0m\u001b[1;33m\u001b[0m\u001b[0m\n\u001b[0m\u001b[0;32m     14\u001b[0m             \u001b[1;32melse\u001b[0m\u001b[1;33m:\u001b[0m\u001b[1;33m\u001b[0m\u001b[1;33m\u001b[0m\u001b[0m\n\u001b[0;32m     15\u001b[0m                 \u001b[1;32mreturn\u001b[0m \u001b[0mFib\u001b[0m\u001b[1;33m.\u001b[0m\u001b[0m_fib\u001b[0m\u001b[1;33m(\u001b[0m\u001b[0ms\u001b[0m\u001b[1;33m)\u001b[0m\u001b[1;33m\u001b[0m\u001b[1;33m\u001b[0m\u001b[0m\n",
      "\u001b[1;31mIndexError\u001b[0m: "
     ]
    }
   ],
   "source": [
    "f[-1]"
   ]
  },
  {
   "cell_type": "code",
   "execution_count": 56,
   "metadata": {},
   "outputs": [],
   "source": [
    "# Modifying our methods \n",
    "\n",
    "from functools import lru_cache\n",
    "\n",
    "class Fib:\n",
    "    def __init__(self, n):\n",
    "        self.n = n\n",
    "        \n",
    "    def __len__(self):\n",
    "        return self.n\n",
    "    \n",
    "    def __getitem__(self, s):\n",
    "        if isinstance(s, int):\n",
    "            if s < 0:\n",
    "                s = self.n + s\n",
    "            \n",
    "            if s < 0 or s >= self.n:\n",
    "                raise IndexError\n",
    "            else:\n",
    "                return Fib._fib(s)\n",
    "            \n",
    "    @staticmethod #Static methods are methods that are bound to a class rather than its object.\n",
    "    @lru_cache(2**10)  ##powers of 2\n",
    "    def _fib(n):\n",
    "        if n < 2:\n",
    "            return 1\n",
    "        else:\n",
    "            return Fib._fib(n-1) + Fib._fib(n-2)"
   ]
  },
  {
   "cell_type": "code",
   "execution_count": 57,
   "metadata": {},
   "outputs": [],
   "source": [
    "f = Fib(8)"
   ]
  },
  {
   "cell_type": "code",
   "execution_count": 58,
   "metadata": {},
   "outputs": [
    {
     "data": {
      "text/plain": [
       "21"
      ]
     },
     "execution_count": 58,
     "metadata": {},
     "output_type": "execute_result"
    }
   ],
   "source": [
    "f[-1]"
   ]
  },
  {
   "cell_type": "code",
   "execution_count": 59,
   "metadata": {},
   "outputs": [
    {
     "data": {
      "text/plain": [
       "1"
      ]
     },
     "execution_count": 59,
     "metadata": {},
     "output_type": "execute_result"
    }
   ],
   "source": [
    "f[-8]"
   ]
  },
  {
   "cell_type": "code",
   "execution_count": 60,
   "metadata": {},
   "outputs": [
    {
     "ename": "IndexError",
     "evalue": "",
     "output_type": "error",
     "traceback": [
      "\u001b[1;31m---------------------------------------------------------------------------\u001b[0m",
      "\u001b[1;31mIndexError\u001b[0m                                Traceback (most recent call last)",
      "\u001b[1;32m<ipython-input-60-5cfaa6c11716>\u001b[0m in \u001b[0;36m<module>\u001b[1;34m\u001b[0m\n\u001b[1;32m----> 1\u001b[1;33m \u001b[0mf\u001b[0m\u001b[1;33m[\u001b[0m\u001b[1;33m-\u001b[0m\u001b[1;36m9\u001b[0m\u001b[1;33m]\u001b[0m\u001b[1;33m\u001b[0m\u001b[1;33m\u001b[0m\u001b[0m\n\u001b[0m",
      "\u001b[1;32m<ipython-input-56-e278893d33ff>\u001b[0m in \u001b[0;36m__getitem__\u001b[1;34m(self, s)\u001b[0m\n\u001b[0;32m     16\u001b[0m \u001b[1;33m\u001b[0m\u001b[0m\n\u001b[0;32m     17\u001b[0m             \u001b[1;32mif\u001b[0m \u001b[0ms\u001b[0m \u001b[1;33m<\u001b[0m \u001b[1;36m0\u001b[0m \u001b[1;32mor\u001b[0m \u001b[0ms\u001b[0m \u001b[1;33m>=\u001b[0m \u001b[0mself\u001b[0m\u001b[1;33m.\u001b[0m\u001b[0mn\u001b[0m\u001b[1;33m:\u001b[0m\u001b[1;33m\u001b[0m\u001b[1;33m\u001b[0m\u001b[0m\n\u001b[1;32m---> 18\u001b[1;33m                 \u001b[1;32mraise\u001b[0m \u001b[0mIndexError\u001b[0m\u001b[1;33m\u001b[0m\u001b[1;33m\u001b[0m\u001b[0m\n\u001b[0m\u001b[0;32m     19\u001b[0m             \u001b[1;32melse\u001b[0m\u001b[1;33m:\u001b[0m\u001b[1;33m\u001b[0m\u001b[1;33m\u001b[0m\u001b[0m\n\u001b[0;32m     20\u001b[0m                 \u001b[1;32mreturn\u001b[0m \u001b[0mFib\u001b[0m\u001b[1;33m.\u001b[0m\u001b[0m_fib\u001b[0m\u001b[1;33m(\u001b[0m\u001b[0ms\u001b[0m\u001b[1;33m)\u001b[0m\u001b[1;33m\u001b[0m\u001b[1;33m\u001b[0m\u001b[0m\n",
      "\u001b[1;31mIndexError\u001b[0m: "
     ]
    }
   ],
   "source": [
    "f[-9]"
   ]
  },
  {
   "cell_type": "markdown",
   "metadata": {},
   "source": [
    "***We need below capability also because if we give index ranges, it should work***"
   ]
  },
  {
   "cell_type": "code",
   "execution_count": 66,
   "metadata": {},
   "outputs": [
    {
     "data": {
      "text/plain": [
       "[1, 3, 5, 7, 9]"
      ]
     },
     "execution_count": 66,
     "metadata": {},
     "output_type": "execute_result"
    }
   ],
   "source": [
    "my_list = [1,2,3,4,5,6,7,8,9,10]\n",
    "my_list[0:10:2]"
   ]
  },
  {
   "cell_type": "code",
   "execution_count": 67,
   "metadata": {},
   "outputs": [
    {
     "data": {
      "text/plain": [
       "[10, 8, 6, 4, 2]"
      ]
     },
     "execution_count": 67,
     "metadata": {},
     "output_type": "execute_result"
    }
   ],
   "source": [
    "my_list[10:0:-2]"
   ]
  },
  {
   "cell_type": "code",
   "execution_count": 69,
   "metadata": {},
   "outputs": [],
   "source": [
    "f[0:4:2]"
   ]
  },
  {
   "cell_type": "code",
   "execution_count": 78,
   "metadata": {},
   "outputs": [],
   "source": [
    "# Modifying our methods \n",
    "\n",
    "from functools import lru_cache\n",
    "\n",
    "class Fib:\n",
    "    def __init__(self, n):\n",
    "        self.n = n\n",
    "        \n",
    "    def __len__(self):\n",
    "        return self.n\n",
    "    \n",
    "    def __getitem__(self, s):\n",
    "        if isinstance(s, int):\n",
    "            if s < 0:\n",
    "                s = self.n + s\n",
    "            \n",
    "            if s < 0 or s >= self.n:\n",
    "                raise IndexError\n",
    "            else:\n",
    "                return Fib._fib(s)\n",
    "        else:\n",
    "            print(f'self.n : {self.n}, s : {s}')\n",
    "            print(f's.indices(self.n) : {s.indices(self.n)}')\n",
    "            start, stop, step = s.indices(self.n)\n",
    "            rng = range(start, stop, step)\n",
    "            return [Fib._fib(i) for i in rng]\n",
    "            \n",
    "    @staticmethod #Static methods are methods that are bound to a class rather than its object.\n",
    "    @lru_cache(2**10)  ##powers of 2\n",
    "    def _fib(n):\n",
    "        if n < 2:\n",
    "            return 1\n",
    "        else:\n",
    "            return Fib._fib(n-1) + Fib._fib(n-2)"
   ]
  },
  {
   "cell_type": "code",
   "execution_count": 79,
   "metadata": {},
   "outputs": [
    {
     "data": {
      "text/plain": [
       "[1, 1, 2, 3, 5, 8, 13, 21, 34, 55]"
      ]
     },
     "execution_count": 79,
     "metadata": {},
     "output_type": "execute_result"
    }
   ],
   "source": [
    "f = Fib(10)\n",
    "list(f)"
   ]
  },
  {
   "cell_type": "code",
   "execution_count": 80,
   "metadata": {},
   "outputs": [
    {
     "data": {
      "text/plain": [
       "<__main__.Fib at 0x146ad243c08>"
      ]
     },
     "execution_count": 80,
     "metadata": {},
     "output_type": "execute_result"
    }
   ],
   "source": [
    "f"
   ]
  },
  {
   "cell_type": "code",
   "execution_count": 81,
   "metadata": {},
   "outputs": [
    {
     "name": "stdout",
     "output_type": "stream",
     "text": [
      "self.n : 10, s : slice(0, 6, 3)\n",
      "s.indices(self.n) : (0, 6, 3)\n"
     ]
    },
    {
     "data": {
      "text/plain": [
       "[1, 3]"
      ]
     },
     "execution_count": 81,
     "metadata": {},
     "output_type": "execute_result"
    }
   ],
   "source": [
    "f[0:6:3]"
   ]
  },
  {
   "cell_type": "code",
   "execution_count": 74,
   "metadata": {},
   "outputs": [
    {
     "data": {
      "text/plain": [
       "[55, 21, 8]"
      ]
     },
     "execution_count": 74,
     "metadata": {},
     "output_type": "execute_result"
    }
   ],
   "source": [
    "f[9:4:-2]"
   ]
  },
  {
   "cell_type": "code",
   "execution_count": 76,
   "metadata": {},
   "outputs": [],
   "source": [
    "f = Fib(3)"
   ]
  },
  {
   "cell_type": "code",
   "execution_count": 77,
   "metadata": {},
   "outputs": [
    {
     "name": "stdout",
     "output_type": "stream",
     "text": [
      "self.n : 3, s : slice(0, 2, 1)\n"
     ]
    },
    {
     "data": {
      "text/plain": [
       "[1, 1]"
      ]
     },
     "execution_count": 77,
     "metadata": {},
     "output_type": "execute_result"
    }
   ],
   "source": [
    "f[0:2:1]"
   ]
  },
  {
   "cell_type": "markdown",
   "metadata": {},
   "source": [
    "### Inplace concatenation and repetition"
   ]
  },
  {
   "cell_type": "code",
   "execution_count": 102,
   "metadata": {},
   "outputs": [
    {
     "name": "stdout",
     "output_type": "stream",
     "text": [
      "id(l1) : 1403073589064, id(l2) : 1403073589000\n",
      "[1, 2, 3, 4, 5] [4, 5]\n",
      "id(l1) : 1403070494472, id(l2) : 1403073589000\n"
     ]
    }
   ],
   "source": [
    "l1 = [1,2,3]\n",
    "l2 = [4,5]\n",
    "print(f'id(l1) : {id(l1)}, id(l2) : {id(l2)}')\n",
    "l1 = l1 + l2\n",
    "print(l1, l2)\n",
    "print(f'id(l1) : {id(l1)}, id(l2) : {id(l2)}')"
   ]
  },
  {
   "cell_type": "code",
   "execution_count": 90,
   "metadata": {},
   "outputs": [
    {
     "data": {
      "text/plain": [
       "[1, 2, 3, 4, 5]"
      ]
     },
     "execution_count": 90,
     "metadata": {},
     "output_type": "execute_result"
    }
   ],
   "source": [
    "l1"
   ]
  },
  {
   "cell_type": "markdown",
   "metadata": {},
   "source": [
    "***+= -> inplace concatenation, memory will remain same***"
   ]
  },
  {
   "cell_type": "code",
   "execution_count": 103,
   "metadata": {},
   "outputs": [
    {
     "name": "stdout",
     "output_type": "stream",
     "text": [
      "id(l1) : 1403073589064, id(l2) : 1403064151880\n",
      "id(l1) : 1403073589064, id(l2) : 1403064151880\n"
     ]
    },
    {
     "data": {
      "text/plain": [
       "[1, 2, 3, 4, 5]"
      ]
     },
     "execution_count": 103,
     "metadata": {},
     "output_type": "execute_result"
    }
   ],
   "source": [
    "l1 = [1,2,3]\n",
    "l2 = [4,5]\n",
    "print(f'id(l1) : {id(l1)}, id(l2) : {id(l2)}')\n",
    "l1 += l2\n",
    "print(f'id(l1) : {id(l1)}, id(l2) : {id(l2)}')\n",
    "l1"
   ]
  },
  {
   "cell_type": "code",
   "execution_count": 104,
   "metadata": {},
   "outputs": [
    {
     "name": "stdout",
     "output_type": "stream",
     "text": [
      "id(t1) : 1403063418136, id(t2) : 1403061726888\n",
      "id(t1) : 1403060554440, id(t2) : 1403061726888\n"
     ]
    },
    {
     "data": {
      "text/plain": [
       "(1, 2, 3, 100, 200, 300)"
      ]
     },
     "execution_count": 104,
     "metadata": {},
     "output_type": "execute_result"
    }
   ],
   "source": [
    "t1 = (1,2,3)\n",
    "t2 = (100, 200, 300)\n",
    "print(f'id(t1) : {id(t1)}, id(t2) : {id(t2)}')\n",
    "t1 = t1 + t2\n",
    "print(f'id(t1) : {id(t1)}, id(t2) : {id(t2)}')\n",
    "t1"
   ]
  },
  {
   "cell_type": "markdown",
   "metadata": {},
   "source": [
    "***+= will work with heterogenous type as well like list += tuple OR list += string & memory of list will remain same***"
   ]
  },
  {
   "cell_type": "code",
   "execution_count": 105,
   "metadata": {},
   "outputs": [
    {
     "name": "stdout",
     "output_type": "stream",
     "text": [
      "id(l1) : 1403064840456, id(t2) : 1403061726888\n",
      "id(l1) : 1403064840456, id(t2) : 1403061726888\n"
     ]
    },
    {
     "data": {
      "text/plain": [
       "[1, 2, 3, 4, 5, 6]"
      ]
     },
     "execution_count": 105,
     "metadata": {},
     "output_type": "execute_result"
    }
   ],
   "source": [
    "l1 = [1,2,3]\n",
    "t1 = (4,5,6)\n",
    "print(f'id(l1) : {id(l1)}, id(t2) : {id(t2)}')\n",
    "l1 += t1\n",
    "print(f'id(l1) : {id(l1)}, id(t2) : {id(t2)}')\n",
    "l1"
   ]
  },
  {
   "cell_type": "code",
   "execution_count": 106,
   "metadata": {},
   "outputs": [
    {
     "name": "stdout",
     "output_type": "stream",
     "text": [
      "id(l1) : 1403073901448, id(s1) : 1403063670640\n",
      "id(l1) : 1403073901448, id(s1) : 1403063670640\n"
     ]
    },
    {
     "data": {
      "text/plain": [
       "[1, 2, 3, 'a', 'n', 'i', 'l']"
      ]
     },
     "execution_count": 106,
     "metadata": {},
     "output_type": "execute_result"
    }
   ],
   "source": [
    "l1 = [1,2,3]\n",
    "s1 = 'anil'\n",
    "print(f'id(l1) : {id(l1)}, id(s1) : {id(s1)}')\n",
    "l1 += s1\n",
    "print(f'id(l1) : {id(l1)}, id(s1) : {id(s1)}')\n",
    "l1"
   ]
  },
  {
   "cell_type": "markdown",
   "metadata": {},
   "source": [
    "***But tuple += list wont work, str += list also wont work***"
   ]
  },
  {
   "cell_type": "code",
   "execution_count": 93,
   "metadata": {},
   "outputs": [
    {
     "ename": "TypeError",
     "evalue": "can only concatenate tuple (not \"list\") to tuple",
     "output_type": "error",
     "traceback": [
      "\u001b[1;31m---------------------------------------------------------------------------\u001b[0m",
      "\u001b[1;31mTypeError\u001b[0m                                 Traceback (most recent call last)",
      "\u001b[1;32m<ipython-input-93-d8ba7d0f9487>\u001b[0m in \u001b[0;36m<module>\u001b[1;34m\u001b[0m\n\u001b[0;32m      1\u001b[0m \u001b[0mt1\u001b[0m \u001b[1;33m=\u001b[0m \u001b[1;33m(\u001b[0m\u001b[1;36m1\u001b[0m\u001b[1;33m,\u001b[0m\u001b[1;36m2\u001b[0m\u001b[1;33m,\u001b[0m\u001b[1;36m3\u001b[0m\u001b[1;33m)\u001b[0m\u001b[1;33m\u001b[0m\u001b[1;33m\u001b[0m\u001b[0m\n\u001b[0;32m      2\u001b[0m \u001b[0ml1\u001b[0m \u001b[1;33m=\u001b[0m \u001b[1;33m[\u001b[0m\u001b[1;36m10\u001b[0m\u001b[1;33m,\u001b[0m\u001b[1;36m20\u001b[0m\u001b[1;33m,\u001b[0m\u001b[1;36m30\u001b[0m\u001b[1;33m]\u001b[0m\u001b[1;33m\u001b[0m\u001b[1;33m\u001b[0m\u001b[0m\n\u001b[1;32m----> 3\u001b[1;33m \u001b[0mt1\u001b[0m \u001b[1;33m+=\u001b[0m \u001b[0ml1\u001b[0m\u001b[1;33m\u001b[0m\u001b[1;33m\u001b[0m\u001b[0m\n\u001b[0m\u001b[0;32m      4\u001b[0m \u001b[0mt1\u001b[0m\u001b[1;33m\u001b[0m\u001b[1;33m\u001b[0m\u001b[0m\n",
      "\u001b[1;31mTypeError\u001b[0m: can only concatenate tuple (not \"list\") to tuple"
     ]
    }
   ],
   "source": [
    "t1 = (1,2,3)\n",
    "l1 = [10,20,30]\n",
    "t1 += l1\n",
    "t1"
   ]
  },
  {
   "cell_type": "code",
   "execution_count": 96,
   "metadata": {},
   "outputs": [
    {
     "ename": "TypeError",
     "evalue": "can only concatenate str (not \"list\") to str",
     "output_type": "error",
     "traceback": [
      "\u001b[1;31m---------------------------------------------------------------------------\u001b[0m",
      "\u001b[1;31mTypeError\u001b[0m                                 Traceback (most recent call last)",
      "\u001b[1;32m<ipython-input-96-a23a95de261f>\u001b[0m in \u001b[0;36m<module>\u001b[1;34m\u001b[0m\n\u001b[0;32m      1\u001b[0m \u001b[0ml1\u001b[0m \u001b[1;33m=\u001b[0m \u001b[1;33m[\u001b[0m\u001b[1;36m1\u001b[0m\u001b[1;33m,\u001b[0m\u001b[1;36m2\u001b[0m\u001b[1;33m,\u001b[0m\u001b[1;36m3\u001b[0m\u001b[1;33m]\u001b[0m\u001b[1;33m\u001b[0m\u001b[1;33m\u001b[0m\u001b[0m\n\u001b[0;32m      2\u001b[0m \u001b[0ms1\u001b[0m \u001b[1;33m=\u001b[0m \u001b[1;34m'anil'\u001b[0m\u001b[1;33m\u001b[0m\u001b[1;33m\u001b[0m\u001b[0m\n\u001b[1;32m----> 3\u001b[1;33m \u001b[0ms1\u001b[0m \u001b[1;33m+=\u001b[0m \u001b[0ml1\u001b[0m\u001b[1;33m\u001b[0m\u001b[1;33m\u001b[0m\u001b[0m\n\u001b[0m\u001b[0;32m      4\u001b[0m \u001b[0ms1\u001b[0m\u001b[1;33m\u001b[0m\u001b[1;33m\u001b[0m\u001b[0m\n",
      "\u001b[1;31mTypeError\u001b[0m: can only concatenate str (not \"list\") to str"
     ]
    }
   ],
   "source": [
    "l1 = [1,2,3]\n",
    "s1 = 'anil'\n",
    "s1 += l1\n",
    "s1"
   ]
  },
  {
   "cell_type": "markdown",
   "metadata": {},
   "source": [
    "***+= will work with immutable objects but no specific advantages because memory will change***"
   ]
  },
  {
   "cell_type": "code",
   "execution_count": 107,
   "metadata": {},
   "outputs": [
    {
     "name": "stdout",
     "output_type": "stream",
     "text": [
      "id(t1) : 1403068009592, id(t2) : 1403062994648\n",
      "id(t1) : 1403063283528, id(t2) : 1403062994648\n"
     ]
    },
    {
     "data": {
      "text/plain": [
       "(10, 20, 30, 90, 180, 270)"
      ]
     },
     "execution_count": 107,
     "metadata": {},
     "output_type": "execute_result"
    }
   ],
   "source": [
    "t1 = (10, 20, 30)\n",
    "t2 = (90, 180, 270)\n",
    "print(f'id(t1) : {id(t1)}, id(t2) : {id(t2)}')\n",
    "t1 += t2\n",
    "print(f'id(t1) : {id(t1)}, id(t2) : {id(t2)}')\n",
    "t1"
   ]
  },
  {
   "cell_type": "code",
   "execution_count": 108,
   "metadata": {},
   "outputs": [
    {
     "name": "stdout",
     "output_type": "stream",
     "text": [
      "id(s1) : 1403063670640, id(s2) : 1403062903856\n",
      "id(s1) : 1403062897008, id(s2) : 1403062903856\n"
     ]
    },
    {
     "data": {
      "text/plain": [
       "'anil bhatt'"
      ]
     },
     "execution_count": 108,
     "metadata": {},
     "output_type": "execute_result"
    }
   ],
   "source": [
    "s1 = 'anil'\n",
    "s2 = ' bhatt'\n",
    "print(f'id(s1) : {id(s1)}, id(s2) : {id(s2)}')\n",
    "s1 += s2\n",
    "print(f'id(s1) : {id(s1)}, id(s2) : {id(s2)}')\n",
    "s1"
   ]
  },
  {
   "cell_type": "markdown",
   "metadata": {},
   "source": [
    "***Repetition***"
   ]
  },
  {
   "cell_type": "markdown",
   "metadata": {},
   "source": [
    "***Memory will change here***"
   ]
  },
  {
   "cell_type": "code",
   "execution_count": 110,
   "metadata": {},
   "outputs": [
    {
     "name": "stdout",
     "output_type": "stream",
     "text": [
      "id(l1) : 1403073966024\n",
      "id(l1) : 1403063970376\n"
     ]
    },
    {
     "data": {
      "text/plain": [
       "[1, 2, 3, 1, 2, 3]"
      ]
     },
     "execution_count": 110,
     "metadata": {},
     "output_type": "execute_result"
    }
   ],
   "source": [
    "l1 = [1,2,3]\n",
    "print(f'id(l1) : {id(l1)}')\n",
    "l1 = l1*2\n",
    "print(f'id(l1) : {id(l1)}')\n",
    "l1"
   ]
  },
  {
   "cell_type": "markdown",
   "metadata": {},
   "source": [
    "***Memory wont change with inplace repetition***"
   ]
  },
  {
   "cell_type": "code",
   "execution_count": 112,
   "metadata": {},
   "outputs": [
    {
     "name": "stdout",
     "output_type": "stream",
     "text": [
      "id(l1) : 1403073634824\n",
      "id(l1) : 1403073634824\n"
     ]
    },
    {
     "data": {
      "text/plain": [
       "[11, 2, 3, 11, 2, 3]"
      ]
     },
     "execution_count": 112,
     "metadata": {},
     "output_type": "execute_result"
    }
   ],
   "source": [
    "l1 = [11,2,3]\n",
    "print(f'id(l1) : {id(l1)}')\n",
    "l1 *= 2\n",
    "print(f'id(l1) : {id(l1)}')\n",
    "l1"
   ]
  },
  {
   "cell_type": "markdown",
   "metadata": {},
   "source": [
    "### SORTING Sequences - Output will always be list"
   ]
  },
  {
   "cell_type": "code",
   "execution_count": 113,
   "metadata": {},
   "outputs": [
    {
     "data": {
      "text/plain": [
       "[1, 2, 3, 10, 20, 100, 1000]"
      ]
     },
     "execution_count": 113,
     "metadata": {},
     "output_type": "execute_result"
    }
   ],
   "source": [
    "t = (10, 20, 1, 2, 100, 3, 1000)\n",
    "sorted(t)"
   ]
  },
  {
   "cell_type": "code",
   "execution_count": 114,
   "metadata": {},
   "outputs": [
    {
     "data": {
      "text/plain": [
       "[1, 2, 3, 10, 20, 100, 1000]"
      ]
     },
     "execution_count": 114,
     "metadata": {},
     "output_type": "execute_result"
    }
   ],
   "source": [
    "k = sorted(t)\n",
    "k"
   ]
  },
  {
   "cell_type": "code",
   "execution_count": 120,
   "metadata": {},
   "outputs": [
    {
     "ename": "TypeError",
     "evalue": "'<' not supported between instances of 'complex' and 'complex'",
     "output_type": "error",
     "traceback": [
      "\u001b[1;31m---------------------------------------------------------------------------\u001b[0m",
      "\u001b[1;31mTypeError\u001b[0m                                 Traceback (most recent call last)",
      "\u001b[1;32m<ipython-input-120-39ccbb23e1ff>\u001b[0m in \u001b[0;36m<module>\u001b[1;34m\u001b[0m\n\u001b[0;32m      1\u001b[0m \u001b[0mc\u001b[0m \u001b[1;33m=\u001b[0m \u001b[1;36m1\u001b[0m\u001b[1;33m+\u001b[0m\u001b[1;36m1j\u001b[0m\u001b[1;33m,\u001b[0m \u001b[1;36m3\u001b[0m\u001b[1;33m-\u001b[0m\u001b[1;36m3j\u001b[0m\u001b[1;33m\u001b[0m\u001b[1;33m\u001b[0m\u001b[0m\n\u001b[1;32m----> 2\u001b[1;33m \u001b[0msorted\u001b[0m\u001b[1;33m(\u001b[0m\u001b[0mc\u001b[0m\u001b[1;33m)\u001b[0m\u001b[1;33m\u001b[0m\u001b[1;33m\u001b[0m\u001b[0m\n\u001b[0m",
      "\u001b[1;31mTypeError\u001b[0m: '<' not supported between instances of 'complex' and 'complex'"
     ]
    }
   ],
   "source": [
    "c = 1+1j, 3-3j\n",
    "sorted(c)"
   ]
  },
  {
   "cell_type": "code",
   "execution_count": 121,
   "metadata": {},
   "outputs": [
    {
     "data": {
      "text/plain": [
       "[(1+1j), (3-3j)]"
      ]
     },
     "execution_count": 121,
     "metadata": {},
     "output_type": "execute_result"
    }
   ],
   "source": [
    "c = 1+1j, 3-3j\n",
    "sorted(c, key=abs)"
   ]
  },
  {
   "cell_type": "code",
   "execution_count": 122,
   "metadata": {},
   "outputs": [
    {
     "data": {
      "text/plain": [
       "['a', 'd', 'm']"
      ]
     },
     "execution_count": 122,
     "metadata": {},
     "output_type": "execute_result"
    }
   ],
   "source": [
    "d = {'a':100, 'm':1, 'd':50}\n",
    "sorted(d)"
   ]
  },
  {
   "cell_type": "code",
   "execution_count": 123,
   "metadata": {},
   "outputs": [
    {
     "data": {
      "text/plain": [
       "['m', 'd', 'a']"
      ]
     },
     "execution_count": 123,
     "metadata": {},
     "output_type": "execute_result"
    }
   ],
   "source": [
    "sorted(d, key = lambda k:d[k])"
   ]
  },
  {
   "cell_type": "code",
   "execution_count": 124,
   "metadata": {},
   "outputs": [
    {
     "data": {
      "text/plain": [
       "['an', 'awesome', 'course', 'is', 'this']"
      ]
     },
     "execution_count": 124,
     "metadata": {},
     "output_type": "execute_result"
    }
   ],
   "source": [
    "l = ['this', 'is', 'an', 'awesome', 'course']\n",
    "\n",
    "sorted(l)"
   ]
  },
  {
   "cell_type": "code",
   "execution_count": 129,
   "metadata": {},
   "outputs": [
    {
     "data": {
      "text/plain": [
       "['is', 'an', 'this', 'course', 'awesome']"
      ]
     },
     "execution_count": 129,
     "metadata": {},
     "output_type": "execute_result"
    }
   ],
   "source": [
    "sorted(l, key = lambda l:len(l))   # Sort by length"
   ]
  },
  {
   "cell_type": "code",
   "execution_count": null,
   "metadata": {},
   "outputs": [],
   "source": []
  }
 ],
 "metadata": {
  "kernelspec": {
   "display_name": "Python 3",
   "language": "python",
   "name": "python3"
  },
  "language_info": {
   "codemirror_mode": {
    "name": "ipython",
    "version": 3
   },
   "file_extension": ".py",
   "mimetype": "text/x-python",
   "name": "python",
   "nbconvert_exporter": "python",
   "pygments_lexer": "ipython3",
   "version": "3.7.4"
  }
 },
 "nbformat": 4,
 "nbformat_minor": 2
}
