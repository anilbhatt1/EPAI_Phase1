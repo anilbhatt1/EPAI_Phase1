{
 "cells": [
  {
   "cell_type": "markdown",
   "metadata": {},
   "source": [
    "1. Create a Polygon Class:\n",
    "    - where initializer takes in:\n",
    "        - number of edges/vertices\n",
    "        - circumradius\n",
    "    - that can provide these properties:\n",
    "        - edges\n",
    "        - vertices\n",
    "        - interior angle\n",
    "        - edge length\n",
    "        - apothem\n",
    "        - area\n",
    "        - perimeter\n",
    "    - that has these functionalities:\n",
    "        - a proper __repr__ function\n",
    "        - implements equality (==) based on # vertices and circumradius (__eq__)\n",
    "        - implements > based on number of vertices only (__gt__)"
   ]
  },
  {
   "cell_type": "code",
   "execution_count": 259,
   "metadata": {},
   "outputs": [],
   "source": [
    "class polygon:\n",
    "    import math\n",
    "    def __init__(self, num_edges:int, circumrad:float):\n",
    "        '''\n",
    "        Accepts 2 parameters - Number of edges(n) and Circumradius(R)\n",
    "        Derives below properties:\n",
    "        self.int_angle -> (n−2) * 180 * n \n",
    "        self.edge_len  -> s = 2 * R * sin(π/n)\n",
    "        self.apothem   -> a = R * cos(π * n)\n",
    "        self.area      -> 12 * n * s * a\n",
    "        self.perimeter -> n * s\n",
    "        '''\n",
    "        if isinstance(num_edges, int) and num_edges >=3:\n",
    "            self.n                = num_edges\n",
    "        else:\n",
    "            raise ValueError('Number of edges must be integer')\n",
    "        \n",
    "        if isinstance(circumrad, (int, float)) and circumrad > 0:\n",
    "            self.R                = circumrad\n",
    "        else:\n",
    "            raise ValueError('Circumradius must be a +ve float or integer')                         \n",
    "               \n",
    "       \n",
    "    def __repr__(self):\n",
    "        '''\n",
    "        repr function for polygon class. Will give info on\n",
    "        No: of edges, Circumradius\n",
    "        '''\n",
    "        s1 = 'Regular Polygon class having '\n",
    "        s2 = f'{self.n} sides, circumradius = {self.R}'\n",
    "        return s1 + s2 \n",
    "    \n",
    "    def __eq__(self, oth_poly:'polygon object'):\n",
    "        '''\n",
    "        Checks whether a given polygon object is equal or not based on no:of edges and circumradius\n",
    "        '''\n",
    "        return self.n == oth_poly.n and self.R == oth_poly.R   \n",
    "    \n",
    "    def __gt__(self, oth_poly:'polygon object'):\n",
    "        '''\n",
    "        Checks whether a given polygon object is greater than or not based on no:of edges\n",
    "        '''\n",
    "        return self.n > oth_poly.n   \n",
    "    \n",
    "    @property\n",
    "    def int_angle(self)-> float:\n",
    "        return (self.n - 2) * 180/(self.n)\n",
    "    \n",
    "    @property\n",
    "    def edge_len(self)-> float:\n",
    "        return 2 * self.R * math.sin(math.pi/self.n)\n",
    "    \n",
    "    @property\n",
    "    def apothem(self)-> float:\n",
    "        return self.R * math.cos(math.pi/self.n)\n",
    "    \n",
    "    @property\n",
    "    def area(self)-> float:\n",
    "        return 0.5 * self.n * self.edge_len * self.apothem\n",
    "    \n",
    "    @property\n",
    "    def perimeter(self)-> float:\n",
    "        return self.n * self.edge_len"
   ]
  },
  {
   "cell_type": "code",
   "execution_count": 267,
   "metadata": {},
   "outputs": [
    {
     "name": "stdout",
     "output_type": "stream",
     "text": [
      "120.0\n",
      "10.0\n",
      "8.6603\n",
      "259.8076\n",
      "60.0\n"
     ]
    }
   ],
   "source": [
    "p1 = polygon(6, 10)\n",
    "print(round(p1.int_angle,4))\n",
    "print(round(p1.edge_len,4))\n",
    "print(round(p1.apothem,4))\n",
    "print(round(p1.area,4))\n",
    "print(round(p1.perimeter,4))"
   ]
  },
  {
   "cell_type": "code",
   "execution_count": 277,
   "metadata": {},
   "outputs": [],
   "source": [
    "rect = polygon(15, 10)\n",
    "rect1 = polygon(15,10)"
   ]
  },
  {
   "cell_type": "code",
   "execution_count": 278,
   "metadata": {},
   "outputs": [
    {
     "data": {
      "text/plain": [
       "True"
      ]
     },
     "execution_count": 278,
     "metadata": {},
     "output_type": "execute_result"
    }
   ],
   "source": [
    "rect == rect1"
   ]
  },
  {
   "cell_type": "code",
   "execution_count": null,
   "metadata": {},
   "outputs": [],
   "source": []
  },
  {
   "cell_type": "code",
   "execution_count": 279,
   "metadata": {},
   "outputs": [
    {
     "data": {
      "text/plain": [
       "True"
      ]
     },
     "execution_count": 279,
     "metadata": {},
     "output_type": "execute_result"
    }
   ],
   "source": [
    "rect2 = polygon(4, 10)\n",
    "rect > rect2"
   ]
  },
  {
   "cell_type": "code",
   "execution_count": 276,
   "metadata": {},
   "outputs": [
    {
     "name": "stdout",
     "output_type": "stream",
     "text": [
      "15 4\n"
     ]
    }
   ],
   "source": [
    "print(rect.n, rect2.n)"
   ]
  },
  {
   "cell_type": "code",
   "execution_count": 282,
   "metadata": {},
   "outputs": [
    {
     "data": {
      "text/plain": [
       "True"
      ]
     },
     "execution_count": 282,
     "metadata": {},
     "output_type": "execute_result"
    }
   ],
   "source": [
    "rect3 = polygon(30, 10)\n",
    "rect < rect3"
   ]
  },
  {
   "cell_type": "code",
   "execution_count": 281,
   "metadata": {},
   "outputs": [
    {
     "ename": "ValueError",
     "evalue": "Circumradius must be a +ve float or integer",
     "output_type": "error",
     "traceback": [
      "\u001b[1;31m---------------------------------------------------------------------------\u001b[0m",
      "\u001b[1;31mValueError\u001b[0m                                Traceback (most recent call last)",
      "\u001b[1;32m<ipython-input-281-ebb41bee7ee4>\u001b[0m in \u001b[0;36m<module>\u001b[1;34m\u001b[0m\n\u001b[1;32m----> 1\u001b[1;33m \u001b[0mtrian\u001b[0m \u001b[1;33m=\u001b[0m \u001b[0mpolygon\u001b[0m\u001b[1;33m(\u001b[0m\u001b[1;36m3\u001b[0m\u001b[1;33m,\u001b[0m \u001b[1;33m-\u001b[0m\u001b[1;36m10.5\u001b[0m\u001b[1;33m)\u001b[0m\u001b[1;33m\u001b[0m\u001b[1;33m\u001b[0m\u001b[0m\n\u001b[0m",
      "\u001b[1;32m<ipython-input-259-3e74e53ed589>\u001b[0m in \u001b[0;36m__init__\u001b[1;34m(self, num_edges, circumrad)\u001b[0m\n\u001b[0;32m     19\u001b[0m             \u001b[0mself\u001b[0m\u001b[1;33m.\u001b[0m\u001b[0mR\u001b[0m                \u001b[1;33m=\u001b[0m \u001b[0mcircumrad\u001b[0m\u001b[1;33m\u001b[0m\u001b[1;33m\u001b[0m\u001b[0m\n\u001b[0;32m     20\u001b[0m         \u001b[1;32melse\u001b[0m\u001b[1;33m:\u001b[0m\u001b[1;33m\u001b[0m\u001b[1;33m\u001b[0m\u001b[0m\n\u001b[1;32m---> 21\u001b[1;33m             \u001b[1;32mraise\u001b[0m \u001b[0mValueError\u001b[0m\u001b[1;33m(\u001b[0m\u001b[1;34m'Circumradius must be a +ve float or integer'\u001b[0m\u001b[1;33m)\u001b[0m\u001b[1;33m\u001b[0m\u001b[1;33m\u001b[0m\u001b[0m\n\u001b[0m\u001b[0;32m     22\u001b[0m \u001b[1;33m\u001b[0m\u001b[0m\n\u001b[0;32m     23\u001b[0m \u001b[1;33m\u001b[0m\u001b[0m\n",
      "\u001b[1;31mValueError\u001b[0m: Circumradius must be a +ve float or integer"
     ]
    }
   ],
   "source": [
    "trian = polygon(3, -10.5)"
   ]
  },
  {
   "cell_type": "code",
   "execution_count": 264,
   "metadata": {},
   "outputs": [
    {
     "data": {
      "text/plain": [
       "Regular Polygon class having 15 sides, circumradius = 10"
      ]
     },
     "execution_count": 264,
     "metadata": {},
     "output_type": "execute_result"
    }
   ],
   "source": [
    "rect"
   ]
  },
  {
   "cell_type": "code",
   "execution_count": 265,
   "metadata": {},
   "outputs": [
    {
     "data": {
      "text/plain": [
       "'Regular Polygon class having 15 sides, circumradius = 10'"
      ]
     },
     "execution_count": 265,
     "metadata": {},
     "output_type": "execute_result"
    }
   ],
   "source": [
    "repr(rect)"
   ]
  },
  {
   "cell_type": "code",
   "execution_count": 283,
   "metadata": {},
   "outputs": [],
   "source": [
    "class poly_seq:\n",
    "    '''\n",
    "    This is a ploygon sequence class that can accept:\n",
    "        - number of vertices for largest polygon in the sequence\n",
    "        - common circumradius for all polygons\n",
    "    '''\n",
    "    import math\n",
    "    from functools import lru_cache\n",
    "    \n",
    "    def __init__(self, edges:int, radius:'int or float')->None:\n",
    "        '''\n",
    "        Initializer method\n",
    "        self.edges -> Input\n",
    "        self.R     -> Input\n",
    "        self.eff_ratio -> Will get populated while calling max_efficient()\n",
    "        '''       \n",
    "        if isinstance(edges, int) and edges > 0:\n",
    "            self.edges = edges\n",
    "        else:\n",
    "            raise ValueError('Number of vertices for largest polygon in the sequence must be integer > 0')        \n",
    "        \n",
    "        if isinstance(radius, (int, float)) and radius > 0:\n",
    "            self.R = radius\n",
    "        else:\n",
    "            raise ValueError('Common Circumradius must be float or integer > 0')\n",
    "        \n",
    "        self.eff_ratio = {}\n",
    "        \n",
    "    def __repr__(self):\n",
    "        '''\n",
    "        repr function for poly_seq class. Will give info on\n",
    "        No: of edges(n) of largest polyon in the sequence and common Circumradius(R)\n",
    "        '''\n",
    "        s1 = 'poly_seq class instance : Largest Polygon class in the sequence has '\n",
    "        s2 = f'{self.edges} sides with a common circumradius = {self.R}'\n",
    "        return s1 + s2   \n",
    "    \n",
    "    def __len__(self):\n",
    "        '''\n",
    "        Returns length of polygon sequence\n",
    "        '''\n",
    "        return self.edges\n",
    "            \n",
    "    def __getitem__(self, idx:int)->tuple:\n",
    "        '''\n",
    "        getitem method that will help us to call the polygon sequences created by index as below\n",
    "        s1 = poly_seq(6, 10)\n",
    "        s1[-1], s1[0], s[5] etc.\n",
    "        \n",
    "        getitem based on the index it received, calls method '_calc_ratio' by supplying index+1 (to avoid 0 sides) & \n",
    "        circumradius used while creating poly_seq class.\n",
    "        '''\n",
    "        # This is to handle -ve indexes like -1 s1[-1] should return last element in sequence\n",
    "        if idx < 0:                \n",
    "            idx = self.edges + idx\n",
    "        \n",
    "        # Here s < 0 is important because this will handle large negative 's' like s = -9999    \n",
    "        if idx < 0 or idx >= self.edges: \n",
    "            raise ValueError(f'Idx Unavailable. For no: of edges = {self.edges}, available indexes are 0 to {int(self.edges-1)}')           \n",
    " \n",
    "        # for indexes 0 & 1 i.e. sides = 1 and sides =2 return area/perimeter ratio as 0 as they are not polygons\n",
    "        if idx < 2: \n",
    "            ratio = 0\n",
    "        else:\n",
    "            ratio = poly_seq._calc_ratio(idx+1, self.R) \n",
    "            \n",
    "        msg   = f'Area-Perimeter ration for polygon of side {idx+1} is {ratio}'\n",
    "        return msg, ratio         \n",
    "    \n",
    "                    \n",
    "    @staticmethod #Static methods are methods that are bound to a class rather than its object.\n",
    "    @lru_cache(2**10)  ##powers of 2            \n",
    "    def _calc_ratio(num_edges:int, c_radius:'int or float')->float:\n",
    "        '''\n",
    "        This is a method attached to class rather than object. This means we can call this method for parameters that are \n",
    "        not used while creating object.\n",
    "        eg: s1 = poly_seq(6, 10). Here sides = 6, radius =10.\n",
    "        However we can call s1._calc_ratio(10, 20) ie for sides of 10 and radius = 20 without issues as we are not using self here.\n",
    "        We are using lru_cache to store the values already claculated so that repetitive calculations can be avoided.\n",
    "        This method is directly called in __getitem__() and indirectly called from max_efficient() methods.        \n",
    "        '''\n",
    "        poly = polygon(num_edges, c_radius)\n",
    "        return poly.area/poly.perimeter         \n",
    "            \n",
    "    @property\n",
    "    def max_efficient(self)->str:\n",
    "        '''\n",
    "        This method returns the Polygon with the highest area: perimeter ratio.\n",
    "        Calls _getitem__ for each edge starting from 0 till self.edges -1 .\n",
    "        __getitem__ fetches area-perimeter ratio then by calling _calc_ratio.\n",
    "        If n = 0, __getitem__ gives area-per ratio for side = 1\n",
    "           n = 5, __getitem__ gives area-per ratio for side = 6        \n",
    "        '''\n",
    "    \n",
    "        for n in range(self.edges):\n",
    "            self.eff_ratio[n+1] = self.__getitem__(n)[1]\n",
    "            \n",
    "        max_eff = max(self.eff_ratio, key=self.eff_ratio.get) \n",
    "        # Reference for 'max' usage with 'key': https://stackoverflow.com/questions/18296755/python-max-function-using-key-and-lambda-expression\n",
    "\n",
    "        s1 = f'Polygon with max efficiency for circumradius of {self.R} is one with {max_eff} sides & '\n",
    "        s2 = f'Area-perimeter ratio for the same is {round(self.eff_ratio.get(max_eff), 4)}'\n",
    "        return s1 + s2           \n",
    "        "
   ]
  },
  {
   "cell_type": "code",
   "execution_count": 284,
   "metadata": {},
   "outputs": [],
   "source": [
    "s1 = poly_seq(6, 10)"
   ]
  },
  {
   "cell_type": "code",
   "execution_count": 290,
   "metadata": {},
   "outputs": [
    {
     "data": {
      "text/plain": [
       "'poly_seq class instance : Largest Polygon class in the sequence has 6 sides with a common circumradius = 10'"
      ]
     },
     "execution_count": 290,
     "metadata": {},
     "output_type": "execute_result"
    }
   ],
   "source": [
    "repr(s1)"
   ]
  },
  {
   "cell_type": "code",
   "execution_count": 286,
   "metadata": {},
   "outputs": [
    {
     "data": {
      "text/plain": [
       "6"
      ]
     },
     "execution_count": 286,
     "metadata": {},
     "output_type": "execute_result"
    }
   ],
   "source": [
    "len(s1)"
   ]
  },
  {
   "cell_type": "code",
   "execution_count": 287,
   "metadata": {},
   "outputs": [
    {
     "name": "stdout",
     "output_type": "stream",
     "text": [
      "('Area-Perimeter ration for polygon of side 1 is 0', 0)\n",
      "('Area-Perimeter ration for polygon of side 2 is 0', 0)\n",
      "('Area-Perimeter ration for polygon of side 3 is 2.5000000000000004', 2.5000000000000004)\n",
      "('Area-Perimeter ration for polygon of side 4 is 3.535533905932738', 3.535533905932738)\n",
      "('Area-Perimeter ration for polygon of side 5 is 4.045084971874737', 4.045084971874737)\n",
      "('Area-Perimeter ration for polygon of side 6 is 4.330127018922194', 4.330127018922194)\n"
     ]
    },
    {
     "ename": "ValueError",
     "evalue": "Idx Unavailable. For no: of edges = 6, available indexes are 0 to 5",
     "output_type": "error",
     "traceback": [
      "\u001b[1;31m---------------------------------------------------------------------------\u001b[0m",
      "\u001b[1;31mValueError\u001b[0m                                Traceback (most recent call last)",
      "\u001b[1;32m<ipython-input-287-00853c360f5a>\u001b[0m in \u001b[0;36m<module>\u001b[1;34m\u001b[0m\n\u001b[1;32m----> 1\u001b[1;33m \u001b[1;32mfor\u001b[0m \u001b[0mi\u001b[0m \u001b[1;32min\u001b[0m \u001b[0ms1\u001b[0m\u001b[1;33m:\u001b[0m\u001b[1;33m\u001b[0m\u001b[1;33m\u001b[0m\u001b[0m\n\u001b[0m\u001b[0;32m      2\u001b[0m     \u001b[0mprint\u001b[0m\u001b[1;33m(\u001b[0m\u001b[0mi\u001b[0m\u001b[1;33m)\u001b[0m\u001b[1;33m\u001b[0m\u001b[1;33m\u001b[0m\u001b[0m\n",
      "\u001b[1;32m<ipython-input-283-3fc5bab84829>\u001b[0m in \u001b[0;36m__getitem__\u001b[1;34m(self, idx)\u001b[0m\n\u001b[0;32m     57\u001b[0m         \u001b[1;31m# Here s < 0 is important because this will handle large negative 's' like s = -9999\u001b[0m\u001b[1;33m\u001b[0m\u001b[1;33m\u001b[0m\u001b[1;33m\u001b[0m\u001b[0m\n\u001b[0;32m     58\u001b[0m         \u001b[1;32mif\u001b[0m \u001b[0midx\u001b[0m \u001b[1;33m<\u001b[0m \u001b[1;36m0\u001b[0m \u001b[1;32mor\u001b[0m \u001b[0midx\u001b[0m \u001b[1;33m>=\u001b[0m \u001b[0mself\u001b[0m\u001b[1;33m.\u001b[0m\u001b[0medges\u001b[0m\u001b[1;33m:\u001b[0m\u001b[1;33m\u001b[0m\u001b[1;33m\u001b[0m\u001b[0m\n\u001b[1;32m---> 59\u001b[1;33m             \u001b[1;32mraise\u001b[0m \u001b[0mValueError\u001b[0m\u001b[1;33m(\u001b[0m\u001b[1;34mf'Idx Unavailable. For no: of edges = {self.edges}, available indexes are 0 to {int(self.edges-1)}'\u001b[0m\u001b[1;33m)\u001b[0m\u001b[1;33m\u001b[0m\u001b[1;33m\u001b[0m\u001b[0m\n\u001b[0m\u001b[0;32m     60\u001b[0m \u001b[1;33m\u001b[0m\u001b[0m\n\u001b[0;32m     61\u001b[0m         \u001b[1;31m# for indexes 0 & 1 i.e. sides = 1 and sides =2 return area/perimeter ratio as 0 as they are not polygons\u001b[0m\u001b[1;33m\u001b[0m\u001b[1;33m\u001b[0m\u001b[1;33m\u001b[0m\u001b[0m\n",
      "\u001b[1;31mValueError\u001b[0m: Idx Unavailable. For no: of edges = 6, available indexes are 0 to 5"
     ]
    }
   ],
   "source": [
    "for i in s1:\n",
    "    print(i)"
   ]
  },
  {
   "cell_type": "code",
   "execution_count": 289,
   "metadata": {},
   "outputs": [
    {
     "data": {
      "text/plain": [
       "('Area-Perimeter ration for polygon of side 1 is 0', 0)"
      ]
     },
     "execution_count": 289,
     "metadata": {},
     "output_type": "execute_result"
    }
   ],
   "source": [
    "s1[0]"
   ]
  },
  {
   "cell_type": "code",
   "execution_count": 233,
   "metadata": {},
   "outputs": [
    {
     "data": {
      "text/plain": [
       "('Area-Perimeter ration for polygon of side 3 is 2.5000000000000004',\n",
       " 2.5000000000000004)"
      ]
     },
     "execution_count": 233,
     "metadata": {},
     "output_type": "execute_result"
    }
   ],
   "source": [
    "s1[2]"
   ]
  },
  {
   "cell_type": "code",
   "execution_count": 234,
   "metadata": {},
   "outputs": [
    {
     "data": {
      "text/plain": [
       "('Area-Perimeter ration for polygon of side 4 is 3.535533905932738',\n",
       " 3.535533905932738)"
      ]
     },
     "execution_count": 234,
     "metadata": {},
     "output_type": "execute_result"
    }
   ],
   "source": [
    "s1[3]"
   ]
  },
  {
   "cell_type": "code",
   "execution_count": 235,
   "metadata": {},
   "outputs": [
    {
     "data": {
      "text/plain": [
       "('Area-Perimeter ration for polygon of side 6 is 4.330127018922194',\n",
       " 4.330127018922194)"
      ]
     },
     "execution_count": 235,
     "metadata": {},
     "output_type": "execute_result"
    }
   ],
   "source": [
    "s1[5]"
   ]
  },
  {
   "cell_type": "code",
   "execution_count": 236,
   "metadata": {},
   "outputs": [
    {
     "ename": "ValueError",
     "evalue": "Idx Unavailable. For no: of edges = 6, available indexes are 0 to 5",
     "output_type": "error",
     "traceback": [
      "\u001b[1;31m---------------------------------------------------------------------------\u001b[0m",
      "\u001b[1;31mValueError\u001b[0m                                Traceback (most recent call last)",
      "\u001b[1;32m<ipython-input-236-a8d995d77ec1>\u001b[0m in \u001b[0;36m<module>\u001b[1;34m\u001b[0m\n\u001b[1;32m----> 1\u001b[1;33m \u001b[0ms1\u001b[0m\u001b[1;33m[\u001b[0m\u001b[1;36m6\u001b[0m\u001b[1;33m]\u001b[0m\u001b[1;33m\u001b[0m\u001b[1;33m\u001b[0m\u001b[0m\n\u001b[0m",
      "\u001b[1;32m<ipython-input-228-284722673a15>\u001b[0m in \u001b[0;36m__getitem__\u001b[1;34m(self, idx)\u001b[0m\n\u001b[0;32m     42\u001b[0m         \u001b[1;31m# Here s < 0 is important because this will handle large negative 's' like s = -9999\u001b[0m\u001b[1;33m\u001b[0m\u001b[1;33m\u001b[0m\u001b[1;33m\u001b[0m\u001b[0m\n\u001b[0;32m     43\u001b[0m         \u001b[1;32mif\u001b[0m \u001b[0midx\u001b[0m \u001b[1;33m<\u001b[0m \u001b[1;36m0\u001b[0m \u001b[1;32mor\u001b[0m \u001b[0midx\u001b[0m \u001b[1;33m>=\u001b[0m \u001b[0mself\u001b[0m\u001b[1;33m.\u001b[0m\u001b[0medges\u001b[0m\u001b[1;33m:\u001b[0m\u001b[1;33m\u001b[0m\u001b[1;33m\u001b[0m\u001b[0m\n\u001b[1;32m---> 44\u001b[1;33m             \u001b[1;32mraise\u001b[0m \u001b[0mValueError\u001b[0m\u001b[1;33m(\u001b[0m\u001b[1;34mf'Idx Unavailable. For no: of edges = {self.edges}, available indexes are 0 to {int(self.edges-1)}'\u001b[0m\u001b[1;33m)\u001b[0m\u001b[1;33m\u001b[0m\u001b[1;33m\u001b[0m\u001b[0m\n\u001b[0m\u001b[0;32m     45\u001b[0m \u001b[1;33m\u001b[0m\u001b[0m\n\u001b[0;32m     46\u001b[0m         \u001b[1;31m# for indexes 0 & 1 i.e. sides = 1 and sides =2 return area/perimeter ratio as 0 as they are not polygons\u001b[0m\u001b[1;33m\u001b[0m\u001b[1;33m\u001b[0m\u001b[1;33m\u001b[0m\u001b[0m\n",
      "\u001b[1;31mValueError\u001b[0m: Idx Unavailable. For no: of edges = 6, available indexes are 0 to 5"
     ]
    }
   ],
   "source": [
    "s1[6]"
   ]
  },
  {
   "cell_type": "code",
   "execution_count": 237,
   "metadata": {},
   "outputs": [
    {
     "data": {
      "text/plain": [
       "('Area-Perimeter ration for polygon of side 6 is 4.330127018922194',\n",
       " 4.330127018922194)"
      ]
     },
     "execution_count": 237,
     "metadata": {},
     "output_type": "execute_result"
    }
   ],
   "source": [
    "s1[-1]"
   ]
  },
  {
   "cell_type": "code",
   "execution_count": 238,
   "metadata": {},
   "outputs": [
    {
     "data": {
      "text/plain": [
       "'Polygon with max efficiency for circumradius of 10 is one with 6 sides & Area-perimeter ratio for the same is 4.3301'"
      ]
     },
     "execution_count": 238,
     "metadata": {},
     "output_type": "execute_result"
    }
   ],
   "source": [
    "s1.max_efficient"
   ]
  },
  {
   "cell_type": "code",
   "execution_count": 239,
   "metadata": {},
   "outputs": [
    {
     "data": {
      "text/plain": [
       "9.510565162951535"
      ]
     },
     "execution_count": 239,
     "metadata": {},
     "output_type": "execute_result"
    }
   ],
   "source": [
    "s1._calc_ratio(10, 20)"
   ]
  },
  {
   "cell_type": "code",
   "execution_count": 240,
   "metadata": {},
   "outputs": [
    {
     "data": {
      "text/plain": [
       "'Polygon with max efficiency for circumradius of 10 is one with 6 sides & Area-perimeter ratio for the same is 4.3301'"
      ]
     },
     "execution_count": 240,
     "metadata": {},
     "output_type": "execute_result"
    }
   ],
   "source": [
    "s1.max_efficient"
   ]
  },
  {
   "cell_type": "code",
   "execution_count": 241,
   "metadata": {},
   "outputs": [
    {
     "data": {
      "text/plain": [
       "<property at 0x1bfe5bea8b0>"
      ]
     },
     "execution_count": 241,
     "metadata": {},
     "output_type": "execute_result"
    }
   ],
   "source": [
    "poly_seq.max_efficient"
   ]
  },
  {
   "cell_type": "code",
   "execution_count": 242,
   "metadata": {},
   "outputs": [],
   "source": [
    "s2 = poly_seq(edges=25, radius=10)"
   ]
  },
  {
   "cell_type": "code",
   "execution_count": 243,
   "metadata": {},
   "outputs": [
    {
     "data": {
      "text/plain": [
       "'Polygon with max efficiency for circumradius of 10 is one with 25 sides & Area-perimeter ratio for the same is 4.9606'"
      ]
     },
     "execution_count": 243,
     "metadata": {},
     "output_type": "execute_result"
    }
   ],
   "source": [
    "s2.max_efficient"
   ]
  },
  {
   "cell_type": "code",
   "execution_count": null,
   "metadata": {},
   "outputs": [],
   "source": []
  }
 ],
 "metadata": {
  "kernelspec": {
   "display_name": "Python 3",
   "language": "python",
   "name": "python3"
  },
  "language_info": {
   "codemirror_mode": {
    "name": "ipython",
    "version": 3
   },
   "file_extension": ".py",
   "mimetype": "text/x-python",
   "name": "python",
   "nbconvert_exporter": "python",
   "pygments_lexer": "ipython3",
   "version": "3.8.3"
  }
 },
 "nbformat": 4,
 "nbformat_minor": 4
}
