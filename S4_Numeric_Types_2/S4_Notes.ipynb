{
 "cells": [
  {
   "cell_type": "markdown",
   "metadata": {},
   "source": [
    "### Notebook Covers following topics:\n",
    "- **isclose() both based on rel_tol and abs_tol**\n",
    "- **trunc()**\n",
    "- **floor()**\n",
    "- **ceil()**\n",
    "- **round()**\n",
    "- **Decimals**\n",
    "    - getcontext\n",
    "    - Context manager 'decimal.localcontext()' and setting localcontexts to override 'rounding', 'prec' etc using it.\n",
    "    - Getting size using **sys.getsizeof()**\n",
    "    - Why we should use floats whenever possible instead of Decimal. Use Decimal only if extra precision is required\n",
    "- **Complex Numbers**\n",
    "    - real & imag\n",
    "    - cmath (Substitute of math for complex numbers)\n",
    "- **Booleans**\n",
    "    - display using format with required decimal places\n",
    "    - Fact : True is 1, false is 0 \n",
    "    - 5 Cool booelan tricks with examples\n",
    "    - Familiarize strings\n",
    "    - How OR evaluates a condition\n",
    "    - How AND evaluates a condition\n",
    "    - Using 'in' to evaluate conditions"
   ]
  },
  {
   "cell_type": "code",
   "execution_count": 34,
   "metadata": {},
   "outputs": [],
   "source": [
    "# All required imports for this notebook \n",
    "from math import isclose\n",
    "from math import trunc, floor, ceil\n",
    "import decimal\n",
    "from decimal import Decimal\n",
    "import sys\n",
    "import math\n",
    "import cmath\n",
    "from fractions import Fraction\n",
    "import string"
   ]
  },
  {
   "cell_type": "markdown",
   "metadata": {},
   "source": [
    "## **isclose**"
   ]
  },
  {
   "cell_type": "code",
   "execution_count": 4,
   "metadata": {},
   "outputs": [],
   "source": [
    "from math import isclose"
   ]
  },
  {
   "cell_type": "code",
   "execution_count": 5,
   "metadata": {},
   "outputs": [
    {
     "data": {
      "text/plain": [
       "True"
      ]
     },
     "execution_count": 5,
     "metadata": {},
     "output_type": "execute_result"
    }
   ],
   "source": [
    "x = 10000000000.01\n",
    "y = 10000000000.02\n",
    "isclose(x, y, rel_tol=0.01)"
   ]
  },
  {
   "cell_type": "code",
   "execution_count": 6,
   "metadata": {},
   "outputs": [
    {
     "data": {
      "text/plain": [
       "False"
      ]
     },
     "execution_count": 6,
     "metadata": {},
     "output_type": "execute_result"
    }
   ],
   "source": [
    "x = 1.01\n",
    "y = 1.02\n",
    "isclose(x, y, rel_tol=0.001)"
   ]
  },
  {
   "cell_type": "code",
   "execution_count": 7,
   "metadata": {},
   "outputs": [
    {
     "data": {
      "text/plain": [
       "False"
      ]
     },
     "execution_count": 7,
     "metadata": {},
     "output_type": "execute_result"
    }
   ],
   "source": [
    "x = .01\n",
    "y = .02\n",
    "isclose(x, y, rel_tol=0.01)"
   ]
  },
  {
   "cell_type": "code",
   "execution_count": 8,
   "metadata": {},
   "outputs": [
    {
     "data": {
      "text/plain": [
       "True"
      ]
     },
     "execution_count": 8,
     "metadata": {},
     "output_type": "execute_result"
    }
   ],
   "source": [
    "x = .01\n",
    "y = .02\n",
    "isclose(x, y, abs_tol=0.01)"
   ]
  },
  {
   "cell_type": "code",
   "execution_count": 9,
   "metadata": {},
   "outputs": [
    {
     "data": {
      "text/plain": [
       "False"
      ]
     },
     "execution_count": 9,
     "metadata": {},
     "output_type": "execute_result"
    }
   ],
   "source": [
    "x = .01\n",
    "y = .02\n",
    "isclose(x, y, abs_tol=0.001)"
   ]
  },
  {
   "cell_type": "markdown",
   "metadata": {},
   "source": [
    "## **Trunc, floor, ceil**\n",
    "- Trunc -> Returns integer portion of input supplied\n",
    "- Floor -> Returns lowest integer close to the input supplied. Floors ↓\n",
    "- Ceil  -> Returns greatets integer close to the input supplied. Ceiling ↑ "
   ]
  },
  {
   "cell_type": "code",
   "execution_count": 12,
   "metadata": {},
   "outputs": [],
   "source": [
    "from math import trunc, floor, ceil"
   ]
  },
  {
   "cell_type": "code",
   "execution_count": 13,
   "metadata": {},
   "outputs": [
    {
     "data": {
      "text/plain": [
       "(-10, 0, 10, 1)"
      ]
     },
     "execution_count": 13,
     "metadata": {},
     "output_type": "execute_result"
    }
   ],
   "source": [
    "trunc(-10.3), trunc(-0.9), trunc(10.3), trunc(1.1)"
   ]
  },
  {
   "cell_type": "code",
   "execution_count": 14,
   "metadata": {},
   "outputs": [
    {
     "data": {
      "text/plain": [
       "(-11, -1, 10, 1, 0)"
      ]
     },
     "execution_count": 14,
     "metadata": {},
     "output_type": "execute_result"
    }
   ],
   "source": [
    "floor(-10.3), floor(-0.9), floor(10.3), floor(1.1), floor(0.01)"
   ]
  },
  {
   "cell_type": "code",
   "execution_count": 15,
   "metadata": {},
   "outputs": [
    {
     "data": {
      "text/plain": [
       "(-10, 0, 11, 2, 1)"
      ]
     },
     "execution_count": 15,
     "metadata": {},
     "output_type": "execute_result"
    }
   ],
   "source": [
    "ceil(-10.3), ceil(-0.9), ceil(10.3), ceil(1.1), ceil(0.01)"
   ]
  },
  {
   "cell_type": "markdown",
   "metadata": {},
   "source": [
    "**Round Logic**\n",
    "- 2  -> 2 decimal places\n",
    "- 1  -> 1 decimal place\n",
    "- 0  -> 0th decimal place. Basically round to the integer\n",
    "- -1 -> 10th place\n",
    "- -2 -> 100th place\n",
    "- -3 -> 1000th place\n",
    "- -4 -> 10,000th place. eg: round(888.88, -4)...Here 888.88 is closer to 0 than 10,000, hence will return 0"
   ]
  },
  {
   "cell_type": "code",
   "execution_count": 1,
   "metadata": {},
   "outputs": [
    {
     "data": {
      "text/plain": [
       "(888.88, 888.9, 889.0, 890.0, 900.0, 1000.0, 0.0)"
      ]
     },
     "execution_count": 1,
     "metadata": {},
     "output_type": "execute_result"
    }
   ],
   "source": [
    "round(888.88, 2), round(888.88, 1), round(888.88, 0), \\\n",
    "round(888.88, -1), round(888.88, -2), round(888.88, -3), round(888.88, -4)"
   ]
  },
  {
   "cell_type": "code",
   "execution_count": 1,
   "metadata": {},
   "outputs": [
    {
     "data": {
      "text/plain": [
       "10000"
      ]
     },
     "execution_count": 1,
     "metadata": {},
     "output_type": "execute_result"
    }
   ],
   "source": [
    "round(5001, -4)"
   ]
  },
  {
   "cell_type": "markdown",
   "metadata": {},
   "source": [
    "## **Decimals**"
   ]
  },
  {
   "cell_type": "code",
   "execution_count": 2,
   "metadata": {},
   "outputs": [],
   "source": [
    "import decimal\n",
    "from decimal import Decimal"
   ]
  },
  {
   "cell_type": "markdown",
   "metadata": {},
   "source": [
    "***decimal.getcontext() -> Here it gives global context***"
   ]
  },
  {
   "cell_type": "code",
   "execution_count": 3,
   "metadata": {},
   "outputs": [
    {
     "data": {
      "text/plain": [
       "Context(prec=28, rounding=ROUND_HALF_EVEN, Emin=-999999, Emax=999999, capitals=1, clamp=0, flags=[], traps=[InvalidOperation, DivisionByZero, Overflow])"
      ]
     },
     "execution_count": 3,
     "metadata": {},
     "output_type": "execute_result"
    }
   ],
   "source": [
    "decimal.getcontext()"
   ]
  },
  {
   "cell_type": "code",
   "execution_count": 9,
   "metadata": {},
   "outputs": [
    {
     "data": {
      "text/plain": [
       "decimal.Context"
      ]
     },
     "execution_count": 9,
     "metadata": {},
     "output_type": "execute_result"
    }
   ],
   "source": [
    "type(decimal.getcontext())"
   ]
  },
  {
   "cell_type": "code",
   "execution_count": 5,
   "metadata": {},
   "outputs": [
    {
     "name": "stdout",
     "output_type": "stream",
     "text": [
      "decimal.getcontext().prec : 28, decimal.getcontext().rounding :ROUND_HALF_EVEN\n"
     ]
    }
   ],
   "source": [
    "print(f'decimal.getcontext().prec : {decimal.getcontext().prec}, decimal.getcontext().rounding :{decimal.getcontext().rounding}')"
   ]
  },
  {
   "cell_type": "markdown",
   "metadata": {},
   "source": [
    "***We can't change decimal.getcontext() values as well***"
   ]
  },
  {
   "cell_type": "code",
   "execution_count": 7,
   "metadata": {},
   "outputs": [],
   "source": [
    "decimal.getcontext().prec = 5\n",
    "decimal.getcontext().rounding = 'ROUND_HALF_UP'"
   ]
  },
  {
   "cell_type": "code",
   "execution_count": 8,
   "metadata": {},
   "outputs": [
    {
     "name": "stdout",
     "output_type": "stream",
     "text": [
      "decimal.getcontext().prec : 28, decimal.getcontext().rounding :ROUND_HALF_EVEN\n"
     ]
    }
   ],
   "source": [
    "print(f'decimal.getcontext().prec : {decimal.getcontext().prec}, decimal.getcontext().rounding :{decimal.getcontext().rounding}')"
   ]
  },
  {
   "cell_type": "markdown",
   "metadata": {},
   "source": [
    "***But we can define a new object like g_txt and override the options as below***"
   ]
  },
  {
   "cell_type": "code",
   "execution_count": 18,
   "metadata": {},
   "outputs": [
    {
     "name": "stdout",
     "output_type": "stream",
     "text": [
      " g_ctx :Context(prec=28, rounding=ROUND_HALF_EVEN, Emin=-999999, Emax=999999, capitals=1, clamp=0, flags=[], traps=[InvalidOperation, DivisionByZero, Overflow]) \n",
      " \n",
      " decimal.getcontext() :Context(prec=28, rounding=ROUND_HALF_EVEN, Emin=-999999, Emax=999999, capitals=1, clamp=0, flags=[], traps=[InvalidOperation, DivisionByZero, Overflow])\n"
     ]
    }
   ],
   "source": [
    "g_ctx = decimal.getcontext()\n",
    "print(f' g_ctx :{g_ctx} \\n \\n decimal.getcontext() :{decimal.getcontext()}')"
   ]
  },
  {
   "cell_type": "code",
   "execution_count": 19,
   "metadata": {},
   "outputs": [
    {
     "name": "stdout",
     "output_type": "stream",
     "text": [
      " g_ctx :Context(prec=5, rounding=ROUND_HALF_UP, Emin=-999999, Emax=999999, capitals=1, clamp=0, flags=[], traps=[InvalidOperation, DivisionByZero, Overflow]) \n",
      " \n",
      " decimal.getcontext() :Context(prec=28, rounding=ROUND_HALF_EVEN, Emin=-999999, Emax=999999, capitals=1, clamp=0, flags=[], traps=[InvalidOperation, DivisionByZero, Overflow])\n"
     ]
    }
   ],
   "source": [
    "g_ctx.prec = 5\n",
    "g_ctx.rounding = 'ROUND_HALF_UP'\n",
    "print(f' g_ctx :{g_ctx} \\n \\n decimal.getcontext() :{decimal.getcontext()}')"
   ]
  },
  {
   "cell_type": "markdown",
   "metadata": {},
   "source": [
    "***We can use decimal__localcontext to set a context locally as shown below***"
   ]
  },
  {
   "cell_type": "code",
   "execution_count": 20,
   "metadata": {},
   "outputs": [
    {
     "data": {
      "text/plain": [
       "decimal.ContextManager"
      ]
     },
     "execution_count": 20,
     "metadata": {},
     "output_type": "execute_result"
    }
   ],
   "source": [
    "type(decimal.localcontext())"
   ]
  },
  {
   "cell_type": "code",
   "execution_count": 21,
   "metadata": {},
   "outputs": [
    {
     "name": "stdout",
     "output_type": "stream",
     "text": [
      "<class 'decimal.Context'>\n",
      "Context(prec=28, rounding=ROUND_HALF_EVEN, Emin=-999999, Emax=999999, capitals=1, clamp=0, flags=[], traps=[InvalidOperation, DivisionByZero, Overflow])\n"
     ]
    }
   ],
   "source": [
    "with decimal.localcontext() as ctx:\n",
    "    print(type(ctx))\n",
    "    print(ctx)"
   ]
  },
  {
   "cell_type": "markdown",
   "metadata": {},
   "source": [
    "***we are setting local context inside 'with' statement in below section*** \n",
    "\n",
    "***decimal.getcontext() -> Here it gives local context***"
   ]
  },
  {
   "cell_type": "code",
   "execution_count": 27,
   "metadata": {},
   "outputs": [
    {
     "name": "stdout",
     "output_type": "stream",
     "text": [
      "ctx :Context(prec=6, rounding=ROUND_HALF_UP, Emin=-999999, Emax=999999, capitals=1, clamp=0, flags=[], traps=[InvalidOperation, DivisionByZero, Overflow])\n",
      "ctx :Context(prec=6, rounding=ROUND_HALF_UP, Emin=-999999, Emax=999999, capitals=1, clamp=0, flags=[], traps=[InvalidOperation, DivisionByZero, Overflow]) \n",
      " \n",
      " decimal.globalcontext() : Context(prec=6, rounding=ROUND_HALF_UP, Emin=-999999, Emax=999999, capitals=1, clamp=0, flags=[], traps=[InvalidOperation, DivisionByZero, Overflow])\n",
      " Check if infact local context is getting used : True\n"
     ]
    }
   ],
   "source": [
    "with decimal.localcontext() as ctx:\n",
    "    ctx.prec = 6\n",
    "    ctx.rounding = 'ROUND_HALF_UP'\n",
    "    print(f'ctx :{ctx}')\n",
    "    # Check context inside 'with' statement\n",
    "    print(f'ctx :{ctx} \\n \\n decimal.globalcontext() : {decimal.getcontext()}')\n",
    "    print(f' Check if infact local context is getting used : {id(ctx) == id(decimal.getcontext())}')"
   ]
  },
  {
   "cell_type": "markdown",
   "metadata": {},
   "source": [
    "***How this affects calculations are demonstrated as below***\n",
    "\n",
    "***Local context uses 'ROUND_HALF_UP' whereas global context uses ''ROUND_HALF_EVEN'***"
   ]
  },
  {
   "cell_type": "code",
   "execution_count": 29,
   "metadata": {},
   "outputs": [
    {
     "name": "stdout",
     "output_type": "stream",
     "text": [
      "x :1.25, y :1.35\n"
     ]
    }
   ],
   "source": [
    "x = Decimal('1.25')\n",
    "y = Decimal('1.35')\n",
    "print(f'x :{x}, y :{y}')"
   ]
  },
  {
   "cell_type": "code",
   "execution_count": 36,
   "metadata": {},
   "outputs": [
    {
     "name": "stdout",
     "output_type": "stream",
     "text": [
      "  ** Local decimal.getcontext() :Context(prec=5, rounding=ROUND_HALF_UP, Emin=-999999, Emax=999999, capitals=1, clamp=0, flags=[], traps=[InvalidOperation, DivisionByZero, Overflow])\n",
      "  Using local context, rounding x : 1.3\n",
      "  Using local context, rounding y : 1.4\n",
      "** Global decimal.getcontext() :Context(prec=28, rounding=ROUND_HALF_EVEN, Emin=-999999, Emax=999999, capitals=1, clamp=0, flags=[], traps=[InvalidOperation, DivisionByZero, Overflow])\n",
      "Using GLOBAL context, rounding x : 1.2 --> Uses Bankers rounding here\n",
      "Using GLOBAL context, rounding y : 1.4\n"
     ]
    }
   ],
   "source": [
    "with decimal.localcontext() as ctx:\n",
    "    ctx.prec = 5\n",
    "    ctx.rounding = 'ROUND_HALF_UP'\n",
    "    print(f'  ** Local decimal.getcontext() :{decimal.getcontext()}')\n",
    "    print(f'  Using local context, rounding x : {round(x, 1)}')\n",
    "    print(f'  Using local context, rounding y : {round(y, 1)}')\n",
    "print(f'** Global decimal.getcontext() :{decimal.getcontext()}')          \n",
    "print(f'Using GLOBAL context, rounding x : {round(x, 1)} --> Uses Bankers rounding here')\n",
    "print(f'Using GLOBAL context, rounding y : {round(y, 1)}')"
   ]
  },
  {
   "cell_type": "markdown",
   "metadata": {},
   "source": [
    "***Variable created on a local context will continue to use it. Example as below***"
   ]
  },
  {
   "cell_type": "code",
   "execution_count": 37,
   "metadata": {},
   "outputs": [],
   "source": [
    "a = Decimal('0.123123123123')\n",
    "b = Decimal('0.123123123123')"
   ]
  },
  {
   "cell_type": "code",
   "execution_count": 38,
   "metadata": {},
   "outputs": [
    {
     "name": "stdout",
     "output_type": "stream",
     "text": [
      "0.246246\n",
      "local context printing c : 0.25\n",
      "global context printing c : 0.25\n",
      "global context printing a + b : 0.246246\n"
     ]
    }
   ],
   "source": [
    "decimal.getcontext().prec = 6 # Changing global precision to 6\n",
    "print(a + b)\n",
    "with decimal.localcontext() as ctx:\n",
    "    ctx.prec = 2\n",
    "    c = a + b\n",
    "    print(f'local context printing c : {c}')\n",
    "print(f'global context printing c : {c}')\n",
    "print(f'global context printing a + b : {a+b}')"
   ]
  },
  {
   "cell_type": "markdown",
   "metadata": {},
   "source": [
    "***Use Decimal ONLY if we want extra precision. Else go for float because Decimal is very memory intensive***"
   ]
  },
  {
   "cell_type": "markdown",
   "metadata": {},
   "source": [
    "***Let us see how much size a float consumes and how much decimal consumes***"
   ]
  },
  {
   "cell_type": "code",
   "execution_count": 91,
   "metadata": {},
   "outputs": [],
   "source": [
    "import sys"
   ]
  },
  {
   "cell_type": "code",
   "execution_count": 93,
   "metadata": {},
   "outputs": [
    {
     "name": "stdout",
     "output_type": "stream",
     "text": [
      "id(a) : 1545418227184, id(b) : 1545418089056\n"
     ]
    }
   ],
   "source": [
    "a = 3.1415\n",
    "b = Decimal('3.1415')\n",
    "print(f'id(a) : {id(a)}, id(b) : {id(b)}')"
   ]
  },
  {
   "cell_type": "code",
   "execution_count": 95,
   "metadata": {},
   "outputs": [
    {
     "name": "stdout",
     "output_type": "stream",
     "text": [
      "Size of a : 24\n",
      "Size of b : 104\n"
     ]
    }
   ],
   "source": [
    "print(f'Size of a : {sys.getsizeof(a)}')\n",
    "print(f'Size of b : {sys.getsizeof(b)}')     "
   ]
  },
  {
   "cell_type": "markdown",
   "metadata": {},
   "source": [
    "***Let us see how much time it takes to create a float vs decimal. We will use perf_counter -> an inbuilt method in time class to find out the time***"
   ]
  },
  {
   "cell_type": "code",
   "execution_count": 57,
   "metadata": {},
   "outputs": [],
   "source": [
    "import time\n",
    "\n",
    "#Creating a float n times\n",
    "def run_float(n=1):\n",
    "    for i in range(n):\n",
    "        a = 3.1415\n",
    "        \n",
    "#Creating a decimal n times       \n",
    "def run_decimal(n=1):\n",
    "    for i in range(n):\n",
    "        a = Decimal('3.1415')"
   ]
  },
  {
   "cell_type": "code",
   "execution_count": 55,
   "metadata": {},
   "outputs": [
    {
     "name": "stdout",
     "output_type": "stream",
     "text": [
      " Time to create float : 0.43106490000354825\n",
      " Time to create decimal : 5.344553300004918\n"
     ]
    }
   ],
   "source": [
    "n = 10_000_000\n",
    "start = time.perf_counter()\n",
    "run_float(n)\n",
    "end   = time.perf_counter()\n",
    "print(f' Time to create float : {end - start}')\n",
    "\n",
    "start = time.perf_counter()\n",
    "run_decimal(n)\n",
    "end   = time.perf_counter()\n",
    "print(f' Time to create decimal : {end - start}')"
   ]
  },
  {
   "cell_type": "markdown",
   "metadata": {},
   "source": [
    "***Let us see how much time it takes for calculations for float vs decimal***"
   ]
  },
  {
   "cell_type": "code",
   "execution_count": 58,
   "metadata": {},
   "outputs": [],
   "source": [
    "def add_float(n=1):\n",
    "    a = 3.1415\n",
    "    for i in range(n):\n",
    "        a + a\n",
    "        \n",
    "def add_decimal(n=1):\n",
    "    a = Decimal('3.1415')\n",
    "    for i in range(n):\n",
    "        a + a"
   ]
  },
  {
   "cell_type": "code",
   "execution_count": 59,
   "metadata": {},
   "outputs": [
    {
     "name": "stdout",
     "output_type": "stream",
     "text": [
      " Time to add float : 0.7555130000037025\n",
      " Time to add decimal : 1.4071653999999398\n"
     ]
    }
   ],
   "source": [
    "n = 10_000_000\n",
    "start = time.perf_counter()\n",
    "add_float(n)\n",
    "end   = time.perf_counter()\n",
    "print(f' Time to add float : {end - start}')\n",
    "\n",
    "start = time.perf_counter()\n",
    "add_decimal(n)\n",
    "end   = time.perf_counter()\n",
    "print(f' Time to add decimal : {end - start}')"
   ]
  },
  {
   "cell_type": "markdown",
   "metadata": {},
   "source": [
    "***Let us see how much time it takes for sqrt for float vs decimal. Decimal is PATHETIC !***"
   ]
  },
  {
   "cell_type": "code",
   "execution_count": 70,
   "metadata": {},
   "outputs": [],
   "source": [
    "def sqrt_float(n=1):\n",
    "    a = 3.1415\n",
    "    for i in range(n):\n",
    "        math.sqrt(a)\n",
    "        \n",
    "def sqrt_decimal(n=1):\n",
    "    a = Decimal('3.1415')\n",
    "    for i in range(n):\n",
    "        a.sqrt()"
   ]
  },
  {
   "cell_type": "code",
   "execution_count": 71,
   "metadata": {},
   "outputs": [
    {
     "name": "stdout",
     "output_type": "stream",
     "text": [
      " Time to sqrt float : 1.2601295999993454\n",
      " Time to sqrt decimal : 26.476208799998858\n"
     ]
    }
   ],
   "source": [
    "import math\n",
    "n = 10_000_000\n",
    "start = time.perf_counter()\n",
    "sqrt_float(n)\n",
    "end   = time.perf_counter()\n",
    "print(f' Time to sqrt float : {end - start}')\n",
    "\n",
    "start = time.perf_counter()\n",
    "sqrt_decimal(n)\n",
    "end   = time.perf_counter()\n",
    "print(f' Time to sqrt decimal : {end - start}')"
   ]
  },
  {
   "cell_type": "markdown",
   "metadata": {},
   "source": [
    "## **Complex Numbers**"
   ]
  },
  {
   "cell_type": "code",
   "execution_count": 73,
   "metadata": {},
   "outputs": [
    {
     "data": {
      "text/plain": [
       "True"
      ]
     },
     "execution_count": 73,
     "metadata": {},
     "output_type": "execute_result"
    }
   ],
   "source": [
    "# We can define a complex number in 2 ways\n",
    "a = complex(1, 2)\n",
    "b = 1 + 2j\n",
    "a == b"
   ]
  },
  {
   "cell_type": "markdown",
   "metadata": {},
   "source": [
    "***Real -> Gives real part, imag -> Gives imaginary part***"
   ]
  },
  {
   "cell_type": "code",
   "execution_count": 74,
   "metadata": {},
   "outputs": [
    {
     "name": "stdout",
     "output_type": "stream",
     "text": [
      "a.real 1.0, a.imag 2.0\n"
     ]
    }
   ],
   "source": [
    "print(f'a.real {a.real}, a.imag {a.imag}') "
   ]
  },
  {
   "cell_type": "markdown",
   "metadata": {},
   "source": [
    "***Conjugate gives -ve of complex number***"
   ]
  },
  {
   "cell_type": "code",
   "execution_count": 75,
   "metadata": {},
   "outputs": [
    {
     "data": {
      "text/plain": [
       "(1-2j)"
      ]
     },
     "execution_count": 75,
     "metadata": {},
     "output_type": "execute_result"
    }
   ],
   "source": [
    "a.conjugate()"
   ]
  },
  {
   "cell_type": "markdown",
   "metadata": {},
   "source": [
    "***Many of the functions defined in 'math' wont work for complex numbers. Hence use 'cmath' while dealing with complex numbers***"
   ]
  },
  {
   "cell_type": "code",
   "execution_count": 76,
   "metadata": {},
   "outputs": [],
   "source": [
    "import cmath"
   ]
  },
  {
   "cell_type": "code",
   "execution_count": 77,
   "metadata": {},
   "outputs": [
    {
     "data": {
      "text/plain": [
       "float"
      ]
     },
     "execution_count": 77,
     "metadata": {},
     "output_type": "execute_result"
    }
   ],
   "source": [
    "type(cmath.pi)"
   ]
  },
  {
   "cell_type": "code",
   "execution_count": 80,
   "metadata": {},
   "outputs": [],
   "source": [
    "a = 1 + 1j"
   ]
  },
  {
   "cell_type": "code",
   "execution_count": 81,
   "metadata": {},
   "outputs": [
    {
     "data": {
      "text/plain": [
       "(1.09868411346781+0.45508986056222733j)"
      ]
     },
     "execution_count": 81,
     "metadata": {},
     "output_type": "execute_result"
    }
   ],
   "source": [
    "cmath.sqrt(a)"
   ]
  },
  {
   "cell_type": "code",
   "execution_count": 85,
   "metadata": {},
   "outputs": [
    {
     "data": {
      "text/plain": [
       "0.7853981633974483"
      ]
     },
     "execution_count": 85,
     "metadata": {},
     "output_type": "execute_result"
    }
   ],
   "source": [
    "cmath.phase(a)  # This is the angle that complex number 1 + 1j represents basically ꙥ/4"
   ]
  },
  {
   "cell_type": "code",
   "execution_count": 84,
   "metadata": {},
   "outputs": [
    {
     "data": {
      "text/plain": [
       "0.7853981633974483"
      ]
     },
     "execution_count": 84,
     "metadata": {},
     "output_type": "execute_result"
    }
   ],
   "source": [
    "cmath.pi/4"
   ]
  },
  {
   "cell_type": "code",
   "execution_count": 87,
   "metadata": {},
   "outputs": [
    {
     "data": {
      "text/plain": [
       "1.4142135623730951"
      ]
     },
     "execution_count": 87,
     "metadata": {},
     "output_type": "execute_result"
    }
   ],
   "source": [
    "abs(a) # Gives magnitude of 1 + 1j which is sqrt(2)"
   ]
  },
  {
   "cell_type": "markdown",
   "metadata": {},
   "source": [
    "***Another way to represent a complex number***"
   ]
  },
  {
   "cell_type": "code",
   "execution_count": 89,
   "metadata": {},
   "outputs": [
    {
     "data": {
      "text/plain": [
       "(1.0000000000000002+1.0000000000000002j)"
      ]
     },
     "execution_count": 89,
     "metadata": {},
     "output_type": "execute_result"
    }
   ],
   "source": [
    "cmath.rect(math.sqrt(2), math.pi/4)  # cmath.rect(magnitude, phase)"
   ]
  },
  {
   "cell_type": "markdown",
   "metadata": {},
   "source": [
    "## **Boolean**"
   ]
  },
  {
   "cell_type": "markdown",
   "metadata": {},
   "source": [
    "***We can express a number as a string to any decimal places using format as below***"
   ]
  },
  {
   "cell_type": "code",
   "execution_count": 2,
   "metadata": {},
   "outputs": [
    {
     "data": {
      "text/plain": [
       "'0.10000000000000000555'"
      ]
     },
     "execution_count": 2,
     "metadata": {},
     "output_type": "execute_result"
    }
   ],
   "source": [
    "format(0.1, '.20f')"
   ]
  },
  {
   "cell_type": "code",
   "execution_count": 3,
   "metadata": {},
   "outputs": [
    {
     "data": {
      "text/plain": [
       "str"
      ]
     },
     "execution_count": 3,
     "metadata": {},
     "output_type": "execute_result"
    }
   ],
   "source": [
    "type(format(0.1, '.20f'))"
   ]
  },
  {
   "cell_type": "markdown",
   "metadata": {},
   "source": [
    "***True is 1 and False is 0***"
   ]
  },
  {
   "cell_type": "code",
   "execution_count": 5,
   "metadata": {},
   "outputs": [],
   "source": [
    "from fractions import Fraction"
   ]
  },
  {
   "cell_type": "code",
   "execution_count": 7,
   "metadata": {},
   "outputs": [
    {
     "data": {
      "text/plain": [
       "(True, True, True, True)"
      ]
     },
     "execution_count": 7,
     "metadata": {},
     "output_type": "execute_result"
    }
   ],
   "source": [
    "bool(10), bool(Fraction(1,2)), bool(1j), bool(Decimal('10.5'))  # All these are true"
   ]
  },
  {
   "cell_type": "code",
   "execution_count": 9,
   "metadata": {},
   "outputs": [
    {
     "data": {
      "text/plain": [
       "(False, False, False, False)"
      ]
     },
     "execution_count": 9,
     "metadata": {},
     "output_type": "execute_result"
    }
   ],
   "source": [
    "a = []\n",
    "b = ''\n",
    "c = ()\n",
    "d = 0\n",
    "bool(a), bool(b), bool(c), bool(d)       # All these are False"
   ]
  },
  {
   "cell_type": "markdown",
   "metadata": {},
   "source": [
    "***We can't create an empty set as a = {}. This is an empty dictionary. To create an empty set, we should use set() constructor as shown below.***"
   ]
  },
  {
   "cell_type": "code",
   "execution_count": 12,
   "metadata": {},
   "outputs": [
    {
     "data": {
      "text/plain": [
       "(False, False, False)"
      ]
     },
     "execution_count": 12,
     "metadata": {},
     "output_type": "execute_result"
    }
   ],
   "source": [
    "a = {}\n",
    "b = set()\n",
    "c = None\n",
    "bool(a), bool(b), bool(c) # All these are False"
   ]
  },
  {
   "cell_type": "markdown",
   "metadata": {},
   "source": [
    "***Cool boolean tricks -1 . Let us say a = [1, 2, 3] & we want to do something with a only if it exists and is non empty***\n"
   ]
  },
  {
   "cell_type": "code",
   "execution_count": 13,
   "metadata": {},
   "outputs": [
    {
     "name": "stdout",
     "output_type": "stream",
     "text": [
      "[1, 2, 3]\n"
     ]
    }
   ],
   "source": [
    "a = [1, 2, 3]\n",
    "# We normally code as below \n",
    "if len(a) > 0 and a is not None:\n",
    "    print(a)\n",
    "else:\n",
    "    print('empty')"
   ]
  },
  {
   "cell_type": "code",
   "execution_count": 14,
   "metadata": {},
   "outputs": [
    {
     "name": "stdout",
     "output_type": "stream",
     "text": [
      "[1, 2, 3]\n"
     ]
    }
   ],
   "source": [
    "# Cool trick\n",
    "if a:\n",
    "    print(a)\n",
    "else:\n",
    "    print('empty')"
   ]
  },
  {
   "cell_type": "code",
   "execution_count": 15,
   "metadata": {},
   "outputs": [
    {
     "name": "stdout",
     "output_type": "stream",
     "text": [
      "empty\n"
     ]
    }
   ],
   "source": [
    "# It works if we give empty\n",
    "a = []\n",
    "if a:\n",
    "    print(a)\n",
    "else:\n",
    "    print('empty')"
   ]
  },
  {
   "cell_type": "markdown",
   "metadata": {},
   "source": [
    "***Cool boolean tricks -2 . Let us say a = 10 & b = some value. We want to do something only if a/b > 2***"
   ]
  },
  {
   "cell_type": "code",
   "execution_count": 31,
   "metadata": {},
   "outputs": [
    {
     "name": "stdout",
     "output_type": "stream",
     "text": [
      "c1 : Condition satisfied\n",
      "c2: Not eligible \n",
      "c3 : div by 0\n"
     ]
    }
   ],
   "source": [
    "# Straight-forward scenario & we are handling division error by '0' and b coming as 'None' here too. But code is damn complex.\n",
    "# Also this will break if '' comes up for b.\n",
    "a = 10\n",
    "b = 2\n",
    "if b is not None: \n",
    "    if b > 0 and a/b > 2:\n",
    "        print('c1 : Condition satisfied')\n",
    "    else:\n",
    "        print('c1 : Div by 0')\n",
    "else:\n",
    "    print('c1: Not eligible ')  \n",
    "    \n",
    "b = None\n",
    "if b is not None: \n",
    "    if b > 0 and a/b > 2:\n",
    "        print('c2 : Condition satisfied')\n",
    "    else:\n",
    "        print('c2 : div by 0')\n",
    "else:\n",
    "    print('c2: Not eligible ')\n",
    "    \n",
    "b = 0\n",
    "if b is not None: \n",
    "    if b > 0 and a/b > 2:\n",
    "        print('c3 : Condition satisfied')\n",
    "    else:\n",
    "        print('c3 : div by 0')\n",
    "else:\n",
    "    print('c3: Not eligible ')"
   ]
  },
  {
   "cell_type": "code",
   "execution_count": 32,
   "metadata": {},
   "outputs": [
    {
     "name": "stdout",
     "output_type": "stream",
     "text": [
      "1:Condition satisfied\n",
      "2: Not eligible\n",
      "3: Not eligible\n",
      "4: Not eligible\n"
     ]
    }
   ],
   "source": [
    "# Smart solution. Can handle any False values for b.\n",
    "a = 10\n",
    "b = 2\n",
    "if b and a/b > 2:\n",
    "    print('1:Condition satisfied')\n",
    "else:\n",
    "    print('1: Not eligible')\n",
    "    \n",
    "b = None\n",
    "if b and a/b > 2:\n",
    "    print('2:Condition satisfied')\n",
    "else:\n",
    "    print('2: Not eligible')\n",
    "    \n",
    "b = ''\n",
    "if b and a/b > 2:\n",
    "    print('3:Condition satisfied')\n",
    "else:\n",
    "    print('3: Not eligible')\n",
    "    \n",
    "b = 0\n",
    "if b and a/b > 2:\n",
    "    print('4:Condition satisfied')\n",
    "else:\n",
    "    print('4: Not eligible')"
   ]
  },
  {
   "cell_type": "markdown",
   "metadata": {},
   "source": [
    "***Familiarize with strings***"
   ]
  },
  {
   "cell_type": "code",
   "execution_count": 35,
   "metadata": {},
   "outputs": [
    {
     "name": "stdout",
     "output_type": "stream",
     "text": [
      "Help on module string:\n",
      "\n",
      "NAME\n",
      "    string - A collection of string constants.\n",
      "\n",
      "MODULE REFERENCE\n",
      "    https://docs.python.org/3.8/library/string\n",
      "    \n",
      "    The following documentation is automatically generated from the Python\n",
      "    source files.  It may be incomplete, incorrect or include features that\n",
      "    are considered implementation detail and may vary between Python\n",
      "    implementations.  When in doubt, consult the module reference at the\n",
      "    location listed above.\n",
      "\n",
      "DESCRIPTION\n",
      "    Public module variables:\n",
      "    \n",
      "    whitespace -- a string containing all ASCII whitespace\n",
      "    ascii_lowercase -- a string containing all ASCII lowercase letters\n",
      "    ascii_uppercase -- a string containing all ASCII uppercase letters\n",
      "    ascii_letters -- a string containing all ASCII letters\n",
      "    digits -- a string containing all ASCII decimal digits\n",
      "    hexdigits -- a string containing all ASCII hexadecimal digits\n",
      "    octdigits -- a string containing all ASCII octal digits\n",
      "    punctuation -- a string containing all ASCII punctuation characters\n",
      "    printable -- a string containing all ASCII characters considered printable\n",
      "\n",
      "CLASSES\n",
      "    builtins.object\n",
      "        Formatter\n",
      "        Template\n",
      "    \n",
      "    class Formatter(builtins.object)\n",
      "     |  Methods defined here:\n",
      "     |  \n",
      "     |  check_unused_args(self, used_args, args, kwargs)\n",
      "     |  \n",
      "     |  convert_field(self, value, conversion)\n",
      "     |  \n",
      "     |  format(self, format_string, /, *args, **kwargs)\n",
      "     |  \n",
      "     |  format_field(self, value, format_spec)\n",
      "     |  \n",
      "     |  get_field(self, field_name, args, kwargs)\n",
      "     |      # given a field_name, find the object it references.\n",
      "     |      #  field_name:   the field being looked up, e.g. \"0.name\"\n",
      "     |      #                 or \"lookup[3]\"\n",
      "     |      #  used_args:    a set of which args have been used\n",
      "     |      #  args, kwargs: as passed in to vformat\n",
      "     |  \n",
      "     |  get_value(self, key, args, kwargs)\n",
      "     |  \n",
      "     |  parse(self, format_string)\n",
      "     |      # returns an iterable that contains tuples of the form:\n",
      "     |      # (literal_text, field_name, format_spec, conversion)\n",
      "     |      # literal_text can be zero length\n",
      "     |      # field_name can be None, in which case there's no\n",
      "     |      #  object to format and output\n",
      "     |      # if field_name is not None, it is looked up, formatted\n",
      "     |      #  with format_spec and conversion and then used\n",
      "     |  \n",
      "     |  vformat(self, format_string, args, kwargs)\n",
      "     |  \n",
      "     |  ----------------------------------------------------------------------\n",
      "     |  Data descriptors defined here:\n",
      "     |  \n",
      "     |  __dict__\n",
      "     |      dictionary for instance variables (if defined)\n",
      "     |  \n",
      "     |  __weakref__\n",
      "     |      list of weak references to the object (if defined)\n",
      "    \n",
      "    class Template(builtins.object)\n",
      "     |  Template(template)\n",
      "     |  \n",
      "     |  A string class for supporting $-substitutions.\n",
      "     |  \n",
      "     |  Methods defined here:\n",
      "     |  \n",
      "     |  __init__(self, template)\n",
      "     |      Initialize self.  See help(type(self)) for accurate signature.\n",
      "     |  \n",
      "     |  safe_substitute(self, mapping={}, /, **kws)\n",
      "     |  \n",
      "     |  substitute(self, mapping={}, /, **kws)\n",
      "     |  \n",
      "     |  ----------------------------------------------------------------------\n",
      "     |  Data descriptors defined here:\n",
      "     |  \n",
      "     |  __dict__\n",
      "     |      dictionary for instance variables (if defined)\n",
      "     |  \n",
      "     |  __weakref__\n",
      "     |      list of weak references to the object (if defined)\n",
      "     |  \n",
      "     |  ----------------------------------------------------------------------\n",
      "     |  Data and other attributes defined here:\n",
      "     |  \n",
      "     |  braceidpattern = None\n",
      "     |  \n",
      "     |  delimiter = '$'\n",
      "     |  \n",
      "     |  flags = re.IGNORECASE\n",
      "     |  \n",
      "     |  idpattern = '(?a:[_a-z][_a-z0-9]*)'\n",
      "     |  \n",
      "     |  pattern = re.compile('\\n    \\\\$(?:\\n      (?P<escaped>\\\\$)...ced>(?a:[...\n",
      "\n",
      "FUNCTIONS\n",
      "    capwords(s, sep=None)\n",
      "        capwords(s [,sep]) -> string\n",
      "        \n",
      "        Split the argument into words using split, capitalize each\n",
      "        word using capitalize, and join the capitalized words using\n",
      "        join.  If the optional second argument sep is absent or None,\n",
      "        runs of whitespace characters are replaced by a single space\n",
      "        and leading and trailing whitespace are removed, otherwise\n",
      "        sep is used to split and join the words.\n",
      "\n",
      "DATA\n",
      "    __all__ = ['ascii_letters', 'ascii_lowercase', 'ascii_uppercase', 'cap...\n",
      "    ascii_letters = 'abcdefghijklmnopqrstuvwxyzABCDEFGHIJKLMNOPQRSTUVWXYZ'\n",
      "    ascii_lowercase = 'abcdefghijklmnopqrstuvwxyz'\n",
      "    ascii_uppercase = 'ABCDEFGHIJKLMNOPQRSTUVWXYZ'\n",
      "    digits = '0123456789'\n",
      "    hexdigits = '0123456789abcdefABCDEF'\n",
      "    octdigits = '01234567'\n",
      "    printable = '0123456789abcdefghijklmnopqrstuvwxyzABCDEFGHIJKLMNOPQRSTU...\n",
      "    punctuation = '!\"#$%&\\'()*+,-./:;<=>?@[\\\\]^_`{|}~'\n",
      "    whitespace = ' \\t\\n\\r\\x0b\\x0c'\n",
      "\n",
      "FILE\n",
      "    c:\\users\\anila\\anaconda3\\lib\\string.py\n",
      "\n",
      "\n"
     ]
    }
   ],
   "source": [
    "import string\n",
    "help(string)"
   ]
  },
  {
   "cell_type": "code",
   "execution_count": 37,
   "metadata": {},
   "outputs": [
    {
     "data": {
      "text/plain": [
       "False"
      ]
     },
     "execution_count": 37,
     "metadata": {},
     "output_type": "execute_result"
    }
   ],
   "source": [
    "a = 'c'\n",
    "a in string.ascii_uppercase"
   ]
  },
  {
   "cell_type": "code",
   "execution_count": 38,
   "metadata": {},
   "outputs": [
    {
     "data": {
      "text/plain": [
       "('abcdefghijklmnopqrstuvwxyzABCDEFGHIJKLMNOPQRSTUVWXYZ', '0123456789')"
      ]
     },
     "execution_count": 38,
     "metadata": {},
     "output_type": "execute_result"
    }
   ],
   "source": [
    "string.ascii_letters, string.digits"
   ]
  },
  {
   "cell_type": "markdown",
   "metadata": {},
   "source": [
    "***Cool boolean tricks -3 . Let us say we have a string called name & we want to ensure that name doesn't start with digits***"
   ]
  },
  {
   "cell_type": "code",
   "execution_count": 52,
   "metadata": {},
   "outputs": [
    {
     "name": "stdout",
     "output_type": "stream",
     "text": [
      "1 :Name - anil\n",
      "2: Invalid name\n",
      "3: Invalid name\n"
     ]
    }
   ],
   "source": [
    "## We can handle this as follows. But will break if False values like None appear for name\n",
    "name = 'anil'\n",
    "if len(name) > 0 and name[0] not in string.digits:\n",
    "    print(f'1 :Name - {name}')\n",
    "else:\n",
    "    print('1 : Invalid name')\n",
    "    \n",
    "name = '1nil'\n",
    "if len(name) > 0 and name[0] not in string.digits:\n",
    "    print(f'2 :Name - {name}')\n",
    "else:\n",
    "    print('2: Invalid name')\n",
    "    \n",
    "name = ''\n",
    "if len(name) > 0 and name[0] not in string.digits:\n",
    "    print(f'3 :Name - {name}')\n",
    "else:\n",
    "    print('3: Invalid name')\n",
    "    "
   ]
  },
  {
   "cell_type": "code",
   "execution_count": 45,
   "metadata": {},
   "outputs": [
    {
     "ename": "TypeError",
     "evalue": "object of type 'NoneType' has no len()",
     "output_type": "error",
     "traceback": [
      "\u001b[1;31m---------------------------------------------------------------------------\u001b[0m",
      "\u001b[1;31mTypeError\u001b[0m                                 Traceback (most recent call last)",
      "\u001b[1;32m<ipython-input-45-9f9e9fd37e65>\u001b[0m in \u001b[0;36m<module>\u001b[1;34m\u001b[0m\n\u001b[0;32m      1\u001b[0m \u001b[1;31m## Breaks !\u001b[0m\u001b[1;33m\u001b[0m\u001b[1;33m\u001b[0m\u001b[1;33m\u001b[0m\u001b[0m\n\u001b[0;32m      2\u001b[0m \u001b[0mname\u001b[0m \u001b[1;33m=\u001b[0m \u001b[1;32mNone\u001b[0m\u001b[1;33m\u001b[0m\u001b[1;33m\u001b[0m\u001b[0m\n\u001b[1;32m----> 3\u001b[1;33m \u001b[1;32mif\u001b[0m \u001b[0mlen\u001b[0m\u001b[1;33m(\u001b[0m\u001b[0mname\u001b[0m\u001b[1;33m)\u001b[0m \u001b[1;33m>\u001b[0m \u001b[1;36m0\u001b[0m \u001b[1;32mand\u001b[0m \u001b[0mname\u001b[0m\u001b[1;33m[\u001b[0m\u001b[1;36m0\u001b[0m\u001b[1;33m]\u001b[0m \u001b[1;32mnot\u001b[0m \u001b[1;32min\u001b[0m \u001b[0mstring\u001b[0m\u001b[1;33m.\u001b[0m\u001b[0mdigits\u001b[0m\u001b[1;33m:\u001b[0m\u001b[1;33m\u001b[0m\u001b[1;33m\u001b[0m\u001b[0m\n\u001b[0m\u001b[0;32m      4\u001b[0m     \u001b[0mprint\u001b[0m\u001b[1;33m(\u001b[0m\u001b[1;34mf'2 :Name - {name}'\u001b[0m\u001b[1;33m)\u001b[0m\u001b[1;33m\u001b[0m\u001b[1;33m\u001b[0m\u001b[0m\n\u001b[0;32m      5\u001b[0m \u001b[1;32melse\u001b[0m\u001b[1;33m:\u001b[0m\u001b[1;33m\u001b[0m\u001b[1;33m\u001b[0m\u001b[0m\n",
      "\u001b[1;31mTypeError\u001b[0m: object of type 'NoneType' has no len()"
     ]
    }
   ],
   "source": [
    "## Breaks !\n",
    "name = None\n",
    "if len(name) > 0 and name[0] not in string.digits:\n",
    "    print(f'4 :Name - {name}')\n",
    "else:\n",
    "    print('4: Invalid name')"
   ]
  },
  {
   "cell_type": "code",
   "execution_count": 47,
   "metadata": {},
   "outputs": [
    {
     "name": "stdout",
     "output_type": "stream",
     "text": [
      "1 :Name - anil\n",
      "2: Invalid name\n",
      "3: Invalid name\n",
      "4: Invalid name\n"
     ]
    }
   ],
   "source": [
    "# Smart solution\n",
    "\n",
    "name = 'anil'\n",
    "if name and name[0] not in string.digits:\n",
    "    print(f'1 :Name - {name}')\n",
    "else:\n",
    "    print('1 : Invalid name')\n",
    "    \n",
    "name = '1nil'\n",
    "if name and name[0] not in string.digits:\n",
    "    print(f'2 :Name - {name}')\n",
    "else:\n",
    "    print('2: Invalid name')\n",
    "    \n",
    "name = ''\n",
    "if name and name[0] not in string.digits:\n",
    "    print(f'3 :Name - {name}')\n",
    "else:\n",
    "    print('3: Invalid name')\n",
    "    \n",
    "name = None\n",
    "if name and name[0] not in string.digits:\n",
    "    print(f'4 :Name - {name}')\n",
    "else:\n",
    "    print('4: Invalid name')\n",
    "    "
   ]
  },
  {
   "cell_type": "markdown",
   "metadata": {},
   "source": [
    "***OR evaluates first condition & if it is True it stops further evaluation & gives true result***"
   ]
  },
  {
   "cell_type": "code",
   "execution_count": 48,
   "metadata": {},
   "outputs": [
    {
     "data": {
      "text/plain": [
       "'a'"
      ]
     },
     "execution_count": 48,
     "metadata": {},
     "output_type": "execute_result"
    }
   ],
   "source": [
    "'a' or [1,2]"
   ]
  },
  {
   "cell_type": "code",
   "execution_count": 49,
   "metadata": {},
   "outputs": [
    {
     "data": {
      "text/plain": [
       "[1, 2]"
      ]
     },
     "execution_count": 49,
     "metadata": {},
     "output_type": "execute_result"
    }
   ],
   "source": [
    "'' or [1, 2]"
   ]
  },
  {
   "cell_type": "code",
   "execution_count": 50,
   "metadata": {},
   "outputs": [
    {
     "data": {
      "text/plain": [
       "'unfortunate ai crash in Kerala'"
      ]
     },
     "execution_count": 50,
     "metadata": {},
     "output_type": "execute_result"
    }
   ],
   "source": [
    "'unfortunate ai crash in Kerala' or 1/0  # No div/0 error because it is not evaluated"
   ]
  },
  {
   "cell_type": "code",
   "execution_count": 51,
   "metadata": {},
   "outputs": [
    {
     "ename": "ZeroDivisionError",
     "evalue": "division by zero",
     "output_type": "error",
     "traceback": [
      "\u001b[1;31m---------------------------------------------------------------------------\u001b[0m",
      "\u001b[1;31mZeroDivisionError\u001b[0m                         Traceback (most recent call last)",
      "\u001b[1;32m<ipython-input-51-c7e78435989e>\u001b[0m in \u001b[0;36m<module>\u001b[1;34m\u001b[0m\n\u001b[1;32m----> 1\u001b[1;33m \u001b[1;32mNone\u001b[0m \u001b[1;32mor\u001b[0m \u001b[1;36m1\u001b[0m\u001b[1;33m/\u001b[0m\u001b[1;36m0\u001b[0m \u001b[1;31m# Will get error\u001b[0m\u001b[1;33m\u001b[0m\u001b[1;33m\u001b[0m\u001b[0m\n\u001b[0m",
      "\u001b[1;31mZeroDivisionError\u001b[0m: division by zero"
     ]
    }
   ],
   "source": [
    "None or 1/0 # Will get error"
   ]
  },
  {
   "cell_type": "markdown",
   "metadata": {},
   "source": [
    "***Cool boolean tricks -4 . We want to replace False values with 'n/a' while leaving True values as it is ***"
   ]
  },
  {
   "cell_type": "code",
   "execution_count": 56,
   "metadata": {},
   "outputs": [
    {
     "data": {
      "text/plain": [
       "(False, False, False, False, True)"
      ]
     },
     "execution_count": 56,
     "metadata": {},
     "output_type": "execute_result"
    }
   ],
   "source": [
    "s1 = []\n",
    "s2 = None\n",
    "s3 = ''\n",
    "s4 = ()\n",
    "s5 = 'abc'\n",
    "bool(s1), bool(s2), bool(s3), bool(s4), bool(s5)"
   ]
  },
  {
   "cell_type": "code",
   "execution_count": 57,
   "metadata": {},
   "outputs": [
    {
     "name": "stdout",
     "output_type": "stream",
     "text": [
      "n/a n/a n/a n/a abc\n"
     ]
    }
   ],
   "source": [
    "s1 = s1 or 'n/a'\n",
    "s2 = s2 or 'n/a'\n",
    "s3 = s3 or 'n/a'\n",
    "s4 = s4 or 'n/a'\n",
    "s5 = s5 or 'n/a'\n",
    "print(s1, s2, s3, s4, s5)"
   ]
  },
  {
   "cell_type": "code",
   "execution_count": 59,
   "metadata": {},
   "outputs": [
    {
     "data": {
      "text/plain": [
       "True"
      ]
     },
     "execution_count": 59,
     "metadata": {},
     "output_type": "execute_result"
    }
   ],
   "source": [
    "bool([0])"
   ]
  },
  {
   "cell_type": "markdown",
   "metadata": {},
   "source": [
    "***AND evaluates both conditions but stops if first condition itself is False & returns first cpndition. If first condition is True, then only it proceeds to evaluate second condition***"
   ]
  },
  {
   "cell_type": "code",
   "execution_count": 61,
   "metadata": {},
   "outputs": [
    {
     "data": {
      "text/plain": [
       "[]"
      ]
     },
     "execution_count": 61,
     "metadata": {},
     "output_type": "execute_result"
    }
   ],
   "source": [
    "[] and 2"
   ]
  },
  {
   "cell_type": "code",
   "execution_count": 62,
   "metadata": {},
   "outputs": [
    {
     "data": {
      "text/plain": [
       "[]"
      ]
     },
     "execution_count": 62,
     "metadata": {},
     "output_type": "execute_result"
    }
   ],
   "source": [
    "2 and []"
   ]
  },
  {
   "cell_type": "code",
   "execution_count": 63,
   "metadata": {},
   "outputs": [
    {
     "data": {
      "text/plain": [
       "3"
      ]
     },
     "execution_count": 63,
     "metadata": {},
     "output_type": "execute_result"
    }
   ],
   "source": [
    "2 and 3"
   ]
  },
  {
   "cell_type": "code",
   "execution_count": 64,
   "metadata": {},
   "outputs": [
    {
     "data": {
      "text/plain": [
       "''"
      ]
     },
     "execution_count": 64,
     "metadata": {},
     "output_type": "execute_result"
    }
   ],
   "source": [
    "'' and 1/0 # No error because stops at ''"
   ]
  },
  {
   "cell_type": "code",
   "execution_count": 65,
   "metadata": {},
   "outputs": [
    {
     "ename": "ZeroDivisionError",
     "evalue": "division by zero",
     "output_type": "error",
     "traceback": [
      "\u001b[1;31m---------------------------------------------------------------------------\u001b[0m",
      "\u001b[1;31mZeroDivisionError\u001b[0m                         Traceback (most recent call last)",
      "\u001b[1;32m<ipython-input-65-c2797995d756>\u001b[0m in \u001b[0;36m<module>\u001b[1;34m\u001b[0m\n\u001b[1;32m----> 1\u001b[1;33m \u001b[1;36m2\u001b[0m \u001b[1;32mand\u001b[0m \u001b[1;36m1\u001b[0m\u001b[1;33m/\u001b[0m\u001b[1;36m0\u001b[0m \u001b[1;31m# Error because it evaluates second condition too\u001b[0m\u001b[1;33m\u001b[0m\u001b[1;33m\u001b[0m\u001b[0m\n\u001b[0m",
      "\u001b[1;31mZeroDivisionError\u001b[0m: division by zero"
     ]
    }
   ],
   "source": [
    "2 and 1/0 # Error because it evaluates second condition too"
   ]
  },
  {
   "cell_type": "markdown",
   "metadata": {},
   "source": [
    "***Cool boolean tricks -5 . We want to print 0 if b = 0 else print(a/b)***"
   ]
  },
  {
   "cell_type": "code",
   "execution_count": 68,
   "metadata": {},
   "outputs": [
    {
     "name": "stdout",
     "output_type": "stream",
     "text": [
      "0\n",
      "0.4\n"
     ]
    }
   ],
   "source": [
    "a = 2\n",
    "b = 0\n",
    "if b == 0:\n",
    "    print(0)\n",
    "else:\n",
    "    print(a/b)\n",
    "    \n",
    "a = 2\n",
    "b = 5\n",
    "if b == 0:\n",
    "    print('b is zero')\n",
    "else:\n",
    "    print(a/b)"
   ]
  },
  {
   "cell_type": "code",
   "execution_count": 67,
   "metadata": {},
   "outputs": [
    {
     "name": "stdout",
     "output_type": "stream",
     "text": [
      "0\n",
      "0.4\n"
     ]
    }
   ],
   "source": [
    "# Smart solution\n",
    "a = 2\n",
    "b = 0\n",
    "print(b and a/b)\n",
    "\n",
    "a = 2\n",
    "b = 5\n",
    "print(b and a/b)"
   ]
  },
  {
   "cell_type": "markdown",
   "metadata": {},
   "source": [
    "***Using 'in'***"
   ]
  },
  {
   "cell_type": "code",
   "execution_count": 70,
   "metadata": {},
   "outputs": [
    {
     "data": {
      "text/plain": [
       "True"
      ]
     },
     "execution_count": 70,
     "metadata": {},
     "output_type": "execute_result"
    }
   ],
   "source": [
    "'a' in 'anil'"
   ]
  },
  {
   "cell_type": "code",
   "execution_count": 71,
   "metadata": {},
   "outputs": [
    {
     "data": {
      "text/plain": [
       "False"
      ]
     },
     "execution_count": 71,
     "metadata": {},
     "output_type": "execute_result"
    }
   ],
   "source": [
    "3 in [1, 2, 4]"
   ]
  },
  {
   "cell_type": "code",
   "execution_count": 72,
   "metadata": {},
   "outputs": [
    {
     "data": {
      "text/plain": [
       "True"
      ]
     },
     "execution_count": 72,
     "metadata": {},
     "output_type": "execute_result"
    }
   ],
   "source": [
    "'key1' in {'key1' : 1}"
   ]
  },
  {
   "cell_type": "code",
   "execution_count": 74,
   "metadata": {},
   "outputs": [
    {
     "data": {
      "text/plain": [
       "False"
      ]
     },
     "execution_count": 74,
     "metadata": {},
     "output_type": "execute_result"
    }
   ],
   "source": [
    "1 in {'key1':1} # We cant use 'in' to search dictionary values"
   ]
  },
  {
   "cell_type": "code",
   "execution_count": 75,
   "metadata": {},
   "outputs": [
    {
     "data": {
      "text/plain": [
       "True"
      ]
     },
     "execution_count": 75,
     "metadata": {},
     "output_type": "execute_result"
    }
   ],
   "source": [
    "'a' in {'a', 'b', 'z'}"
   ]
  },
  {
   "cell_type": "code",
   "execution_count": null,
   "metadata": {},
   "outputs": [],
   "source": []
  }
 ],
 "metadata": {
  "kernelspec": {
   "display_name": "Python 3",
   "language": "python",
   "name": "python3"
  },
  "language_info": {
   "codemirror_mode": {
    "name": "ipython",
    "version": 3
   },
   "file_extension": ".py",
   "mimetype": "text/x-python",
   "name": "python",
   "nbconvert_exporter": "python",
   "pygments_lexer": "ipython3",
   "version": "3.8.3"
  }
 },
 "nbformat": 4,
 "nbformat_minor": 4
}
