{
 "cells": [
  {
   "cell_type": "markdown",
   "metadata": {},
   "source": [
    "Goal 1\n",
    "Create a lazy iterator that will return a named tuple of the data in each row. The data types should be appropriate - i.e. if the column is a date, you should be storing dates in the named tuple, if the field is an integer, then it should be stored as an integer, etc.\n",
    "\n",
    "Goal 2\n",
    "Calculate the number of violations by car make.\n",
    "\n",
    "Note:\n",
    "Try to use lazy evaluation as much as possible - it may not always be possible though! That's OK, as long as it's kept to a minimum.\n",
    "\n",
    "No Test Cases\n",
    "Submit pending assignments"
   ]
  },
  {
   "cell_type": "code",
   "execution_count": 314,
   "metadata": {},
   "outputs": [],
   "source": [
    "ticket_path = r'C:\\Users\\annbhatt\\Desktop\\DS_AI\\EPAI_P1\\S15\\nyc_parking_tickets_extract-1.csv'"
   ]
  },
  {
   "cell_type": "code",
   "execution_count": 315,
   "metadata": {},
   "outputs": [],
   "source": [
    "import datetime\n",
    "\n",
    "def cast(type_, data):\n",
    "    if type_ == 'DOUBLE':\n",
    "        return float(data)\n",
    "    elif type_ == 'INT':\n",
    "        return int(data)\n",
    "    elif type_ == 'DATE':\n",
    "        data = datetime.datetime.strptime(data, '%m/%d/%Y')\n",
    "        return data\n",
    "    else:\n",
    "        return str(data)"
   ]
  },
  {
   "cell_type": "code",
   "execution_count": 316,
   "metadata": {},
   "outputs": [],
   "source": [
    "def cast_row(data_type, data_row):\n",
    "    return [cast(type_, data) \n",
    "            for type_, data in list(zip(data_type, data_row))]"
   ]
  },
  {
   "cell_type": "code",
   "execution_count": 317,
   "metadata": {},
   "outputs": [],
   "source": [
    "data_type = ['INT', 'STRING', 'STRING', 'STRING', 'DATE', 'STRING', 'STRING', 'STRING', 'STRING' ]\n",
    "data_head  = ['Summons_Number' , 'Plate_ID', 'Registration_State', 'Plate_Type', 'Issue_Date', 'Violation_Code', \n",
    "             'Vehicle_Body_Type', 'Vehicle_Make' ,'Violation_Description']"
   ]
  },
  {
   "cell_type": "code",
   "execution_count": 318,
   "metadata": {},
   "outputs": [],
   "source": [
    "Tickets = namedtuple('Tickets', data_head)\n",
    "\n",
    "from collections import namedtuple\n",
    "\n",
    "def car_tickets(file_path): \n",
    "    print('Reading file...')\n",
    "    with open(file_path, 'r') as f:\n",
    "        f.readline()    # This is to skip the header line\n",
    "        ticket_data = yield from (cast_row(data_type, line.strip('\\n').split(',')) for line in f)  #To take care of remaining values\n",
    "    return ticket_data"
   ]
  },
  {
   "cell_type": "code",
   "execution_count": 319,
   "metadata": {},
   "outputs": [],
   "source": [
    "ticket_gen = car_tickets(ticket_path)"
   ]
  },
  {
   "cell_type": "code",
   "execution_count": 320,
   "metadata": {},
   "outputs": [
    {
     "data": {
      "text/plain": [
       "<generator object car_tickets at 0x000001ACCFECC3C8>"
      ]
     },
     "execution_count": 320,
     "metadata": {},
     "output_type": "execute_result"
    }
   ],
   "source": [
    "ticket_gen"
   ]
  },
  {
   "cell_type": "code",
   "execution_count": 321,
   "metadata": {},
   "outputs": [
    {
     "name": "stdout",
     "output_type": "stream",
     "text": [
      "Reading file...\n"
     ]
    }
   ],
   "source": [
    "tickets_lst = [Tickets(*item) for item in ticket_gen]"
   ]
  },
  {
   "cell_type": "code",
   "execution_count": 323,
   "metadata": {},
   "outputs": [
    {
     "name": "stdout",
     "output_type": "stream",
     "text": [
      "1000\n",
      "Tickets(Summons_Number=4006478550, Plate_ID='VAD7274', Registration_State='VA', Plate_Type='PAS', Issue_Date=datetime.datetime(2016, 10, 5, 0, 0), Violation_Code='5', Vehicle_Body_Type='4D', Vehicle_Make='BMW', Violation_Description='BUS LANE VIOLATION')\n",
      "CHEVR\n"
     ]
    }
   ],
   "source": [
    "print(len(tickets_lst))\n",
    "print(tickets_lst[0])\n",
    "print(tickets_lst[1].Vehicle_Make)"
   ]
  },
  {
   "cell_type": "code",
   "execution_count": 324,
   "metadata": {},
   "outputs": [],
   "source": [
    "ticket_dict = {}\n",
    "\n",
    "def ctr_dict(vehicle_make)->str:\n",
    "    def update():\n",
    "        if not vehicle_make in ticket_dict.keys():\n",
    "            ticket_dict[vehicle_make] = 0\n",
    "\n",
    "        ticket_dict[vehicle_make] += 1\n",
    "        return None\n",
    "\n",
    "    return update"
   ]
  },
  {
   "cell_type": "code",
   "execution_count": 325,
   "metadata": {},
   "outputs": [
    {
     "name": "stdout",
     "output_type": "stream",
     "text": [
      "ticket_dict :{}\n"
     ]
    }
   ],
   "source": [
    "print (f'ticket_dict :{ticket_dict}')\n",
    "\n",
    "for item in tickets_lst:\n",
    "    ctr_dict(item.Vehicle_Make)()"
   ]
  },
  {
   "cell_type": "code",
   "execution_count": 326,
   "metadata": {},
   "outputs": [
    {
     "data": {
      "text/plain": [
       "{'BMW': 34,\n",
       " 'CHEVR': 76,\n",
       " 'DODGE': 45,\n",
       " 'FORD': 104,\n",
       " 'FRUEH': 44,\n",
       " 'HONDA': 106,\n",
       " 'LINCO': 12,\n",
       " 'TOYOT': 112,\n",
       " 'CADIL': 9,\n",
       " 'CHRYS': 12,\n",
       " 'FIR': 1,\n",
       " 'GMC': 35,\n",
       " 'HYUND': 35,\n",
       " 'JAGUA': 3,\n",
       " 'JEEP': 22,\n",
       " 'LEXUS': 26,\n",
       " 'ME/BE': 38,\n",
       " 'MERCU': 4,\n",
       " 'MITSU': 11,\n",
       " 'NISSA': 70,\n",
       " 'HIN': 6,\n",
       " 'NS/OT': 18,\n",
       " 'WORKH': 2,\n",
       " 'ACURA': 12,\n",
       " 'AUDI': 12,\n",
       " 'INTER': 25,\n",
       " 'ISUZU': 10,\n",
       " 'KENWO': 5,\n",
       " 'KIA': 8,\n",
       " 'OLDSM': 1,\n",
       " 'SUBAR': 18,\n",
       " 'VOLVO': 12,\n",
       " 'SATUR': 2,\n",
       " 'SMART': 3,\n",
       " 'INFIN': 13,\n",
       " 'PETER': 1,\n",
       " '': 5,\n",
       " 'CITRO': 1,\n",
       " 'ROVER': 5,\n",
       " 'BUICK': 5,\n",
       " 'GEO': 1,\n",
       " 'MAZDA': 5,\n",
       " 'PORSC': 3,\n",
       " 'VOLKS': 8,\n",
       " 'YAMAH': 1,\n",
       " 'BSA': 1,\n",
       " 'MINI': 1,\n",
       " 'PONTI': 1,\n",
       " 'SPRI': 1,\n",
       " 'PLYMO': 1,\n",
       " 'SCION': 2,\n",
       " 'UPS': 1,\n",
       " 'FIAT': 1,\n",
       " 'UD': 1,\n",
       " 'UTILI': 1,\n",
       " 'GMCQ': 1,\n",
       " 'SAAB': 2,\n",
       " 'HINO': 2,\n",
       " 'STAR': 1,\n",
       " 'AM/T': 1,\n",
       " 'MI/F': 1}"
      ]
     },
     "execution_count": 326,
     "metadata": {},
     "output_type": "execute_result"
    }
   ],
   "source": [
    "ticket_dict"
   ]
  },
  {
   "cell_type": "code",
   "execution_count": 332,
   "metadata": {},
   "outputs": [
    {
     "name": "stdout",
     "output_type": "stream",
     "text": [
      "1000\n"
     ]
    }
   ],
   "source": [
    "sum_ = 0\n",
    "for key, value in ticket_dict.items():\n",
    "    sum_ += value\n",
    "    \n",
    "print(sum_)"
   ]
  },
  {
   "cell_type": "code",
   "execution_count": null,
   "metadata": {},
   "outputs": [],
   "source": []
  }
 ],
 "metadata": {
  "kernelspec": {
   "display_name": "Python 3",
   "language": "python",
   "name": "python3"
  },
  "language_info": {
   "codemirror_mode": {
    "name": "ipython",
    "version": 3
   },
   "file_extension": ".py",
   "mimetype": "text/x-python",
   "name": "python",
   "nbconvert_exporter": "python",
   "pygments_lexer": "ipython3",
   "version": "3.8.3"
  }
 },
 "nbformat": 4,
 "nbformat_minor": 2
}
