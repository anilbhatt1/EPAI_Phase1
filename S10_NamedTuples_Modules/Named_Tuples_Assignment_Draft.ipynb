{
 "cells": [
  {
   "cell_type": "code",
   "execution_count": 7,
   "metadata": {},
   "outputs": [
    {
     "name": "stdout",
     "output_type": "stream",
     "text": [
      "Requirement already satisfied: faker in c:\\users\\anila\\anaconda3\\lib\\site-packages (8.10.0)\n",
      "Requirement already satisfied: text-unidecode==1.3 in c:\\users\\anila\\anaconda3\\lib\\site-packages (from faker) (1.3)\n",
      "Requirement already satisfied: python-dateutil>=2.4 in c:\\users\\anila\\anaconda3\\lib\\site-packages (from faker) (2.8.1)\n",
      "Requirement already satisfied: six>=1.5 in c:\\users\\anila\\anaconda3\\lib\\site-packages (from python-dateutil>=2.4->faker) (1.15.0)\n",
      "Note: you may need to restart the kernel to use updated packages.\n"
     ]
    },
    {
     "name": "stderr",
     "output_type": "stream",
     "text": [
      "WARNING: You are using pip version 20.2.3; however, version 21.1.3 is available.\n",
      "You should consider upgrading via the 'C:\\Users\\anila\\anaconda3\\python.exe -m pip install --upgrade pip' command.\n"
     ]
    }
   ],
   "source": [
    "pip install faker"
   ]
  },
  {
   "cell_type": "code",
   "execution_count": 8,
   "metadata": {},
   "outputs": [],
   "source": [
    "from faker import Faker\n",
    "from collections import namedtuple\n",
    "from statistics import mode, mean\n",
    "from datetime import datetime, date\n",
    "from time import perf_counter\n",
    "import random\n",
    "import string\n",
    "from random import randint, uniform\n",
    "import matplotlib.pyplot as plt"
   ]
  },
  {
   "cell_type": "markdown",
   "metadata": {},
   "source": [
    "### Use the Faker (Links to an external site.) library to get 10000 random profiles. Using namedtuple, calculate the largest blood type, mean-current_location, oldest_person_age, and average age\n"
   ]
  },
  {
   "cell_type": "code",
   "execution_count": 9,
   "metadata": {},
   "outputs": [],
   "source": [
    "generate = Faker()"
   ]
  },
  {
   "cell_type": "code",
   "execution_count": 10,
   "metadata": {},
   "outputs": [],
   "source": [
    "indiv_profile = namedtuple('indiv_profile', generate.profile().keys()) \n",
    "# Creating a namedtuple named 'indiv_profile' that will have fields same as fake profile we generate via Faker module\n",
    "collect_profile = namedtuple('collect_profile', 'info')\n",
    "# Creating a namedtuple named 'collect_profile' that has a field named 'info'"
   ]
  },
  {
   "cell_type": "code",
   "execution_count": 11,
   "metadata": {},
   "outputs": [],
   "source": [
    "for i in range(10_000):\n",
    "    indiv = indiv_profile(**generate.profile())\n",
    "    if i == 0:\n",
    "        all_profiles = collect_profile(indiv)\n",
    "    else:\n",
    "        all_profiles += collect_profile(indiv)"
   ]
  },
  {
   "cell_type": "code",
   "execution_count": 12,
   "metadata": {},
   "outputs": [
    {
     "data": {
      "text/plain": [
       "10000"
      ]
     },
     "execution_count": 12,
     "metadata": {},
     "output_type": "execute_result"
    }
   ],
   "source": [
    "len(all_profiles)"
   ]
  },
  {
   "cell_type": "code",
   "execution_count": 13,
   "metadata": {},
   "outputs": [
    {
     "data": {
      "text/plain": [
       "('job',\n",
       " 'company',\n",
       " 'ssn',\n",
       " 'residence',\n",
       " 'current_location',\n",
       " 'blood_group',\n",
       " 'website',\n",
       " 'username',\n",
       " 'name',\n",
       " 'sex',\n",
       " 'address',\n",
       " 'mail',\n",
       " 'birthdate')"
      ]
     },
     "execution_count": 13,
     "metadata": {},
     "output_type": "execute_result"
    }
   ],
   "source": [
    "all_profiles[1]._fields"
   ]
  },
  {
   "cell_type": "markdown",
   "metadata": {},
   "source": [
    "***Using namedtuple, calculate the largest blood type***"
   ]
  },
  {
   "cell_type": "code",
   "execution_count": 14,
   "metadata": {},
   "outputs": [],
   "source": [
    "def common_blood_type(all_named_tup):\n",
    "    start = perf_counter()\n",
    "    common_grp = mode(list(map(lambda profile: profile[5], all_named_tup)))\n",
    "    end = perf_counter()\n",
    "    return common_grp, end-start"
   ]
  },
  {
   "cell_type": "code",
   "execution_count": 15,
   "metadata": {},
   "outputs": [
    {
     "name": "stdout",
     "output_type": "stream",
     "text": [
      "common_grp, elapsed : ('B+', 0.004006499999377411)\n"
     ]
    }
   ],
   "source": [
    "common_grp, elapsed = common_blood_type(all_profiles)\n",
    "print(f'common_grp, elapsed : {common_grp, elapsed}')"
   ]
  },
  {
   "cell_type": "markdown",
   "metadata": {},
   "source": [
    "***Using namedtuple, calculate the mean-current_location***"
   ]
  },
  {
   "cell_type": "code",
   "execution_count": 16,
   "metadata": {},
   "outputs": [
    {
     "data": {
      "text/plain": [
       "tuple"
      ]
     },
     "execution_count": 16,
     "metadata": {},
     "output_type": "execute_result"
    }
   ],
   "source": [
    "type(all_profiles[0].current_location)"
   ]
  },
  {
   "cell_type": "code",
   "execution_count": 17,
   "metadata": {},
   "outputs": [
    {
     "data": {
      "text/plain": [
       "(Decimal('-84.436623'), Decimal('-102.780618'))"
      ]
     },
     "execution_count": 17,
     "metadata": {},
     "output_type": "execute_result"
    }
   ],
   "source": [
    "all_profiles[0][4]"
   ]
  },
  {
   "cell_type": "code",
   "execution_count": 18,
   "metadata": {},
   "outputs": [
    {
     "data": {
      "text/plain": [
       "Decimal('-84.436623')"
      ]
     },
     "execution_count": 18,
     "metadata": {},
     "output_type": "execute_result"
    }
   ],
   "source": [
    "all_profiles[0][4][0]"
   ]
  },
  {
   "cell_type": "code",
   "execution_count": 19,
   "metadata": {},
   "outputs": [],
   "source": [
    "def mean_current_loc(all_named_tup):\n",
    "    start = perf_counter()\n",
    "    x_mean = mean(list(map(lambda profile:profile[4][0], all_named_tup)))\n",
    "    y_mean = mean(list(map(lambda profile:profile[4][1], all_named_tup)))\n",
    "    end = perf_counter()\n",
    "    mean_loc = (x_mean, y_mean)\n",
    "    return mean_loc, end-start"
   ]
  },
  {
   "cell_type": "code",
   "execution_count": 20,
   "metadata": {},
   "outputs": [
    {
     "name": "stdout",
     "output_type": "stream",
     "text": [
      "mean_loc, elapsed : ((Decimal('-0.5124775772'), Decimal('0.3434810434')), 0.04282029999922088)\n"
     ]
    }
   ],
   "source": [
    "mean_loc, elapsed = mean_current_loc(all_profiles)\n",
    "print(f'mean_loc, elapsed : {mean_loc, elapsed}')"
   ]
  },
  {
   "cell_type": "markdown",
   "metadata": {},
   "source": [
    "***Using namedtuple, calculate the oldest_person_age***"
   ]
  },
  {
   "cell_type": "code",
   "execution_count": 21,
   "metadata": {},
   "outputs": [
    {
     "data": {
      "text/plain": [
       "datetime.date(1911, 3, 1)"
      ]
     },
     "execution_count": 21,
     "metadata": {},
     "output_type": "execute_result"
    }
   ],
   "source": [
    "all_profiles[0][-1]"
   ]
  },
  {
   "cell_type": "code",
   "execution_count": 24,
   "metadata": {},
   "outputs": [],
   "source": [
    "def oldest_person_age(all_named_tup):\n",
    "    start = perf_counter()\n",
    "    oldest_dob = min(list(map(lambda profile:profile[-1], all_named_tup)))\n",
    "    current_dt = date.today()\n",
    "    end = perf_counter()\n",
    "    return round((current_dt - oldest_dob).days/365, 2), end-start"
   ]
  },
  {
   "cell_type": "code",
   "execution_count": 25,
   "metadata": {},
   "outputs": [
    {
     "name": "stdout",
     "output_type": "stream",
     "text": [
      "oldest_age, elapsed : 116.06,  0.0018221999998786487\n"
     ]
    }
   ],
   "source": [
    "oldest_age, elapsed = oldest_person_age(all_profiles)\n",
    "print(f'oldest_age, elapsed : {oldest_age},  {elapsed}')"
   ]
  },
  {
   "cell_type": "markdown",
   "metadata": {},
   "source": [
    "***Using namedtuple, calculate the average age***"
   ]
  },
  {
   "cell_type": "code",
   "execution_count": 26,
   "metadata": {},
   "outputs": [],
   "source": [
    "def average_age(all_named_tup):\n",
    "    start = perf_counter()\n",
    "    current_dt = date.today() \n",
    "    avg_age = mean(list(map(lambda profile:(current_dt - profile[-1]).days/365, all_named_tup)))\n",
    "    end = perf_counter()\n",
    "    return round(avg_age, 2), end-start"
   ]
  },
  {
   "cell_type": "code",
   "execution_count": 27,
   "metadata": {},
   "outputs": [
    {
     "name": "stdout",
     "output_type": "stream",
     "text": [
      "Avg_age, elapsed : 58.13,  0.018847299999833922\n"
     ]
    }
   ],
   "source": [
    "avg_age, elapsed = average_age(all_profiles)\n",
    "print(f'Avg_age, elapsed : {avg_age},  {elapsed}')"
   ]
  },
  {
   "cell_type": "markdown",
   "metadata": {},
   "source": [
    "### Do the same thing above using a dictionary. Prove that namedtuple is faster"
   ]
  },
  {
   "cell_type": "code",
   "execution_count": 31,
   "metadata": {},
   "outputs": [
    {
     "data": {
      "text/plain": [
       "{0: {'job': 'Chief Marketing Officer',\n",
       "  'company': 'Bennett Group',\n",
       "  'ssn': '465-33-9224',\n",
       "  'residence': '99931 Robert Plains\\nBishopshire, MI 83102',\n",
       "  'current_location': (Decimal('-9.1922575'), Decimal('-80.748268')),\n",
       "  'blood_group': 'AB+',\n",
       "  'website': ['http://www.miller-martin.biz/'],\n",
       "  'username': 'reginawoods',\n",
       "  'name': 'Alex Peterson',\n",
       "  'sex': 'M',\n",
       "  'address': '641 Gardner Mill Suite 347\\nPriscillabury, ME 19456',\n",
       "  'mail': 'davidsanders@hotmail.com',\n",
       "  'birthdate': datetime.date(1941, 7, 6)},\n",
       " 1: {'job': 'Psychotherapist, child',\n",
       "  'company': 'Price and Sons',\n",
       "  'ssn': '344-39-5662',\n",
       "  'residence': '4610 Boyer Glen\\nSouth Amy, WY 45356',\n",
       "  'current_location': (Decimal('-59.3401445'), Decimal('-37.766709')),\n",
       "  'blood_group': 'AB-',\n",
       "  'website': ['http://vasquez.net/', 'https://www.sutton-gonzalez.net/'],\n",
       "  'username': 'mollymorgan',\n",
       "  'name': 'Melanie Hensley',\n",
       "  'sex': 'F',\n",
       "  'address': '788 Vanessa Point Apt. 096\\nJonesmouth, SD 24985',\n",
       "  'mail': 'mlong@yahoo.com',\n",
       "  'birthdate': datetime.date(1962, 1, 8)},\n",
       " 2: {'job': 'Tourist information centre manager',\n",
       "  'company': 'Perez PLC',\n",
       "  'ssn': '879-07-5636',\n",
       "  'residence': '29430 Brittany Underpass\\nNew Jessicatown, IN 84181',\n",
       "  'current_location': (Decimal('47.387278'), Decimal('104.420958')),\n",
       "  'blood_group': 'O+',\n",
       "  'website': ['http://melendez.com/',\n",
       "   'https://www.powell.com/',\n",
       "   'https://jennings.com/',\n",
       "   'https://carroll-wilkinson.net/'],\n",
       "  'username': 'victoriawhite',\n",
       "  'name': 'Samuel Tapia',\n",
       "  'sex': 'M',\n",
       "  'address': '2007 Matthew Cape Apt. 189\\nTroymouth, NJ 47696',\n",
       "  'mail': 'sarah56@gmail.com',\n",
       "  'birthdate': datetime.date(2013, 8, 29)}}"
      ]
     },
     "execution_count": 31,
     "metadata": {},
     "output_type": "execute_result"
    }
   ],
   "source": [
    "sample_dict = {}\n",
    "for item in range(3):\n",
    "    sample_dict[item] = generate.profile()\n",
    "sample_dict"
   ]
  },
  {
   "cell_type": "code",
   "execution_count": 37,
   "metadata": {},
   "outputs": [
    {
     "name": "stdout",
     "output_type": "stream",
     "text": [
      "Alex Peterson\n",
      "Melanie Hensley\n",
      "Samuel Tapia\n"
     ]
    },
    {
     "data": {
      "text/plain": [
       "[datetime.date(1941, 7, 6),\n",
       " datetime.date(1962, 1, 8),\n",
       " datetime.date(2013, 8, 29)]"
      ]
     },
     "execution_count": 37,
     "metadata": {},
     "output_type": "execute_result"
    }
   ],
   "source": [
    "lst_dob = []\n",
    "for prof in sample_dict.values():\n",
    "    print(prof['name'])\n",
    "    lst_dob.append(prof['birthdate'])\n",
    "lst_dob"
   ]
  },
  {
   "cell_type": "code",
   "execution_count": 28,
   "metadata": {},
   "outputs": [],
   "source": [
    "all_profiles_dict = {}\n",
    "for item in range(10_000):\n",
    "    all_profiles_dict[item] = generate.profile()"
   ]
  },
  {
   "cell_type": "code",
   "execution_count": 32,
   "metadata": {},
   "outputs": [
    {
     "data": {
      "text/plain": [
       "{'job': 'Exhibitions officer, museum/gallery',\n",
       " 'company': 'Alexander Group',\n",
       " 'ssn': '308-57-3806',\n",
       " 'residence': 'PSC 0943, Box 0496\\nAPO AE 82629',\n",
       " 'current_location': (Decimal('42.087442'), Decimal('-83.322281')),\n",
       " 'blood_group': 'AB-',\n",
       " 'website': ['http://hickman.com/',\n",
       "  'http://waller-kelly.biz/',\n",
       "  'https://simmons.org/'],\n",
       " 'username': 'stacy31',\n",
       " 'name': 'Amy Callahan',\n",
       " 'sex': 'F',\n",
       " 'address': 'PSC 6252, Box 3786\\nAPO AA 83055',\n",
       " 'mail': 'lori98@gmail.com',\n",
       " 'birthdate': datetime.date(1982, 8, 23)}"
      ]
     },
     "execution_count": 32,
     "metadata": {},
     "output_type": "execute_result"
    }
   ],
   "source": [
    "all_profiles_dict[2]"
   ]
  },
  {
   "cell_type": "markdown",
   "metadata": {},
   "source": [
    "***Get most common blood-group***"
   ]
  },
  {
   "cell_type": "code",
   "execution_count": 38,
   "metadata": {},
   "outputs": [],
   "source": [
    "def common_blood_type_d(all_dict):\n",
    "    start = perf_counter()\n",
    "    common_grp = mode(list(map(lambda profile: profile['blood_group'], all_dict.values())))\n",
    "    end = perf_counter()\n",
    "    return common_grp, end-start"
   ]
  },
  {
   "cell_type": "code",
   "execution_count": 39,
   "metadata": {},
   "outputs": [
    {
     "name": "stdout",
     "output_type": "stream",
     "text": [
      "common_grp, elapsed : ('O-', 0.006062700000256882)\n"
     ]
    }
   ],
   "source": [
    "common_grp, elapsed = common_blood_type_d(all_profiles_dict)\n",
    "print(f'common_grp, elapsed : {common_grp, elapsed}')"
   ]
  },
  {
   "cell_type": "markdown",
   "metadata": {},
   "source": [
    "***calculate the mean-current_location***"
   ]
  },
  {
   "cell_type": "code",
   "execution_count": 40,
   "metadata": {},
   "outputs": [],
   "source": [
    "def mean_current_loc_d(all_dict):\n",
    "    start = perf_counter()\n",
    "    x_mean = mean(list(map(lambda profile:profile['current_location'][0], all_dict.values())))\n",
    "    y_mean = mean(list(map(lambda profile:profile['current_location'][1], all_dict.values())))\n",
    "    end = perf_counter()\n",
    "    mean_loc = (x_mean, y_mean)\n",
    "    return mean_loc, end-start"
   ]
  },
  {
   "cell_type": "code",
   "execution_count": 41,
   "metadata": {
    "scrolled": true
   },
   "outputs": [
    {
     "name": "stdout",
     "output_type": "stream",
     "text": [
      "mean_loc, elapsed : ((Decimal('0.1314284094'), Decimal('0.3402126222')), 0.04806579999967653)\n"
     ]
    }
   ],
   "source": [
    "mean_loc, elapsed = mean_current_loc_d(all_profiles_dict)\n",
    "print(f'mean_loc, elapsed : {mean_loc, elapsed}')"
   ]
  },
  {
   "cell_type": "markdown",
   "metadata": {},
   "source": [
    "***calculate the oldest_person_age***"
   ]
  },
  {
   "cell_type": "code",
   "execution_count": 42,
   "metadata": {},
   "outputs": [],
   "source": [
    "def oldest_person_age_d(all_dict):\n",
    "    start = perf_counter()\n",
    "    oldest_dob = min(list(map(lambda profile:profile['birthdate'], all_dict.values())))\n",
    "    current_dt = date.today()\n",
    "    end = perf_counter()\n",
    "    return round((current_dt - oldest_dob).days/365, 2), end-start"
   ]
  },
  {
   "cell_type": "code",
   "execution_count": 43,
   "metadata": {},
   "outputs": [
    {
     "name": "stdout",
     "output_type": "stream",
     "text": [
      "oldest_age, elapsed : 116.05,  0.004086799999640789\n"
     ]
    }
   ],
   "source": [
    "oldest_age, elapsed = oldest_person_age_d(all_profiles_dict)\n",
    "print(f'oldest_age, elapsed : {oldest_age},  {elapsed}')"
   ]
  },
  {
   "cell_type": "markdown",
   "metadata": {},
   "source": [
    "***calculate the average age***"
   ]
  },
  {
   "cell_type": "code",
   "execution_count": 44,
   "metadata": {},
   "outputs": [],
   "source": [
    "def average_age_d(all_dict):\n",
    "    start = perf_counter()\n",
    "    current_dt = date.today() \n",
    "    avg_age = mean(list(map(lambda profile:(current_dt - profile['birthdate']).days/365, all_dict.values())))\n",
    "    end = perf_counter()\n",
    "    return round(avg_age, 2), end-start"
   ]
  },
  {
   "cell_type": "code",
   "execution_count": 45,
   "metadata": {},
   "outputs": [
    {
     "name": "stdout",
     "output_type": "stream",
     "text": [
      "Avg_age, elapsed : 57.36,  0.02195939999910479\n"
     ]
    }
   ],
   "source": [
    "avg_age, elapsed = average_age_d(all_profiles_dict)\n",
    "print(f'Avg_age, elapsed : {avg_age},  {elapsed}')"
   ]
  },
  {
   "cell_type": "markdown",
   "metadata": {},
   "source": [
    "### Create fake data (you can use Faker for company names) for imaginary stock exchange for top 100 companies (name, symbol, open, high, close). Assign a random weight to all the companies. Calculate and show what value the stock market started at, what was the highest value during the day, and where did it end. Make sure your open, high, close are not totally random. You can only use namedtuple. - 500  (including 10 test cases)"
   ]
  },
  {
   "cell_type": "code",
   "execution_count": 102,
   "metadata": {},
   "outputs": [
    {
     "name": "stdout",
     "output_type": "stream",
     "text": [
      "symbols[2] - 31 SMIG\n",
      "31 SMIG\n",
      "New symbol - 31, SMIL\n",
      "51 HARH\n",
      "New symbol - 51, HARU\n",
      "symbols[2] - 62 SMIG\n",
      "62 SMIG\n",
      "New symbol - 62, SMIH\n",
      "symbols[2] - 93 SMIG\n",
      "93 SMIG\n",
      "New symbol - 93, SMIB\n"
     ]
    }
   ],
   "source": [
    "weights = []\n",
    "names   = []\n",
    "symbols = []\n",
    "symbol_set = set()\n",
    "for _ in range(100):\n",
    "    wt = round(random.uniform(1,5), 2)\n",
    "    weights.append(wt)\n",
    "    name    = generate.company()\n",
    "    names.append(name)    \n",
    "    symbol  = name[0:3].upper() + random.choice(string.ascii_uppercase)\n",
    "    if symbols and _ % 31 == 0:\n",
    "        symbol = symbols[2]\n",
    "        print(f'symbols[2] - {_} {symbols[2]}')\n",
    "    while symbol in symbol_set:\n",
    "         print(_, symbol)\n",
    "         symbol = symbol[0:3].upper() + random.choice(string.ascii_uppercase)\n",
    "         print(f'New symbol - {_}, {symbol}')\n",
    "    symbols.append(symbol)\n",
    "    symbol_set.add(symbol)"
   ]
  },
  {
   "cell_type": "code",
   "execution_count": 72,
   "metadata": {},
   "outputs": [],
   "source": [
    "company = namedtuple('company','name, symbol, open, high, close ,weight')\n",
    "company_comb = namedtuple('company_comb', 'info')"
   ]
  },
  {
   "cell_type": "code",
   "execution_count": 73,
   "metadata": {},
   "outputs": [],
   "source": [
    "def stock_market_valu():\n",
    "    for i in range(10):\n",
    "        name    = names[i]\n",
    "        symbol  = symbols[i]\n",
    "        weight  = weights[i]\n",
    "        open_   = round(random.uniform(100,1000), 2) * weight\n",
    "        high_   = random.uniform(1, 1.4) * open_\n",
    "        close_  = random.uniform(0.6, 1) * high_\n",
    "        comp = company(name, symbol, open_, high_, close_, weight)\n",
    "        if i == 0:\n",
    "            top_100 = company_comb(comp)\n",
    "        else:\n",
    "            top_100 += company_comb(comp)\n",
    "    open_value  = round(sum(list(map(lambda comp : comp[2], top_100))), 4)\n",
    "    high_value  = round(sum(list(map(lambda comp : comp[3], top_100))), 4)\n",
    "    close_value = round(sum(list(map(lambda comp : comp[4], top_100))), 4)\n",
    "    return open_value, high_value, close_value, top_100"
   ]
  },
  {
   "cell_type": "code",
   "execution_count": 74,
   "metadata": {},
   "outputs": [
    {
     "data": {
      "text/plain": [
       "(14658.4669, 16846.0126, 13727.2905)"
      ]
     },
     "execution_count": 74,
     "metadata": {},
     "output_type": "execute_result"
    }
   ],
   "source": [
    "result = stock_market_valu()\n",
    "result[0:3]"
   ]
  },
  {
   "cell_type": "code",
   "execution_count": 75,
   "metadata": {},
   "outputs": [],
   "source": [
    "top_100_nt = result[-1]"
   ]
  },
  {
   "cell_type": "code",
   "execution_count": 79,
   "metadata": {},
   "outputs": [
    {
     "data": {
      "text/plain": [
       "True"
      ]
     },
     "execution_count": 79,
     "metadata": {},
     "output_type": "execute_result"
    }
   ],
   "source": [
    "min(list(map(lambda comp:comp[-1], top_100_nt))) >= 1"
   ]
  },
  {
   "cell_type": "code",
   "execution_count": 80,
   "metadata": {},
   "outputs": [
    {
     "data": {
      "text/plain": [
       "True"
      ]
     },
     "execution_count": 80,
     "metadata": {},
     "output_type": "execute_result"
    }
   ],
   "source": [
    "max(list(map(lambda comp:comp[-1], top_100_nt))) <= 5"
   ]
  },
  {
   "cell_type": "code",
   "execution_count": 85,
   "metadata": {},
   "outputs": [
    {
     "data": {
      "text/plain": [
       "False"
      ]
     },
     "execution_count": 85,
     "metadata": {},
     "output_type": "execute_result"
    }
   ],
   "source": [
    "max(list(map(lambda comp:comp[-1], top_100_nt))) >= 5"
   ]
  },
  {
   "cell_type": "code",
   "execution_count": 82,
   "metadata": {},
   "outputs": [
    {
     "data": {
      "text/plain": [
       "['MOOM',\n",
       " 'MORW',\n",
       " 'STEW',\n",
       " 'HOLM',\n",
       " 'CHAH',\n",
       " 'ROSE',\n",
       " 'JORO',\n",
       " 'VAST',\n",
       " 'GARC',\n",
       " 'LAMF']"
      ]
     },
     "execution_count": 82,
     "metadata": {},
     "output_type": "execute_result"
    }
   ],
   "source": [
    "lst = list(map(lambda comp:comp[1], top_100_nt))\n",
    "lst"
   ]
  },
  {
   "cell_type": "code",
   "execution_count": 83,
   "metadata": {},
   "outputs": [
    {
     "data": {
      "text/plain": [
       "{'CHAH',\n",
       " 'GARC',\n",
       " 'HOLM',\n",
       " 'JORO',\n",
       " 'LAMF',\n",
       " 'MOOM',\n",
       " 'MORW',\n",
       " 'ROSE',\n",
       " 'STEW',\n",
       " 'VAST'}"
      ]
     },
     "execution_count": 83,
     "metadata": {},
     "output_type": "execute_result"
    }
   ],
   "source": [
    "set(lst)"
   ]
  },
  {
   "cell_type": "code",
   "execution_count": 84,
   "metadata": {},
   "outputs": [
    {
     "data": {
      "text/plain": [
       "True"
      ]
     },
     "execution_count": 84,
     "metadata": {},
     "output_type": "execute_result"
    }
   ],
   "source": [
    "len(set(lst)) == len(lst)"
   ]
  },
  {
   "cell_type": "code",
   "execution_count": 86,
   "metadata": {},
   "outputs": [],
   "source": [
    "s = {1, 2, 3}"
   ]
  },
  {
   "cell_type": "code",
   "execution_count": 87,
   "metadata": {},
   "outputs": [],
   "source": [
    "s.add(1)"
   ]
  },
  {
   "cell_type": "code",
   "execution_count": 88,
   "metadata": {},
   "outputs": [
    {
     "data": {
      "text/plain": [
       "{1, 2, 3}"
      ]
     },
     "execution_count": 88,
     "metadata": {},
     "output_type": "execute_result"
    }
   ],
   "source": [
    "s"
   ]
  },
  {
   "cell_type": "code",
   "execution_count": null,
   "metadata": {},
   "outputs": [],
   "source": []
  }
 ],
 "metadata": {
  "kernelspec": {
   "display_name": "Python 3",
   "language": "python",
   "name": "python3"
  },
  "language_info": {
   "codemirror_mode": {
    "name": "ipython",
    "version": 3
   },
   "file_extension": ".py",
   "mimetype": "text/x-python",
   "name": "python",
   "nbconvert_exporter": "python",
   "pygments_lexer": "ipython3",
   "version": "3.8.3"
  }
 },
 "nbformat": 4,
 "nbformat_minor": 4
}
