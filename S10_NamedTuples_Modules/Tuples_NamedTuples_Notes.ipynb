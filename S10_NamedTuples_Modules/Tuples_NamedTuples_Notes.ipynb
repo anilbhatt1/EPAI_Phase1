{
 "cells": [
  {
   "cell_type": "markdown",
   "metadata": {},
   "source": [
    "## Notebook Covers following topics:\n",
    "- **Dummy variables in tuples ' *_ '**\n",
    "    - Can use only one  *_  in tuple unpacking\n",
    "- **Importance of '__repr__' while defining classes**\n",
    "- **Strings are immutable**\n",
    "- **Tuples are immutable**\n",
    "- **Enumerate**\n",
    "    - Gives index & item while iterating\n",
    "- **Named Tuples**\n",
    "    - Overriding doc functions\n",
    "    - Overriding **default** values in functions & named tuples\n",
    "    - How to use a function to generate random namedtuple instances\n",
    "    - How to use dictionary to create a namedtuple instance\n",
    "    - How to check if something is **iterable or not**. eg:dict.values()\n",
    "    - How to refer dynamically to fields in namedtuple like **d2.key_name** - Use **getattr(d2, key_name)**\n",
    "- **Faker** to create fake data\n",
    "- **How to use namedtuple to create another namedtuple**"
   ]
  },
  {
   "cell_type": "code",
   "execution_count": 2,
   "metadata": {},
   "outputs": [],
   "source": [
    "#Imports required for this notebook\n",
    "from random import uniform\n",
    "from math import sqrt\n",
    "from collections import namedtuple\n",
    "from random import randint, random\n",
    "from collections.abc import Iterable\n",
    "from faker import Faker"
   ]
  },
  {
   "cell_type": "code",
   "execution_count": null,
   "metadata": {},
   "outputs": [],
   "source": [
    "pip install faker"
   ]
  },
  {
   "cell_type": "markdown",
   "metadata": {},
   "source": [
    "***Dummy Variables***"
   ]
  },
  {
   "cell_type": "code",
   "execution_count": 4,
   "metadata": {},
   "outputs": [],
   "source": [
    "tup = 'Anil', 'India', \"5.7inches\", '65kg','Married', '37 years' "
   ]
  },
  {
   "cell_type": "code",
   "execution_count": 10,
   "metadata": {},
   "outputs": [
    {
     "name": "stdout",
     "output_type": "stream",
     "text": [
      " Name : Anil, marital_status: Married\n"
     ]
    }
   ],
   "source": [
    "# Let us say we are interested only in Married status, we can use dummy variables as follows:\n",
    "\n",
    "name, *_, marital_status, age = tup\n",
    "print(f' Name : {name}, marital_status: {marital_status}')"
   ]
  },
  {
   "cell_type": "code",
   "execution_count": 11,
   "metadata": {},
   "outputs": [
    {
     "ename": "SyntaxError",
     "evalue": "two starred expressions in assignment (<ipython-input-11-79736d05f047>, line 2)",
     "output_type": "error",
     "traceback": [
      "\u001b[1;36m  File \u001b[1;32m\"<ipython-input-11-79736d05f047>\"\u001b[1;36m, line \u001b[1;32m2\u001b[0m\n\u001b[1;33m    name, *_, marital_status, *__ = tup\u001b[0m\n\u001b[1;37m    ^\u001b[0m\n\u001b[1;31mSyntaxError\u001b[0m\u001b[1;31m:\u001b[0m two starred expressions in assignment\n"
     ]
    }
   ],
   "source": [
    "# However we cant use more than 1 *_ in tuple unpcaking. In above example we dont need age, but can't help. Below will error out\n",
    "name, *_, marital_status, *__ = tup"
   ]
  },
  {
   "cell_type": "markdown",
   "metadata": {},
   "source": [
    "***Importance of repr***"
   ]
  },
  {
   "cell_type": "code",
   "execution_count": 13,
   "metadata": {},
   "outputs": [],
   "source": [
    "# Let us define a class without repr\n",
    "\n",
    "class Point2D():\n",
    "    def __init__(self, x, y):\n",
    "        self.x = x\n",
    "        self.y = y           "
   ]
  },
  {
   "cell_type": "code",
   "execution_count": 14,
   "metadata": {},
   "outputs": [],
   "source": [
    "p1 = Point2D(10, 20)"
   ]
  },
  {
   "cell_type": "code",
   "execution_count": 15,
   "metadata": {},
   "outputs": [
    {
     "data": {
      "text/plain": [
       "<__main__.Point2D at 0x1e2566d71c0>"
      ]
     },
     "execution_count": 15,
     "metadata": {},
     "output_type": "execute_result"
    }
   ],
   "source": [
    "#If we give p1 it will just say it is an object because __repr__ is missing\n",
    "p1"
   ]
  },
  {
   "cell_type": "code",
   "execution_count": 16,
   "metadata": {},
   "outputs": [],
   "source": [
    "# Let us redefine same class now with repr\n",
    "\n",
    "class Point2D():\n",
    "    def __init__(self, x, y):\n",
    "        self.x = x\n",
    "        self.y = y \n",
    "        \n",
    "    def __repr__(self):\n",
    "        return f'{self.__class__.__name__} - {self.x}, {self.y}'"
   ]
  },
  {
   "cell_type": "code",
   "execution_count": 17,
   "metadata": {},
   "outputs": [
    {
     "data": {
      "text/plain": [
       "Point2D - 10, 20"
      ]
     },
     "execution_count": 17,
     "metadata": {},
     "output_type": "execute_result"
    }
   ],
   "source": [
    "p1 = Point2D(10, 20)\n",
    "p1"
   ]
  },
  {
   "cell_type": "markdown",
   "metadata": {},
   "source": [
    "***Strings are IMMutable***"
   ]
  },
  {
   "cell_type": "code",
   "execution_count": 20,
   "metadata": {},
   "outputs": [
    {
     "name": "stdout",
     "output_type": "stream",
     "text": [
      " a Python, id :0x1e250556a70\n",
      " a PythonRocks, id :0x1e25597fb30\n"
     ]
    }
   ],
   "source": [
    "# Please notice ID changes once we alter 'a'\n",
    "\n",
    "a = 'Python'\n",
    "print(f' a {a}, id :{hex(id(a))}')\n",
    "a += 'Rocks'\n",
    "print(f' a {a}, id :{hex(id(a))}')"
   ]
  },
  {
   "cell_type": "markdown",
   "metadata": {},
   "source": [
    "***Tuples are immutable***"
   ]
  },
  {
   "cell_type": "code",
   "execution_count": 21,
   "metadata": {},
   "outputs": [
    {
     "name": "stdout",
     "output_type": "stream",
     "text": [
      " a (1, 2, 344), id :0x1e2558f1240\n",
      " a (1, 2, 344, 6, 7), id :0x1e2549f2590\n"
     ]
    }
   ],
   "source": [
    "# Please notice ID changes once we alter 'a'\n",
    "\n",
    "a = (1, 2, 344)\n",
    "print(f' a {a}, id :{hex(id(a))}')\n",
    "a += (6, 7)\n",
    "print(f' a {a}, id :{hex(id(a))}')\n"
   ]
  },
  {
   "cell_type": "markdown",
   "metadata": {},
   "source": [
    "## Enumerate"
   ]
  },
  {
   "cell_type": "code",
   "execution_count": 22,
   "metadata": {},
   "outputs": [
    {
     "name": "stdout",
     "output_type": "stream",
     "text": [
      "('London', 'UK', 8780000) ('New York', 'USA', 8500000) ('Beijing', 'China', 21000000)\n"
     ]
    }
   ],
   "source": [
    "london   = 'London', 'UK', 8_780_000\n",
    "new_york = 'New York', 'USA', 8_500_000\n",
    "beijing  = 'Beijing', 'China', 21_000_000\n",
    "print(london, new_york, beijing)"
   ]
  },
  {
   "cell_type": "code",
   "execution_count": 23,
   "metadata": {},
   "outputs": [
    {
     "data": {
      "text/plain": [
       "[('London', 'UK', 8780000),\n",
       " ('New York', 'USA', 8500000),\n",
       " ('Beijing', 'China', 21000000)]"
      ]
     },
     "execution_count": 23,
     "metadata": {},
     "output_type": "execute_result"
    }
   ],
   "source": [
    "# Enclose these in a list\n",
    "cities = [london, new_york, beijing]\n",
    "cities"
   ]
  },
  {
   "cell_type": "code",
   "execution_count": 24,
   "metadata": {},
   "outputs": [
    {
     "name": "stdout",
     "output_type": "stream",
     "text": [
      "(0, ('London', 'UK', 8780000))\n",
      "(1, ('New York', 'USA', 8500000))\n",
      "(2, ('Beijing', 'China', 21000000))\n"
     ]
    }
   ],
   "source": [
    "for item in enumerate(cities):\n",
    "    print(item)"
   ]
  },
  {
   "cell_type": "code",
   "execution_count": 25,
   "metadata": {},
   "outputs": [
    {
     "name": "stdout",
     "output_type": "stream",
     "text": [
      "Index : 0, Item : ('London', 'UK', 8780000)\n",
      "Index : 1, Item : ('New York', 'USA', 8500000)\n",
      "Index : 2, Item : ('Beijing', 'China', 21000000)\n"
     ]
    }
   ],
   "source": [
    "# We can do tuple unpacking while using enumerate\n",
    "\n",
    "for index, item in enumerate(cities):\n",
    "    print(f'Index : {index}, Item : {item}')"
   ]
  },
  {
   "cell_type": "markdown",
   "metadata": {},
   "source": [
    "***Example of tuple : Pi/4 = No:of random uniform points placed inside circle/ Total no: of random uniform points thrown in square***"
   ]
  },
  {
   "cell_type": "code",
   "execution_count": 26,
   "metadata": {},
   "outputs": [],
   "source": [
    "from random import uniform\n",
    "from math import sqrt\n",
    "\n",
    "def throw_points(rad):\n",
    "    x = uniform(-rad, rad)\n",
    "    y = uniform(-rad, rad)\n",
    "    \n",
    "    if (x**2 + y**2) < rad:\n",
    "        is_inside_circle = True\n",
    "    else:\n",
    "        is_inside_circle = False\n",
    "        \n",
    "    return x, y, is_inside_circle"
   ]
  },
  {
   "cell_type": "code",
   "execution_count": 29,
   "metadata": {},
   "outputs": [
    {
     "name": "stdout",
     "output_type": "stream",
     "text": [
      " Value of pi is 3.1608\n"
     ]
    }
   ],
   "source": [
    "num_attempts = 10_000\n",
    "count_inside = 0\n",
    "\n",
    "for _ in range(num_attempts):\n",
    "    *_, is_inside = throw_points(1)\n",
    "    if is_inside:\n",
    "        count_inside += 1\n",
    "        \n",
    "print(f' Value of pi is {4*count_inside/num_attempts}')"
   ]
  },
  {
   "cell_type": "markdown",
   "metadata": {},
   "source": [
    "## Named Tuples"
   ]
  },
  {
   "cell_type": "markdown",
   "metadata": {},
   "source": [
    "***Let us we just want x,y,z to be stored as below.***"
   ]
  },
  {
   "cell_type": "code",
   "execution_count": 14,
   "metadata": {},
   "outputs": [],
   "source": [
    "class Point():\n",
    "    def __init__(self, x, y, z):\n",
    "        self.x = x\n",
    "        self.y = y\n",
    "        self.z = z"
   ]
  },
  {
   "cell_type": "code",
   "execution_count": 17,
   "metadata": {},
   "outputs": [],
   "source": [
    "p1 = Point(10, 20, 30)\n",
    "p2 = Point(10, 20, 30)"
   ]
  },
  {
   "cell_type": "code",
   "execution_count": 18,
   "metadata": {},
   "outputs": [
    {
     "data": {
      "text/plain": [
       "<__main__.Point at 0x25733e8adc8>"
      ]
     },
     "execution_count": 18,
     "metadata": {},
     "output_type": "execute_result"
    }
   ],
   "source": [
    "#Please note that p1 is not showing values because we haven't defined __repr__\n",
    "p1"
   ]
  },
  {
   "cell_type": "code",
   "execution_count": 20,
   "metadata": {},
   "outputs": [
    {
     "data": {
      "text/plain": [
       "False"
      ]
     },
     "execution_count": 20,
     "metadata": {},
     "output_type": "execute_result"
    }
   ],
   "source": [
    "# Also, equality will not work because we didn't implement __eq__ method\n",
    "p1 == p2"
   ]
  },
  {
   "cell_type": "markdown",
   "metadata": {},
   "source": [
    "***In such cases 'Named Tuples' will be better option***"
   ]
  },
  {
   "cell_type": "code",
   "execution_count": 4,
   "metadata": {},
   "outputs": [],
   "source": [
    "from collections import namedtuple"
   ]
  },
  {
   "cell_type": "code",
   "execution_count": 5,
   "metadata": {},
   "outputs": [],
   "source": [
    "Point3D = namedtuple('Point3D', 'x y z')"
   ]
  },
  {
   "cell_type": "code",
   "execution_count": 24,
   "metadata": {},
   "outputs": [],
   "source": [
    "p2 = Point3D(10, 20, 30)"
   ]
  },
  {
   "cell_type": "code",
   "execution_count": 10,
   "metadata": {},
   "outputs": [
    {
     "data": {
      "text/plain": [
       "Point3D(x=10, y=20, z=30)"
      ]
     },
     "execution_count": 10,
     "metadata": {},
     "output_type": "execute_result"
    }
   ],
   "source": [
    "# We can display p2 without a '__repr__'. \n",
    "p2"
   ]
  },
  {
   "cell_type": "code",
   "execution_count": 22,
   "metadata": {},
   "outputs": [
    {
     "data": {
      "text/plain": [
       "(10, 20, 30)"
      ]
     },
     "execution_count": 22,
     "metadata": {},
     "output_type": "execute_result"
    }
   ],
   "source": [
    "# Same as in class, we can display attributes\n",
    "p2.x, p2.y, p2.z"
   ]
  },
  {
   "cell_type": "code",
   "execution_count": 25,
   "metadata": {},
   "outputs": [
    {
     "data": {
      "text/plain": [
       "True"
      ]
     },
     "execution_count": 25,
     "metadata": {},
     "output_type": "execute_result"
    }
   ],
   "source": [
    "#All methods available for tuples are available in named tuples as well. eg ==\n",
    "p3 = Point3D(10, 20, 30)\n",
    "p2 == p3"
   ]
  },
  {
   "cell_type": "code",
   "execution_count": 27,
   "metadata": {},
   "outputs": [],
   "source": [
    "#Multistrings are supported while defining NamedTuples\n",
    "Stock = namedtuple('Stock', '''\n",
    "                symbol\n",
    "                year\n",
    "                month\n",
    "                day\n",
    "                open\n",
    "                high\n",
    "                low\n",
    "                close\n",
    "                ''')"
   ]
  },
  {
   "cell_type": "code",
   "execution_count": 28,
   "metadata": {},
   "outputs": [
    {
     "data": {
      "text/plain": [
       "Stock(symbol='BSE', year=2018, month=1, day=25, open=26313, high=26458, low=26260, close=26393)"
      ]
     },
     "execution_count": 28,
     "metadata": {},
     "output_type": "execute_result"
    }
   ],
   "source": [
    "bse = Stock('BSE', 2018, 1, 25, 26_313, 26_458, 26_260, 26_393)\n",
    "bse"
   ]
  },
  {
   "cell_type": "code",
   "execution_count": 29,
   "metadata": {},
   "outputs": [
    {
     "name": "stdout",
     "output_type": "stream",
     "text": [
      "BSE 26393\n"
     ]
    }
   ],
   "source": [
    "#Tuple unpacking using dummy variables can be done\n",
    "yr, *_, close = bse\n",
    "print(yr, close)"
   ]
  },
  {
   "cell_type": "code",
   "execution_count": 30,
   "metadata": {},
   "outputs": [
    {
     "name": "stdout",
     "output_type": "stream",
     "text": [
      "BSE\n",
      "2018\n",
      "1\n",
      "25\n",
      "26313\n",
      "26458\n",
      "26260\n",
      "26393\n"
     ]
    }
   ],
   "source": [
    "#It is also iterable\n",
    "for e in bse:\n",
    "    print(e)"
   ]
  },
  {
   "cell_type": "code",
   "execution_count": 31,
   "metadata": {},
   "outputs": [
    {
     "data": {
      "text/plain": [
       "('symbol', 'year', 'month', 'day', 'open', 'high', 'low', 'close')"
      ]
     },
     "execution_count": 31,
     "metadata": {},
     "output_type": "execute_result"
    }
   ],
   "source": [
    "# _fields\n",
    "bse._fields"
   ]
  },
  {
   "cell_type": "markdown",
   "metadata": {},
   "source": [
    "***An example to use NamedTuples with List comprehension***"
   ]
  },
  {
   "cell_type": "code",
   "execution_count": 2,
   "metadata": {},
   "outputs": [],
   "source": [
    "def dot_product(a,b):\n",
    "    return sum((e[0]*e[1]) for e in list(zip(a,b)))"
   ]
  },
  {
   "cell_type": "code",
   "execution_count": 47,
   "metadata": {},
   "outputs": [],
   "source": [
    "pt1 = Point3D(1, 2, 3)\n",
    "pt2 = Point3D(1, 1, 1)"
   ]
  },
  {
   "cell_type": "code",
   "execution_count": 48,
   "metadata": {},
   "outputs": [
    {
     "data": {
      "text/plain": [
       "6"
      ]
     },
     "execution_count": 48,
     "metadata": {},
     "output_type": "execute_result"
    }
   ],
   "source": [
    "dot_product(pt1, pt2)"
   ]
  },
  {
   "cell_type": "code",
   "execution_count": 5,
   "metadata": {},
   "outputs": [
    {
     "data": {
      "text/plain": [
       "55"
      ]
     },
     "execution_count": 5,
     "metadata": {},
     "output_type": "execute_result"
    }
   ],
   "source": [
    "Point2D = namedtuple('Point2D', 'x y')\n",
    "pt3 = Point2D(11, 22)\n",
    "pt4 = Point2D(1, 2)\n",
    "dot_product(pt3, pt4)"
   ]
  },
  {
   "cell_type": "markdown",
   "metadata": {},
   "source": [
    "***Using __doc__ with namedtuple***"
   ]
  },
  {
   "cell_type": "code",
   "execution_count": 6,
   "metadata": {},
   "outputs": [
    {
     "data": {
      "text/plain": [
       "'Point2D(x, y)'"
      ]
     },
     "execution_count": 6,
     "metadata": {},
     "output_type": "execute_result"
    }
   ],
   "source": [
    "Point2D.__doc__"
   ]
  },
  {
   "cell_type": "code",
   "execution_count": 7,
   "metadata": {},
   "outputs": [],
   "source": [
    "# We can override the doc as follows\n",
    "\n",
    "Point2D.__doc__ = 'Defining a point in 2D'\n",
    "Point2D.x.__doc__ = 'X Coordinate'\n",
    "Point2D.y.__doc__ = 'Y Coordinate'"
   ]
  },
  {
   "cell_type": "code",
   "execution_count": 8,
   "metadata": {},
   "outputs": [
    {
     "data": {
      "text/plain": [
       "'Defining a point in 2D'"
      ]
     },
     "execution_count": 8,
     "metadata": {},
     "output_type": "execute_result"
    }
   ],
   "source": [
    "Point2D.__doc__"
   ]
  },
  {
   "cell_type": "code",
   "execution_count": 11,
   "metadata": {},
   "outputs": [
    {
     "data": {
      "text/plain": [
       "'X Coordinate'"
      ]
     },
     "execution_count": 11,
     "metadata": {},
     "output_type": "execute_result"
    }
   ],
   "source": [
    "Point2D.x.__doc__"
   ]
  },
  {
   "cell_type": "code",
   "execution_count": 12,
   "metadata": {},
   "outputs": [
    {
     "name": "stdout",
     "output_type": "stream",
     "text": [
      "Help on class Point2D in module __main__:\n",
      "\n",
      "class Point2D(builtins.tuple)\n",
      " |  Point2D(x, y)\n",
      " |  \n",
      " |  Defining a point in 2D\n",
      " |  \n",
      " |  Method resolution order:\n",
      " |      Point2D\n",
      " |      builtins.tuple\n",
      " |      builtins.object\n",
      " |  \n",
      " |  Methods defined here:\n",
      " |  \n",
      " |  __getnewargs__(self)\n",
      " |      Return self as a plain tuple.  Used by copy and pickle.\n",
      " |  \n",
      " |  __repr__(self)\n",
      " |      Return a nicely formatted representation string\n",
      " |  \n",
      " |  _asdict(self)\n",
      " |      Return a new OrderedDict which maps field names to their values.\n",
      " |  \n",
      " |  _replace(_self, **kwds)\n",
      " |      Return a new Point2D object replacing specified fields with new values\n",
      " |  \n",
      " |  ----------------------------------------------------------------------\n",
      " |  Class methods defined here:\n",
      " |  \n",
      " |  _make(iterable) from builtins.type\n",
      " |      Make a new Point2D object from a sequence or iterable\n",
      " |  \n",
      " |  ----------------------------------------------------------------------\n",
      " |  Static methods defined here:\n",
      " |  \n",
      " |  __new__(_cls, x, y)\n",
      " |      Create new instance of Point2D(x, y)\n",
      " |  \n",
      " |  ----------------------------------------------------------------------\n",
      " |  Data descriptors defined here:\n",
      " |  \n",
      " |  x\n",
      " |      X Coordinate\n",
      " |  \n",
      " |  y\n",
      " |      Y Coordinate\n",
      " |  \n",
      " |  ----------------------------------------------------------------------\n",
      " |  Data and other attributes defined here:\n",
      " |  \n",
      " |  _field_defaults = {}\n",
      " |  \n",
      " |  _fields = ('x', 'y')\n",
      " |  \n",
      " |  _fields_defaults = {}\n",
      " |  \n",
      " |  ----------------------------------------------------------------------\n",
      " |  Methods inherited from builtins.tuple:\n",
      " |  \n",
      " |  __add__(self, value, /)\n",
      " |      Return self+value.\n",
      " |  \n",
      " |  __contains__(self, key, /)\n",
      " |      Return key in self.\n",
      " |  \n",
      " |  __eq__(self, value, /)\n",
      " |      Return self==value.\n",
      " |  \n",
      " |  __ge__(self, value, /)\n",
      " |      Return self>=value.\n",
      " |  \n",
      " |  __getattribute__(self, name, /)\n",
      " |      Return getattr(self, name).\n",
      " |  \n",
      " |  __getitem__(self, key, /)\n",
      " |      Return self[key].\n",
      " |  \n",
      " |  __gt__(self, value, /)\n",
      " |      Return self>value.\n",
      " |  \n",
      " |  __hash__(self, /)\n",
      " |      Return hash(self).\n",
      " |  \n",
      " |  __iter__(self, /)\n",
      " |      Implement iter(self).\n",
      " |  \n",
      " |  __le__(self, value, /)\n",
      " |      Return self<=value.\n",
      " |  \n",
      " |  __len__(self, /)\n",
      " |      Return len(self).\n",
      " |  \n",
      " |  __lt__(self, value, /)\n",
      " |      Return self<value.\n",
      " |  \n",
      " |  __mul__(self, value, /)\n",
      " |      Return self*value.\n",
      " |  \n",
      " |  __ne__(self, value, /)\n",
      " |      Return self!=value.\n",
      " |  \n",
      " |  __rmul__(self, value, /)\n",
      " |      Return value*self.\n",
      " |  \n",
      " |  count(self, value, /)\n",
      " |      Return number of occurrences of value.\n",
      " |  \n",
      " |  index(self, value, start=0, stop=9223372036854775807, /)\n",
      " |      Return first index of value.\n",
      " |      \n",
      " |      Raises ValueError if the value is not present.\n",
      "\n"
     ]
    }
   ],
   "source": [
    "help(Point2D)"
   ]
  },
  {
   "cell_type": "markdown",
   "metadata": {},
   "source": [
    "## How to change function defaults"
   ]
  },
  {
   "cell_type": "code",
   "execution_count": 14,
   "metadata": {},
   "outputs": [],
   "source": [
    "def func(a, b=1, c=2):\n",
    "    print(f'a, b, c : {a, b, c }')"
   ]
  },
  {
   "cell_type": "code",
   "execution_count": 15,
   "metadata": {},
   "outputs": [
    {
     "name": "stdout",
     "output_type": "stream",
     "text": [
      "a, b, c : (10, 1, 2)\n"
     ]
    }
   ],
   "source": [
    "func(10)"
   ]
  },
  {
   "cell_type": "markdown",
   "metadata": {},
   "source": [
    "***We can change the defaults 'b' & 'c' as follows. Please note that these are 'right-aligned'***"
   ]
  },
  {
   "cell_type": "code",
   "execution_count": 16,
   "metadata": {},
   "outputs": [],
   "source": [
    "func.__defaults__ = 100, 200"
   ]
  },
  {
   "cell_type": "code",
   "execution_count": 17,
   "metadata": {},
   "outputs": [
    {
     "name": "stdout",
     "output_type": "stream",
     "text": [
      "a, b, c : (10, 100, 200)\n"
     ]
    }
   ],
   "source": [
    "func(10)"
   ]
  },
  {
   "cell_type": "code",
   "execution_count": 18,
   "metadata": {},
   "outputs": [],
   "source": [
    "# Even if we give more values than actual default values, only right most will be taken-up\n",
    "func.__defaults__ = 10, 20, 30, 1000, 2200"
   ]
  },
  {
   "cell_type": "code",
   "execution_count": 19,
   "metadata": {},
   "outputs": [
    {
     "name": "stdout",
     "output_type": "stream",
     "text": [
      "a, b, c : (10, 1000, 2200)\n"
     ]
    }
   ],
   "source": [
    "func(10)"
   ]
  },
  {
   "cell_type": "markdown",
   "metadata": {},
   "source": [
    "***Let us try this in namedtuples also***"
   ]
  },
  {
   "cell_type": "code",
   "execution_count": 20,
   "metadata": {},
   "outputs": [],
   "source": [
    "Vector2D = namedtuple('Vector2D','x1 y1 x2 y2 origin_x origin_y')"
   ]
  },
  {
   "cell_type": "code",
   "execution_count": 21,
   "metadata": {},
   "outputs": [
    {
     "data": {
      "text/plain": [
       "('x1', 'y1', 'x2', 'y2', 'origin_x', 'origin_y')"
      ]
     },
     "execution_count": 21,
     "metadata": {},
     "output_type": "execute_result"
    }
   ],
   "source": [
    "Vector2D._fields"
   ]
  },
  {
   "cell_type": "code",
   "execution_count": 30,
   "metadata": {},
   "outputs": [],
   "source": [
    "v1 = Vector2D(1,1,2,2,0,0)"
   ]
  },
  {
   "cell_type": "code",
   "execution_count": 31,
   "metadata": {},
   "outputs": [
    {
     "ename": "TypeError",
     "evalue": "__new__() missing 2 required positional arguments: 'origin_x' and 'origin_y'",
     "output_type": "error",
     "traceback": [
      "\u001b[1;31m---------------------------------------------------------------------------\u001b[0m",
      "\u001b[1;31mTypeError\u001b[0m                                 Traceback (most recent call last)",
      "\u001b[1;32m<ipython-input-31-56fdd4ee6d79>\u001b[0m in \u001b[0;36m<module>\u001b[1;34m\u001b[0m\n\u001b[0;32m      1\u001b[0m \u001b[1;31m# Let us say we want to have origins as 0, 0 always & dont want to supply this while defining namedtuple each time\u001b[0m\u001b[1;33m\u001b[0m\u001b[1;33m\u001b[0m\u001b[1;33m\u001b[0m\u001b[0m\n\u001b[0;32m      2\u001b[0m \u001b[1;31m# Currently, we have to give it each time as below\u001b[0m\u001b[1;33m\u001b[0m\u001b[1;33m\u001b[0m\u001b[1;33m\u001b[0m\u001b[0m\n\u001b[1;32m----> 3\u001b[1;33m \u001b[0mv2\u001b[0m \u001b[1;33m=\u001b[0m \u001b[0mVector2D\u001b[0m\u001b[1;33m(\u001b[0m\u001b[1;36m2\u001b[0m\u001b[1;33m,\u001b[0m\u001b[1;36m2\u001b[0m\u001b[1;33m,\u001b[0m\u001b[1;36m4\u001b[0m\u001b[1;33m,\u001b[0m\u001b[1;36m4\u001b[0m\u001b[1;33m)\u001b[0m\u001b[1;33m\u001b[0m\u001b[1;33m\u001b[0m\u001b[0m\n\u001b[0m",
      "\u001b[1;31mTypeError\u001b[0m: __new__() missing 2 required positional arguments: 'origin_x' and 'origin_y'"
     ]
    }
   ],
   "source": [
    "# Let us say we want to have origins as 0, 0 always & dont want to supply this while defining namedtuple each time\n",
    "# Currently, we have to give it each time as below\n",
    "v2 = Vector2D(2,2,4,4)"
   ]
  },
  {
   "cell_type": "code",
   "execution_count": 32,
   "metadata": {},
   "outputs": [],
   "source": [
    "v2 = Vector2D(2,2,4,4,0,0)"
   ]
  },
  {
   "cell_type": "code",
   "execution_count": 34,
   "metadata": {},
   "outputs": [],
   "source": [
    "# We can change the defaults as follows. Since they are right-aligned, 2 right most fields will get these values ie origin_x\n",
    "# and origin_y\n",
    "Vector2D.__new__.__defaults__ = (0, 0)"
   ]
  },
  {
   "cell_type": "code",
   "execution_count": 35,
   "metadata": {},
   "outputs": [
    {
     "data": {
      "text/plain": [
       "('x1', 'y1', 'x2', 'y2', 'origin_x', 'origin_y')"
      ]
     },
     "execution_count": 35,
     "metadata": {},
     "output_type": "execute_result"
    }
   ],
   "source": [
    "Vector2D._fields"
   ]
  },
  {
   "cell_type": "code",
   "execution_count": 36,
   "metadata": {},
   "outputs": [],
   "source": [
    "# Now we can define without supplying origin values\n",
    "v3 = Vector2D(3,3,6,6)"
   ]
  },
  {
   "cell_type": "code",
   "execution_count": 37,
   "metadata": {},
   "outputs": [
    {
     "data": {
      "text/plain": [
       "Vector2D(x1=3, y1=3, x2=6, y2=6, origin_x=0, origin_y=0)"
      ]
     },
     "execution_count": 37,
     "metadata": {},
     "output_type": "execute_result"
    }
   ],
   "source": [
    "v3"
   ]
  },
  {
   "cell_type": "code",
   "execution_count": 38,
   "metadata": {},
   "outputs": [],
   "source": [
    "# Let us say we can x2 and y2 to be fixed at (3,3), we can do that as follows\n",
    "Vector2D.__new__.__defaults__ = (3, 3, 0, 0)"
   ]
  },
  {
   "cell_type": "code",
   "execution_count": 39,
   "metadata": {},
   "outputs": [
    {
     "data": {
      "text/plain": [
       "Vector2D(x1=10, y1=10, x2=3, y2=3, origin_x=0, origin_y=0)"
      ]
     },
     "execution_count": 39,
     "metadata": {},
     "output_type": "execute_result"
    }
   ],
   "source": [
    "# Now we just need to supply x2 & y2\n",
    "v4 = Vector2D(10, 10)\n",
    "v4"
   ]
  },
  {
   "cell_type": "markdown",
   "metadata": {},
   "source": [
    "***How to use namedtuples in a function to generate random instances***"
   ]
  },
  {
   "cell_type": "code",
   "execution_count": 40,
   "metadata": {},
   "outputs": [],
   "source": [
    "color = namedtuple('color', 'red green blue alpha')"
   ]
  },
  {
   "cell_type": "code",
   "execution_count": 44,
   "metadata": {},
   "outputs": [],
   "source": [
    "from random import randint, random\n",
    "\n",
    "def random_color():\n",
    "    red   = randint(0, 255)\n",
    "    blue  = randint(0, 255)\n",
    "    green = randint(0, 255)\n",
    "    alpha = randint(0, 255)    \n",
    "    return color(red, blue, green, alpha)"
   ]
  },
  {
   "cell_type": "code",
   "execution_count": 45,
   "metadata": {},
   "outputs": [],
   "source": [
    "color1 = random_color()"
   ]
  },
  {
   "cell_type": "code",
   "execution_count": 46,
   "metadata": {},
   "outputs": [
    {
     "data": {
      "text/plain": [
       "color(red=177, green=36, blue=56, alpha=184)"
      ]
     },
     "execution_count": 46,
     "metadata": {},
     "output_type": "execute_result"
    }
   ],
   "source": [
    "color1"
   ]
  },
  {
   "cell_type": "code",
   "execution_count": 47,
   "metadata": {},
   "outputs": [
    {
     "data": {
      "text/plain": [
       "36"
      ]
     },
     "execution_count": 47,
     "metadata": {},
     "output_type": "execute_result"
    }
   ],
   "source": [
    "color1.green"
   ]
  },
  {
   "cell_type": "markdown",
   "metadata": {},
   "source": [
    "***How to use dictionary to create namedtuple***"
   ]
  },
  {
   "cell_type": "code",
   "execution_count": 49,
   "metadata": {},
   "outputs": [
    {
     "data": {
      "text/plain": [
       "{'name': 'Anil Bhatt', 'dob': 'Dec 1983', 'country': 'India'}"
      ]
     },
     "execution_count": 49,
     "metadata": {},
     "output_type": "execute_result"
    }
   ],
   "source": [
    "# Let us define a dictionary first\n",
    "data_dict = dict(name='Anil Bhatt', dob='Dec 1983', country='India')\n",
    "data_dict"
   ]
  },
  {
   "cell_type": "code",
   "execution_count": 53,
   "metadata": {},
   "outputs": [
    {
     "data": {
      "text/plain": [
       "('name', 'dob', 'country')"
      ]
     },
     "execution_count": 53,
     "metadata": {},
     "output_type": "execute_result"
    }
   ],
   "source": [
    "#Now let us define a namedtuple using keys from data_dict\n",
    "name_data = namedtuple('name_data', data_dict.keys())\n",
    "name_data._fields"
   ]
  },
  {
   "cell_type": "code",
   "execution_count": 55,
   "metadata": {},
   "outputs": [
    {
     "data": {
      "text/plain": [
       "name_data(name='Anil Bhatt', dob='Dec 1983', country='India')"
      ]
     },
     "execution_count": 55,
     "metadata": {},
     "output_type": "execute_result"
    }
   ],
   "source": [
    "#Now let us create an instance of name_data using data_dict\n",
    "name_anil = name_data(**data_dict)\n",
    "name_anil"
   ]
  },
  {
   "cell_type": "markdown",
   "metadata": {},
   "source": [
    "***How to check if an item is iterable or not***"
   ]
  },
  {
   "cell_type": "code",
   "execution_count": 58,
   "metadata": {},
   "outputs": [],
   "source": [
    "from collections.abc import Iterable"
   ]
  },
  {
   "cell_type": "code",
   "execution_count": 62,
   "metadata": {},
   "outputs": [
    {
     "data": {
      "text/plain": [
       "dict_values"
      ]
     },
     "execution_count": 62,
     "metadata": {},
     "output_type": "execute_result"
    }
   ],
   "source": [
    "type(data_dict.values()) # We can't always figure out by type"
   ]
  },
  {
   "cell_type": "code",
   "execution_count": 63,
   "metadata": {},
   "outputs": [
    {
     "data": {
      "text/plain": [
       "True"
      ]
     },
     "execution_count": 63,
     "metadata": {},
     "output_type": "execute_result"
    }
   ],
   "source": [
    "isinstance(data_dict.values(), Iterable)"
   ]
  },
  {
   "cell_type": "code",
   "execution_count": 64,
   "metadata": {},
   "outputs": [
    {
     "data": {
      "text/plain": [
       "int"
      ]
     },
     "execution_count": 64,
     "metadata": {},
     "output_type": "execute_result"
    }
   ],
   "source": [
    "a = 7\n",
    "type(a)"
   ]
  },
  {
   "cell_type": "code",
   "execution_count": 65,
   "metadata": {},
   "outputs": [
    {
     "data": {
      "text/plain": [
       "False"
      ]
     },
     "execution_count": 65,
     "metadata": {},
     "output_type": "execute_result"
    }
   ],
   "source": [
    "isinstance(a, Iterable)"
   ]
  },
  {
   "cell_type": "markdown",
   "metadata": {},
   "source": [
    "***How to refer dynamically to fields in namedtuple like 'd2.key_name' using getattr eg: getattr(name_anil, key_dob)***"
   ]
  },
  {
   "cell_type": "code",
   "execution_count": 67,
   "metadata": {},
   "outputs": [
    {
     "data": {
      "text/plain": [
       "name_data(name='Anil Bhatt', dob='Dec 1983', country='India')"
      ]
     },
     "execution_count": 67,
     "metadata": {},
     "output_type": "execute_result"
    }
   ],
   "source": [
    "name_anil"
   ]
  },
  {
   "cell_type": "code",
   "execution_count": 68,
   "metadata": {},
   "outputs": [],
   "source": [
    "key_dob = 'dob'"
   ]
  },
  {
   "cell_type": "code",
   "execution_count": 69,
   "metadata": {},
   "outputs": [
    {
     "data": {
      "text/plain": [
       "'Dec 1983'"
      ]
     },
     "execution_count": 69,
     "metadata": {},
     "output_type": "execute_result"
    }
   ],
   "source": [
    "#We can access 'dob' as follows\n",
    "name_anil.dob"
   ]
  },
  {
   "cell_type": "code",
   "execution_count": 71,
   "metadata": {},
   "outputs": [
    {
     "ename": "AttributeError",
     "evalue": "'name_data' object has no attribute 'key_dob'",
     "output_type": "error",
     "traceback": [
      "\u001b[1;31m---------------------------------------------------------------------------\u001b[0m",
      "\u001b[1;31mAttributeError\u001b[0m                            Traceback (most recent call last)",
      "\u001b[1;32m<ipython-input-71-2640ef2d9715>\u001b[0m in \u001b[0;36m<module>\u001b[1;34m\u001b[0m\n\u001b[0;32m      1\u001b[0m \u001b[1;31m#But we cant as below\u001b[0m\u001b[1;33m\u001b[0m\u001b[1;33m\u001b[0m\u001b[1;33m\u001b[0m\u001b[0m\n\u001b[1;32m----> 2\u001b[1;33m \u001b[0mname_anil\u001b[0m\u001b[1;33m.\u001b[0m\u001b[0mkey_dob\u001b[0m\u001b[1;33m\u001b[0m\u001b[1;33m\u001b[0m\u001b[0m\n\u001b[0m",
      "\u001b[1;31mAttributeError\u001b[0m: 'name_data' object has no attribute 'key_dob'"
     ]
    }
   ],
   "source": [
    "#But we cant as below\n",
    "name_anil.key_dob"
   ]
  },
  {
   "cell_type": "code",
   "execution_count": 73,
   "metadata": {},
   "outputs": [
    {
     "data": {
      "text/plain": [
       "'Dec 1983'"
      ]
     },
     "execution_count": 73,
     "metadata": {},
     "output_type": "execute_result"
    }
   ],
   "source": [
    "#We can access it using getattr\n",
    "getattr(name_anil, key_dob)"
   ]
  },
  {
   "cell_type": "markdown",
   "metadata": {},
   "source": [
    "## Faker - To generate fake data (useful for testing)"
   ]
  },
  {
   "cell_type": "code",
   "execution_count": 75,
   "metadata": {},
   "outputs": [
    {
     "name": "stdout",
     "output_type": "stream",
     "text": [
      "Collecting faker\n",
      "  Downloading https://files.pythonhosted.org/packages/1c/b1/afbf97c6a208eb5c6e5b78e5233a01bf285288614c524059ffb3cf089760/Faker-8.8.2-py3-none-any.whl (1.2MB)\n",
      "Requirement already satisfied: python-dateutil>=2.4 in c:\\users\\annbhatt\\appdata\\local\\continuum\\anaconda3\\lib\\site-packages (from faker) (2.8.0)\n",
      "Collecting text-unidecode==1.3\n",
      "  Downloading https://files.pythonhosted.org/packages/a6/a5/c0b6468d3824fe3fde30dbb5e1f687b291608f9473681bbf7dabbf5a87d7/text_unidecode-1.3-py2.py3-none-any.whl (78kB)\n",
      "Requirement already satisfied: six>=1.5 in c:\\users\\annbhatt\\appdata\\local\\continuum\\anaconda3\\lib\\site-packages (from python-dateutil>=2.4->faker) (1.12.0)\n",
      "Installing collected packages: text-unidecode, faker\n",
      "Successfully installed faker-8.8.2 text-unidecode-1.3\n",
      "Note: you may need to restart the kernel to use updated packages.\n"
     ]
    },
    {
     "name": "stderr",
     "output_type": "stream",
     "text": [
      "WARNING: You are using pip version 19.3.1; however, version 21.1.3 is available.\n",
      "You should consider upgrading via the 'python -m pip install --upgrade pip' command.\n"
     ]
    }
   ],
   "source": [
    "pip install faker"
   ]
  },
  {
   "cell_type": "code",
   "execution_count": 77,
   "metadata": {},
   "outputs": [],
   "source": [
    "import faker"
   ]
  },
  {
   "cell_type": "code",
   "execution_count": 79,
   "metadata": {},
   "outputs": [],
   "source": [
    "from faker import Faker"
   ]
  },
  {
   "cell_type": "code",
   "execution_count": 80,
   "metadata": {},
   "outputs": [],
   "source": [
    "fake = Faker()"
   ]
  },
  {
   "cell_type": "code",
   "execution_count": 81,
   "metadata": {},
   "outputs": [
    {
     "data": {
      "text/plain": [
       "{'job': 'Media buyer',\n",
       " 'company': 'Pierce-Brock',\n",
       " 'ssn': '359-87-8610',\n",
       " 'residence': '5748 Welch Junctions Apt. 740\\nEast Sandrafort, IN 81982',\n",
       " 'current_location': (Decimal('-83.3739805'), Decimal('-158.552968')),\n",
       " 'blood_group': 'O-',\n",
       " 'website': ['http://schultz.org/'],\n",
       " 'username': 'moralesangela',\n",
       " 'name': 'Edward Thompson',\n",
       " 'sex': 'M',\n",
       " 'address': '57168 Roberts Bridge\\nSouth Rhondabury, IL 65179',\n",
       " 'mail': 'michellegomez@yahoo.com',\n",
       " 'birthdate': datetime.date(1966, 4, 11)}"
      ]
     },
     "execution_count": 81,
     "metadata": {},
     "output_type": "execute_result"
    }
   ],
   "source": [
    "fake.profile()"
   ]
  },
  {
   "cell_type": "code",
   "execution_count": 82,
   "metadata": {},
   "outputs": [
    {
     "data": {
      "text/plain": [
       "{'job': 'Geologist, engineering',\n",
       " 'company': 'Walker LLC',\n",
       " 'ssn': '656-86-9146',\n",
       " 'residence': '75027 Tiffany Fords\\nNorth Saraland, CT 68369',\n",
       " 'current_location': (Decimal('34.543174'), Decimal('125.020878')),\n",
       " 'blood_group': 'A-',\n",
       " 'website': ['http://kim.biz/', 'https://www.rodriguez.org/'],\n",
       " 'username': 'juliasmith',\n",
       " 'name': 'Dylan Park',\n",
       " 'sex': 'M',\n",
       " 'address': '22464 David Burg\\nEast Dawnhaven, AZ 15571',\n",
       " 'mail': 'lburgess@hotmail.com',\n",
       " 'birthdate': datetime.date(2006, 3, 1)}"
      ]
     },
     "execution_count": 82,
     "metadata": {},
     "output_type": "execute_result"
    }
   ],
   "source": [
    "fake.profile()"
   ]
  },
  {
   "cell_type": "code",
   "execution_count": 83,
   "metadata": {},
   "outputs": [
    {
     "data": {
      "text/plain": [
       "'70894'"
      ]
     },
     "execution_count": 83,
     "metadata": {},
     "output_type": "execute_result"
    }
   ],
   "source": [
    "fake.building_number()"
   ]
  },
  {
   "cell_type": "code",
   "execution_count": 84,
   "metadata": {},
   "outputs": [
    {
     "data": {
      "text/plain": [
       "'claudia09@hotmail.com'"
      ]
     },
     "execution_count": 84,
     "metadata": {},
     "output_type": "execute_result"
    }
   ],
   "source": [
    "fake.email()"
   ]
  },
  {
   "cell_type": "markdown",
   "metadata": {},
   "source": [
    "### How to Use namedtuple to create another namedtuple"
   ]
  },
  {
   "cell_type": "code",
   "execution_count": 6,
   "metadata": {},
   "outputs": [],
   "source": []
  },
  {
   "cell_type": "code",
   "execution_count": 4,
   "metadata": {},
   "outputs": [
    {
     "data": {
      "text/plain": [
       "uefa_club(info=<class '__main__.club'>)"
      ]
     },
     "execution_count": 4,
     "metadata": {},
     "output_type": "execute_result"
    }
   ],
   "source": [
    "cl_club"
   ]
  },
  {
   "cell_type": "code",
   "execution_count": 5,
   "metadata": {},
   "outputs": [],
   "source": [
    "club_lst = [('Arsenal','UK'), ('Man-U','UK'),('Man-C','UK'),('LiverPool','UK'),\n",
    "            ('Barca','Spain'),('Real-Madrid','Spain'),('Bayern','Germany'),('Borussia','Germany')]\n",
    "\n",
    "# Adding participating clubs(named tuple instances created out of 'club') to champions-league club(instance of uefa club) to create a collection of named tuples\n",
    "for club_name, country in club_lst:\n",
    "    participating_club  = club(club_name, country)\n",
    "    cl_club  += uefa_club(participating_club)"
   ]
  },
  {
   "cell_type": "markdown",
   "metadata": {},
   "source": [
    "***Approach 1 : Let us create a namedtuple & try to concatenate it in a normal tuple (it wont work)***"
   ]
  },
  {
   "cell_type": "code",
   "execution_count": 36,
   "metadata": {},
   "outputs": [],
   "source": [
    "club      = namedtuple('club', 'Name, Country')  # This will have various clubs from different countries\n",
    "cl_club = ()     # An empty tuple to store namedtuples created from club"
   ]
  },
  {
   "cell_type": "code",
   "execution_count": 37,
   "metadata": {},
   "outputs": [],
   "source": [
    "club_lst = [('Arsenal','UK'), ('Man-U','UK'),('Man-C','UK'),('LiverPool','UK'),\n",
    "            ('Barca','Spain'),('Real-Madrid','Spain'),('Bayern','Germany'),('Borussia','Germany')]\n",
    "\n",
    "# Adding participating clubs(named tuple instances created out of 'club') to cl_club which is a () \n",
    "for club_name, country in club_lst:\n",
    "    participating_club  = club(club_name, country)\n",
    "    cl_club  += participating_club"
   ]
  },
  {
   "cell_type": "code",
   "execution_count": 38,
   "metadata": {},
   "outputs": [
    {
     "data": {
      "text/plain": [
       "('Arsenal',\n",
       " 'UK',\n",
       " 'Man-U',\n",
       " 'UK',\n",
       " 'Man-C',\n",
       " 'UK',\n",
       " 'LiverPool',\n",
       " 'UK',\n",
       " 'Barca',\n",
       " 'Spain',\n",
       " 'Real-Madrid',\n",
       " 'Spain',\n",
       " 'Bayern',\n",
       " 'Germany',\n",
       " 'Borussia',\n",
       " 'Germany')"
      ]
     },
     "execution_count": 38,
     "metadata": {},
     "output_type": "execute_result"
    }
   ],
   "source": [
    "cl_club         # Namedtuple is getting broken down into individual elements"
   ]
  },
  {
   "cell_type": "code",
   "execution_count": 39,
   "metadata": {},
   "outputs": [
    {
     "data": {
      "text/plain": [
       "16"
      ]
     },
     "execution_count": 39,
     "metadata": {},
     "output_type": "execute_result"
    }
   ],
   "source": [
    "len(cl_club)"
   ]
  },
  {
   "cell_type": "markdown",
   "metadata": {},
   "source": [
    "***Approach 2 : Instead of storing in tuple, can we try list (it wont work)***"
   ]
  },
  {
   "cell_type": "code",
   "execution_count": 40,
   "metadata": {},
   "outputs": [],
   "source": [
    "club      = namedtuple('club', 'Name, Country')  # This will have various clubs from different countries\n",
    "cl_club = []     # An empty list to store namedtuples created from club"
   ]
  },
  {
   "cell_type": "code",
   "execution_count": 41,
   "metadata": {},
   "outputs": [],
   "source": [
    "club_lst = [('Arsenal','UK'), ('Man-U','UK'),('Man-C','UK'),('LiverPool','UK'),\n",
    "            ('Barca','Spain'),('Real-Madrid','Spain'),('Bayern','Germany'),('Borussia','Germany')]\n",
    "\n",
    "# Adding participating clubs(named tuple instances created out of 'club') to cl_club which is a []\n",
    "for club_name, country in club_lst:\n",
    "    participating_club  = club(club_name, country)\n",
    "    cl_club  += participating_club"
   ]
  },
  {
   "cell_type": "code",
   "execution_count": 42,
   "metadata": {},
   "outputs": [
    {
     "data": {
      "text/plain": [
       "['Arsenal',\n",
       " 'UK',\n",
       " 'Man-U',\n",
       " 'UK',\n",
       " 'Man-C',\n",
       " 'UK',\n",
       " 'LiverPool',\n",
       " 'UK',\n",
       " 'Barca',\n",
       " 'Spain',\n",
       " 'Real-Madrid',\n",
       " 'Spain',\n",
       " 'Bayern',\n",
       " 'Germany',\n",
       " 'Borussia',\n",
       " 'Germany']"
      ]
     },
     "execution_count": 42,
     "metadata": {},
     "output_type": "execute_result"
    }
   ],
   "source": [
    "cl_club  "
   ]
  },
  {
   "cell_type": "markdown",
   "metadata": {},
   "source": [
    "### Approach 3 : Use named tuple to store named tuple\n",
    "***Question : Why do need named tuple to store these country list ? Wont a simple tuple do.***\n",
    "\n",
    "***Answer : In this case, it is only 2 fields - Name & Country. But if no: of fields increase, we will need better ways to handle & refer data. Named tuples offers us the power of classes as well as tuples. So we need to harness that.***"
   ]
  },
  {
   "cell_type": "code",
   "execution_count": 46,
   "metadata": {},
   "outputs": [],
   "source": [
    "club      = namedtuple('club', 'Name, Country')  \n",
    "# This will have various clubs from different countries\n",
    "\n",
    "uefa_club = namedtuple('uefa_club', 'info')      \n",
    "# Creating another namedtuple. This will be used to save the namedtuples created out of 'club'  \n",
    "\n",
    "cl_club   = uefa_club(club)    \n",
    "# cl_club is an instance of 'uefa club' created from club. We will add clubs created out of 'club' into this"
   ]
  },
  {
   "cell_type": "code",
   "execution_count": 47,
   "metadata": {},
   "outputs": [
    {
     "data": {
      "text/plain": [
       "uefa_club(info=<class '__main__.club'>)"
      ]
     },
     "execution_count": 47,
     "metadata": {},
     "output_type": "execute_result"
    }
   ],
   "source": [
    "cl_club"
   ]
  },
  {
   "cell_type": "code",
   "execution_count": 44,
   "metadata": {},
   "outputs": [],
   "source": [
    "club_lst = [('Arsenal','UK'), ('Man-U','UK'),('Man-C','UK'),('LiverPool','UK'),\n",
    "            ('Barca','Spain'),('Real-Madrid','Spain'),('Bayern','Germany'),('Borussia','Germany')]\n",
    "\n",
    "# Adding participating clubs(named tuple instances created out of 'club') to cl_club(instance of uefa club) to create a collection of named tuples\n",
    "for club_name, country in club_lst:\n",
    "    participating_club  = club(club_name, country)\n",
    "    cl_club  += uefa_club(participating_club)"
   ]
  },
  {
   "cell_type": "code",
   "execution_count": 45,
   "metadata": {},
   "outputs": [
    {
     "data": {
      "text/plain": [
       "(__main__.club,\n",
       " club(Name='Arsenal', Country='UK'),\n",
       " club(Name='Man-U', Country='UK'),\n",
       " club(Name='Man-C', Country='UK'),\n",
       " club(Name='LiverPool', Country='UK'),\n",
       " club(Name='Barca', Country='Spain'),\n",
       " club(Name='Real-Madrid', Country='Spain'),\n",
       " club(Name='Bayern', Country='Germany'),\n",
       " club(Name='Borussia', Country='Germany'))"
      ]
     },
     "execution_count": 45,
     "metadata": {},
     "output_type": "execute_result"
    }
   ],
   "source": [
    "cl_club"
   ]
  },
  {
   "cell_type": "code",
   "execution_count": null,
   "metadata": {},
   "outputs": [],
   "source": [
    "def "
   ]
  }
 ],
 "metadata": {
  "kernelspec": {
   "display_name": "Python 3",
   "language": "python",
   "name": "python3"
  },
  "language_info": {
   "codemirror_mode": {
    "name": "ipython",
    "version": 3
   },
   "file_extension": ".py",
   "mimetype": "text/x-python",
   "name": "python",
   "nbconvert_exporter": "python",
   "pygments_lexer": "ipython3",
   "version": "3.8.3"
  }
 },
 "nbformat": 4,
 "nbformat_minor": 4
}
