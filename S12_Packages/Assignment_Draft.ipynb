{
 "cells": [
  {
   "cell_type": "code",
   "execution_count": 2,
   "metadata": {},
   "outputs": [],
   "source": [
    "import math"
   ]
  },
  {
   "cell_type": "code",
   "execution_count": 45,
   "metadata": {},
   "outputs": [
    {
     "data": {
      "text/plain": [
       "-0.4480736161291701"
      ]
     },
     "execution_count": 45,
     "metadata": {},
     "output_type": "execute_result"
    }
   ],
   "source": [
    "math.cos(90)"
   ]
  },
  {
   "cell_type": "code",
   "execution_count": 3,
   "metadata": {},
   "outputs": [
    {
     "data": {
      "text/plain": [
       "1.6197751905438615"
      ]
     },
     "execution_count": 3,
     "metadata": {},
     "output_type": "execute_result"
    }
   ],
   "source": [
    "math.tan(45)"
   ]
  },
  {
   "cell_type": "code",
   "execution_count": 9,
   "metadata": {},
   "outputs": [
    {
     "data": {
      "text/plain": [
       "16331239353195370"
      ]
     },
     "execution_count": 9,
     "metadata": {},
     "output_type": "execute_result"
    }
   ],
   "source": [
    "round(math.tan(math.pi/2))"
   ]
  },
  {
   "cell_type": "code",
   "execution_count": 6,
   "metadata": {},
   "outputs": [
    {
     "data": {
      "text/plain": [
       "3.141592653589793"
      ]
     },
     "execution_count": 6,
     "metadata": {},
     "output_type": "execute_result"
    }
   ],
   "source": [
    "math.pi"
   ]
  },
  {
   "cell_type": "code",
   "execution_count": 7,
   "metadata": {},
   "outputs": [],
   "source": [
    "def f_string_print(fn:'Function')->'Function':\n",
    "    \"\"\"\n",
    "    This is a closure to print the result of the function which is \n",
    "    passed as an argument .\n",
    "    \"\"\"\n",
    "    def inner(*args,**kwargs):\n",
    "        output = fn(*args,**kwargs)\n",
    "        print(f'Function: {fn.__name__}, Arguments:{args} and Output:{output}')\n",
    "        return output\n",
    "    return inner"
   ]
  },
  {
   "cell_type": "code",
   "execution_count": 8,
   "metadata": {},
   "outputs": [],
   "source": [
    "@f_string_print\n",
    "def sin(value):    \n",
    "    \n",
    "    if isinstance(value, int) or isinstance(value, float): \n",
    "        pass\n",
    "    else:\n",
    "        return f'Incorrect value format given - {type(value)}. Give input as integer or float'\n",
    "    \n",
    "    value_rad = value/180 * math.pi\n",
    "    result = math.sin(value_rad)\n",
    "        \n",
    "    return round(result, 4)"
   ]
  },
  {
   "cell_type": "code",
   "execution_count": 9,
   "metadata": {},
   "outputs": [
    {
     "name": "stdout",
     "output_type": "stream",
     "text": [
      "Function: sin, Arguments:(45,) and Output:0.7071\n"
     ]
    },
    {
     "data": {
      "text/plain": [
       "0.7071"
      ]
     },
     "execution_count": 9,
     "metadata": {},
     "output_type": "execute_result"
    }
   ],
   "source": [
    "sin(45)"
   ]
  },
  {
   "cell_type": "code",
   "execution_count": 10,
   "metadata": {},
   "outputs": [],
   "source": [
    "@f_string_print\n",
    "def cos(value):    \n",
    "    \n",
    "    if isinstance(value, int) or isinstance(value, float): \n",
    "        pass\n",
    "    else:\n",
    "        return f'Incorrect value format given - {type(value)}. Give input as integer or float'\n",
    "    \n",
    "    value_rad = value/180 * math.pi\n",
    "    result = math.cos(value_rad)\n",
    "        \n",
    "    return round(result, 4)"
   ]
  },
  {
   "cell_type": "code",
   "execution_count": 12,
   "metadata": {},
   "outputs": [
    {
     "name": "stdout",
     "output_type": "stream",
     "text": [
      "Function: cos, Arguments:(90,) and Output:0.0\n"
     ]
    },
    {
     "data": {
      "text/plain": [
       "0.0"
      ]
     },
     "execution_count": 12,
     "metadata": {},
     "output_type": "execute_result"
    }
   ],
   "source": [
    "cos(90)"
   ]
  },
  {
   "cell_type": "code",
   "execution_count": 13,
   "metadata": {},
   "outputs": [],
   "source": [
    "@f_string_print\n",
    "def tan(value):    \n",
    "    \n",
    "    if isinstance(value, int) or isinstance(value, float): \n",
    "        pass\n",
    "    else:\n",
    "        return f'Incorrect value format given - {type(value)}. Give input as integer or float'\n",
    "    \n",
    "    value_rad = value/180 * math.pi\n",
    "    result = math.tan(value_rad)\n",
    "        \n",
    "    return round(result, 4)"
   ]
  },
  {
   "cell_type": "code",
   "execution_count": 14,
   "metadata": {},
   "outputs": [
    {
     "name": "stdout",
     "output_type": "stream",
     "text": [
      "Function: tan, Arguments:(90,) and Output:1.633123935319537e+16\n"
     ]
    },
    {
     "data": {
      "text/plain": [
       "1.633123935319537e+16"
      ]
     },
     "execution_count": 14,
     "metadata": {},
     "output_type": "execute_result"
    }
   ],
   "source": [
    "tan(90)"
   ]
  },
  {
   "cell_type": "code",
   "execution_count": 15,
   "metadata": {},
   "outputs": [],
   "source": [
    "@f_string_print\n",
    "def tanh(value):    \n",
    "    \n",
    "    if isinstance(value, int) or isinstance(value, float): \n",
    "        pass\n",
    "    else:\n",
    "        return f'Incorrect value format given - {type(value)}. Give input as integer or float'\n",
    "    \n",
    "    value_rad = value/180 * math.pi\n",
    "    result = math.tanh(value_rad)\n",
    "        \n",
    "    return round(result, 4)"
   ]
  },
  {
   "cell_type": "code",
   "execution_count": 44,
   "metadata": {},
   "outputs": [
    {
     "name": "stdout",
     "output_type": "stream",
     "text": [
      "Function: tanh, Arguments:('45',) and Output:Incorrect value format given - <class 'str'>. Give input as integer or float\n"
     ]
    }
   ],
   "source": [
    "output = tanh('45')"
   ]
  },
  {
   "cell_type": "code",
   "execution_count": 17,
   "metadata": {},
   "outputs": [],
   "source": [
    "@f_string_print\n",
    "def softmax(*args):\n",
    "    \n",
    "    exp_sum = 0\n",
    "    softmax_list = []\n",
    "    \n",
    "    for logits in args:\n",
    "        if isinstance(logits, int) or isinstance(logits, float):\n",
    "            pass\n",
    "        else: \n",
    "            return f'Incorrect value format given - {type(logits)} for \"{logits}\". Give input as integer or float'\n",
    "        \n",
    "        exp_sum += math.exp(logits)\n",
    "        \n",
    "    for logits in args:\n",
    "        \n",
    "        softmax_value = round((math.exp(logits)/exp_sum), 2)\n",
    "        softmax_list.append(softmax_value)\n",
    "        \n",
    "    return softmax_list"
   ]
  },
  {
   "cell_type": "code",
   "execution_count": 48,
   "metadata": {},
   "outputs": [
    {
     "name": "stdout",
     "output_type": "stream",
     "text": [
      "Function: softmax, Arguments:(4, 4, 'anil', 1) and Output:Incorrect value format given - <class 'str'> for \"anil\". Give input as integer or float\n"
     ]
    },
    {
     "data": {
      "text/plain": [
       "'Incorrect value format given - <class \\'str\\'> for \"anil\". Give input as integer or float'"
      ]
     },
     "execution_count": 48,
     "metadata": {},
     "output_type": "execute_result"
    }
   ],
   "source": [
    "softmax(4, 4, 'anil',1)"
   ]
  },
  {
   "cell_type": "code",
   "execution_count": 19,
   "metadata": {},
   "outputs": [],
   "source": [
    "@f_string_print\n",
    "def relu(value):\n",
    "    \n",
    "    if isinstance(value, int) or isinstance(value, float): \n",
    "        pass\n",
    "    else:\n",
    "        return f'Incorrect value format given - {type(value)}. Give input as integer or float'\n",
    "    \n",
    "    if value <= 0:\n",
    "        relu_result = 0\n",
    "    else:\n",
    "        relu_result = value\n",
    "        \n",
    "    return relu_result    "
   ]
  },
  {
   "cell_type": "code",
   "execution_count": 20,
   "metadata": {},
   "outputs": [
    {
     "name": "stdout",
     "output_type": "stream",
     "text": [
      "Function: relu, Arguments:(2.4,) and Output:2.4\n"
     ]
    },
    {
     "data": {
      "text/plain": [
       "2.4"
      ]
     },
     "execution_count": 20,
     "metadata": {},
     "output_type": "execute_result"
    }
   ],
   "source": [
    "relu(2.4)"
   ]
  },
  {
   "cell_type": "code",
   "execution_count": 22,
   "metadata": {},
   "outputs": [],
   "source": [
    "@f_string_print\n",
    "def log(value):\n",
    "    \n",
    "    if isinstance(value, int) or isinstance(value, float): \n",
    "        pass\n",
    "    else:\n",
    "        return f'Incorrect value format given - {type(value)}. Give input as +ve integer or +ve float'\n",
    "    \n",
    "    if value > 0:\n",
    "        result = math.log(value)\n",
    "        return value\n",
    "    else:\n",
    "        return f'log can be calculated only for +ve values. Non-postive value {value} given as input'"
   ]
  },
  {
   "cell_type": "code",
   "execution_count": 24,
   "metadata": {},
   "outputs": [
    {
     "name": "stdout",
     "output_type": "stream",
     "text": [
      "Function: log, Arguments:(2.3,) and Output:2.3\n"
     ]
    },
    {
     "data": {
      "text/plain": [
       "2.3"
      ]
     },
     "execution_count": 24,
     "metadata": {},
     "output_type": "execute_result"
    }
   ],
   "source": [
    "log(2.3)"
   ]
  },
  {
   "cell_type": "code",
   "execution_count": 25,
   "metadata": {},
   "outputs": [],
   "source": [
    "@f_string_print\n",
    "def e(value):\n",
    "    \n",
    "    if isinstance(value, int) or isinstance(value, float): \n",
    "        pass\n",
    "    else:\n",
    "        return f'Incorrect value format given - {type(value)}. Give input as +ve integer or +ve float'\n",
    "    \n",
    "    result = math.exp(value)\n",
    "    return round(result,4)    "
   ]
  },
  {
   "cell_type": "code",
   "execution_count": 26,
   "metadata": {},
   "outputs": [
    {
     "name": "stdout",
     "output_type": "stream",
     "text": [
      "Function: e, Arguments:(10,) and Output:22026.4658\n"
     ]
    },
    {
     "data": {
      "text/plain": [
       "22026.4658"
      ]
     },
     "execution_count": 26,
     "metadata": {},
     "output_type": "execute_result"
    }
   ],
   "source": [
    "e(10)"
   ]
  },
  {
   "cell_type": "code",
   "execution_count": 27,
   "metadata": {},
   "outputs": [],
   "source": [
    "@f_string_print\n",
    "def sin_der(value):\n",
    "\n",
    "    if isinstance(value, int) or isinstance(value, float): \n",
    "        pass\n",
    "    else:\n",
    "        return f'Incorrect value format given - {type(value)}. Give input as integer or float'\n",
    "    \n",
    "    value_rad = value/180 * math.pi\n",
    "    result = math.cos(value_rad)\n",
    "        \n",
    "    return round(result, 4)"
   ]
  },
  {
   "cell_type": "code",
   "execution_count": 28,
   "metadata": {},
   "outputs": [
    {
     "name": "stdout",
     "output_type": "stream",
     "text": [
      "Function: sin_der, Arguments:(60,) and Output:0.5\n"
     ]
    },
    {
     "data": {
      "text/plain": [
       "0.5"
      ]
     },
     "execution_count": 28,
     "metadata": {},
     "output_type": "execute_result"
    }
   ],
   "source": [
    "sin_der(60)"
   ]
  },
  {
   "cell_type": "code",
   "execution_count": 29,
   "metadata": {},
   "outputs": [],
   "source": [
    "@f_string_print\n",
    "def cos_der(value):\n",
    "\n",
    "    if isinstance(value, int) or isinstance(value, float): \n",
    "        pass\n",
    "    else:\n",
    "        return f'Incorrect value format given - {type(value)}. Give input as integer or float'\n",
    "    \n",
    "    value_rad = value/180 * math.pi\n",
    "    result = -math.sin(value_rad)\n",
    "        \n",
    "    return round(result, 4)"
   ]
  },
  {
   "cell_type": "code",
   "execution_count": 30,
   "metadata": {},
   "outputs": [
    {
     "name": "stdout",
     "output_type": "stream",
     "text": [
      "Function: cos_der, Arguments:(60,) and Output:-0.866\n"
     ]
    },
    {
     "data": {
      "text/plain": [
       "-0.866"
      ]
     },
     "execution_count": 30,
     "metadata": {},
     "output_type": "execute_result"
    }
   ],
   "source": [
    "cos_der(60)"
   ]
  },
  {
   "cell_type": "code",
   "execution_count": 31,
   "metadata": {},
   "outputs": [],
   "source": [
    "@f_string_print\n",
    "def tan_der(value):\n",
    "\n",
    "    if isinstance(value, int) or isinstance(value, float): \n",
    "        pass\n",
    "    else:\n",
    "        return f'Incorrect value format given - {type(value)}. Give input as integer or float'\n",
    "    \n",
    "    value_rad = value/180 * math.pi\n",
    "    result = 1/math.cos(value_rad) ** 2\n",
    "        \n",
    "    return round(result, 4)"
   ]
  },
  {
   "cell_type": "code",
   "execution_count": 32,
   "metadata": {},
   "outputs": [
    {
     "name": "stdout",
     "output_type": "stream",
     "text": [
      "Function: tan_der, Arguments:(45,) and Output:2.0\n"
     ]
    },
    {
     "data": {
      "text/plain": [
       "2.0"
      ]
     },
     "execution_count": 32,
     "metadata": {},
     "output_type": "execute_result"
    }
   ],
   "source": [
    "tan_der(45)"
   ]
  },
  {
   "cell_type": "code",
   "execution_count": 33,
   "metadata": {},
   "outputs": [],
   "source": [
    "@f_string_print\n",
    "def tanh_der(value):\n",
    "\n",
    "    if isinstance(value, int) or isinstance(value, float): \n",
    "        pass\n",
    "    else:\n",
    "        return f'Incorrect value format given - {type(value)}. Give input as integer or float'\n",
    "    \n",
    "    value_rad = value/180 * math.pi\n",
    "    result = 1 - math.tanh(value_rad) ** 2\n",
    "        \n",
    "    return round(result, 4)"
   ]
  },
  {
   "cell_type": "code",
   "execution_count": 34,
   "metadata": {},
   "outputs": [
    {
     "name": "stdout",
     "output_type": "stream",
     "text": [
      "Function: tanh_der, Arguments:(45,) and Output:0.5699\n"
     ]
    },
    {
     "data": {
      "text/plain": [
       "0.5699"
      ]
     },
     "execution_count": 34,
     "metadata": {},
     "output_type": "execute_result"
    }
   ],
   "source": [
    "tanh_der(45)"
   ]
  },
  {
   "cell_type": "markdown",
   "metadata": {},
   "source": [
    "### Original reference from killer-strike"
   ]
  },
  {
   "cell_type": "code",
   "execution_count": 170,
   "metadata": {},
   "outputs": [
    {
     "data": {
      "text/plain": [
       "[[0.24985251236238157, -0.23800303879798682, -0.011849473564394744],\n",
       " [-0.23800303879798682, 0.24985251236238157, -0.011849473564394744],\n",
       " [-0.011849473564394744, -0.011849473564394744, 0.023698947128789487]]"
      ]
     },
     "execution_count": 170,
     "metadata": {},
     "output_type": "execute_result"
    }
   ],
   "source": [
    "def softmax_d(*args)->list:\n",
    "    \"\"\"\n",
    "    This function takes in input in list and returns the\n",
    "    computed derivaive of softmax in the form of list.\n",
    "    \"\"\"\n",
    "    x = args\n",
    "    max_list = max(x)\n",
    "    total = [math.exp(i - max_list) for i in x]\n",
    "    softmax_out = [i/sum(total) for i in total]\n",
    "\n",
    "    result = []\n",
    "    for idx, _ in enumerate(x):\n",
    "        res_index = []\n",
    "        for sm_idx, softmax_val in enumerate(softmax_out):\n",
    "            if idx == sm_idx:\n",
    "                sm_diff = softmax_val * (1 - softmax_val)\n",
    "            else:\n",
    "                sm_diff = -1 * softmax_val * softmax_out[idx]\n",
    "            res_index.append(sm_diff)\n",
    "        result.append(res_index)\n",
    "\n",
    "    return result\n",
    "\n",
    "softmax_d(4, 4, 1)"
   ]
  },
  {
   "cell_type": "markdown",
   "metadata": {},
   "source": [
    "### Customized for mine"
   ]
  },
  {
   "cell_type": "code",
   "execution_count": 35,
   "metadata": {},
   "outputs": [],
   "source": [
    "@f_string_print\n",
    "def softmax_der(*args):\n",
    "    \n",
    "    exp_sum = 0\n",
    "    softmax_list = []\n",
    "    \n",
    "    for logits in args:\n",
    "        if isinstance(logits, int) or isinstance(logits, float):\n",
    "            pass\n",
    "        else: \n",
    "            return f'Incorrect value format given - {type(logits)} for \"{logits}\". Give input as integer or float'\n",
    "        \n",
    "        exp_sum += math.exp(logits)\n",
    "        \n",
    "    for logits in args:\n",
    "        \n",
    "        softmax_value = (math.exp(logits)/exp_sum)\n",
    "        softmax_list.append(softmax_value)\n",
    "        \n",
    "    softmax_all_deriv_list = []   \n",
    "   \n",
    "    for inp_idx, _ in enumerate(args):\n",
    "        \n",
    "        softmax_indiv_deriv_list = []\n",
    "        \n",
    "        for sm_idx, sm_value in enumerate(softmax_list):\n",
    "     \n",
    "            if sm_idx == inp_idx: # Partial derivative\n",
    "                sm_diff = sm_value * (1 - sm_value)\n",
    "            else:\n",
    "                sm_diff = -1 * sm_value * softmax_list[inp_idx]\n",
    "            \n",
    "            softmax_indiv_deriv_list.append(round(sm_diff,2))\n",
    "        \n",
    "        softmax_all_deriv_list.append(softmax_indiv_deriv_list)\n",
    "                \n",
    "    return softmax_all_deriv_list    "
   ]
  },
  {
   "cell_type": "code",
   "execution_count": 36,
   "metadata": {},
   "outputs": [
    {
     "name": "stdout",
     "output_type": "stream",
     "text": [
      "Function: softmax_der, Arguments:(4, 4, 1) and Output:[[0.25, -0.24, -0.01], [-0.24, 0.25, -0.01], [-0.01, -0.01, 0.02]]\n"
     ]
    },
    {
     "data": {
      "text/plain": [
       "[[0.25, -0.24, -0.01], [-0.24, 0.25, -0.01], [-0.01, -0.01, 0.02]]"
      ]
     },
     "execution_count": 36,
     "metadata": {},
     "output_type": "execute_result"
    }
   ],
   "source": [
    "softmax_der(4, 4, 1)"
   ]
  },
  {
   "cell_type": "code",
   "execution_count": 37,
   "metadata": {},
   "outputs": [],
   "source": [
    "@f_string_print\n",
    "def log_der(value):\n",
    "    \n",
    "    if isinstance(value, int) or isinstance(value, float): \n",
    "        pass\n",
    "    else:\n",
    "        return f'Incorrect value format given - {type(value)}. Give input as +ve integer or +ve float'\n",
    "    \n",
    "    if value > 0:\n",
    "        result = 1/value\n",
    "        return value\n",
    "    else:\n",
    "        return f'Derivative log can be calculated only for +ve values. Non-postive value {value} given as input'"
   ]
  },
  {
   "cell_type": "code",
   "execution_count": 38,
   "metadata": {},
   "outputs": [
    {
     "name": "stdout",
     "output_type": "stream",
     "text": [
      "Function: log_der, Arguments:(10,) and Output:10\n"
     ]
    },
    {
     "data": {
      "text/plain": [
       "10"
      ]
     },
     "execution_count": 38,
     "metadata": {},
     "output_type": "execute_result"
    }
   ],
   "source": [
    "log_der(10)"
   ]
  },
  {
   "cell_type": "code",
   "execution_count": 39,
   "metadata": {},
   "outputs": [],
   "source": [
    "@f_string_print\n",
    "def e_der(value):\n",
    "    \n",
    "    if isinstance(value, int) or isinstance(value, float): \n",
    "        pass\n",
    "    else:\n",
    "        return f'Incorrect value format given - {type(value)}. Give input as +ve integer or +ve float'\n",
    "    \n",
    "    result = math.exp(value)\n",
    "    return round(result,4)\n",
    "    "
   ]
  },
  {
   "cell_type": "code",
   "execution_count": 40,
   "metadata": {},
   "outputs": [
    {
     "name": "stdout",
     "output_type": "stream",
     "text": [
      "Function: e_der, Arguments:(0,) and Output:1.0\n"
     ]
    },
    {
     "data": {
      "text/plain": [
       "1.0"
      ]
     },
     "execution_count": 40,
     "metadata": {},
     "output_type": "execute_result"
    }
   ],
   "source": [
    "e_der(0)"
   ]
  },
  {
   "cell_type": "code",
   "execution_count": 41,
   "metadata": {},
   "outputs": [
    {
     "name": "stdout",
     "output_type": "stream",
     "text": [
      "Function: e_der, Arguments:(10,) and Output:22026.4658\n"
     ]
    },
    {
     "data": {
      "text/plain": [
       "22026.4658"
      ]
     },
     "execution_count": 41,
     "metadata": {},
     "output_type": "execute_result"
    }
   ],
   "source": [
    "e_der(10)"
   ]
  },
  {
   "cell_type": "code",
   "execution_count": null,
   "metadata": {},
   "outputs": [],
   "source": []
  }
 ],
 "metadata": {
  "kernelspec": {
   "display_name": "Python 3",
   "language": "python",
   "name": "python3"
  },
  "language_info": {
   "codemirror_mode": {
    "name": "ipython",
    "version": 3
   },
   "file_extension": ".py",
   "mimetype": "text/x-python",
   "name": "python",
   "nbconvert_exporter": "python",
   "pygments_lexer": "ipython3",
   "version": "3.8.3"
  }
 },
 "nbformat": 4,
 "nbformat_minor": 4
}
